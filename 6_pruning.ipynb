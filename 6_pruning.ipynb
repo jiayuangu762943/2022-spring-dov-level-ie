{
  "cells": [
    {
      "cell_type": "markdown",
      "metadata": {
        "id": "view-in-github",
        "colab_type": "text"
      },
      "source": [
        "<a href=\"https://colab.research.google.com/github/jiayuangu762943/2022-spring-dov-level-ie/blob/main/6_pruning.ipynb\" target=\"_parent\"><img src=\"https://colab.research.google.com/assets/colab-badge.svg\" alt=\"Open In Colab\"/></a>"
      ]
    },
    {
      "cell_type": "markdown",
      "metadata": {
        "id": "rT9UCMkJpQt4"
      },
      "source": [
        "# **6. Model Pruning**"
      ]
    },
    {
      "cell_type": "markdown",
      "metadata": {
        "id": "z69Judy_pm0f"
      },
      "source": [
        "## 6.0 Setup GDrive and Git"
      ]
    },
    {
      "cell_type": "code",
      "execution_count": 1,
      "metadata": {
        "id": "lDjNQ68KByBz",
        "colab": {
          "base_uri": "https://localhost:8080/"
        },
        "outputId": "caa3bef5-5973-4298-98be-a7b311db4dbc"
      },
      "outputs": [
        {
          "output_type": "stream",
          "name": "stdout",
          "text": [
            "Drive already mounted at /content/gdrive; to attempt to forcibly remount, call drive.mount(\"/content/gdrive\", force_remount=True).\n"
          ]
        }
      ],
      "source": [
        "# Mount google drive\n",
        "from google.colab import drive\n",
        "drive.mount('/content/gdrive')"
      ]
    },
    {
      "cell_type": "code",
      "execution_count": 2,
      "metadata": {
        "id": "Xc4_W3YKB7g_"
      },
      "outputs": [],
      "source": [
        "\n",
        "# Make sure your token is stored in a txt file at the location below.\n",
        "# This way there is no risk that you will push it to your repo\n",
        "# Never share your token with anyone, it is basically your github password!\n",
        "with open('/content/gdrive/MyDrive/ece5545/token.txt') as f:\n",
        "    token = f.readline().strip()\n",
        "# Use another file to store your github username\n",
        "with open('/content/gdrive/MyDrive/ece5545/git_username.txt') as f:\n",
        "    handle = f.readline().strip()"
      ]
    },
    {
      "cell_type": "code",
      "execution_count": 3,
      "metadata": {
        "id": "hCPU1IvvB7r6",
        "colab": {
          "base_uri": "https://localhost:8080/"
        },
        "outputId": "478adf8a-c6c1-462d-f71c-2fc5415592fc"
      },
      "outputs": [
        {
          "output_type": "stream",
          "name": "stdout",
          "text": [
            "mkdir: cannot create directory ‘/content/gdrive/MyDrive/ece5545’: File exists\n",
            "/content/gdrive/MyDrive/ece5545\n",
            "fatal: destination path 'a2-jiayuangu762943' already exists and is not an empty directory.\n",
            "/content/gdrive/MyDrive/ece5545/a2-jiayuangu762943\n",
            "Already on 'main'\n",
            "Your branch is up to date with 'origin/main'.\n",
            "remote: Enumerating objects: 6, done.\u001b[K\n",
            "remote: Counting objects: 100% (2/2), done.\u001b[K\n",
            "remote: Total 6 (delta 1), reused 1 (delta 1), pack-reused 4 (from 1)\u001b[K\n",
            "Unpacking objects: 100% (6/6), 109.93 KiB | 872.00 KiB/s, done.\n",
            "From https://github.com/ML-HW-SYS/a2-jiayuangu762943\n",
            "   cf8ffc5..336a889  main       -> origin/main\n",
            "Updating cf8ffc5..336a889\n",
            "Fast-forward\n",
            " 6_pruning.ipynb | 1018 \u001b[32m+++++++++++++++++++++++++++++++++++++++++++++++++\u001b[m\u001b[31m--------------------------\u001b[m\n",
            " 1 file changed, 667 insertions(+), 351 deletions(-)\n",
            "/content/gdrive/MyDrive/ece5545\n"
          ]
        }
      ],
      "source": [
        "# Clone your github repo\n",
        "YOUR_TOKEN = token\n",
        "YOUR_HANDLE = handle\n",
        "BRANCH = \"main\"\n",
        "\n",
        "%mkdir /content/gdrive/MyDrive/ece5545\n",
        "%cd /content/gdrive/MyDrive/ece5545\n",
        "!git clone https://{YOUR_TOKEN}@github.com/ML-HW-SYS/a2-{YOUR_HANDLE}.git\n",
        "%cd /content/gdrive/MyDrive/ece5545/a2-{YOUR_HANDLE}\n",
        "!git checkout {BRANCH}\n",
        "!git pull\n",
        "%cd /content/gdrive/MyDrive/ece5545\n",
        "\n",
        "PROJECT_ROOT = f\"/content/gdrive/MyDrive/ece5545/a2-{YOUR_HANDLE}\""
      ]
    },
    {
      "cell_type": "code",
      "execution_count": 4,
      "metadata": {
        "id": "aKMJj5f1B7zb"
      },
      "outputs": [],
      "source": [
        "\n",
        "# This extension reloads all imports before running each cell\n",
        "%load_ext autoreload\n",
        "%autoreload 2"
      ]
    },
    {
      "cell_type": "markdown",
      "metadata": {
        "id": "jWpupyC8p7fD"
      },
      "source": [
        "### GPU: Ensure you are running the GPU runtime type:\n",
        "1.   Click \"Runtime\" on top banner\n",
        "2.   Select \"Change runtime type\"\n",
        "3.   Under \"Hardware accelarator\" select \"GPU\" and save"
      ]
    },
    {
      "cell_type": "markdown",
      "metadata": {
        "id": "Se1IC3sCqTYF"
      },
      "source": [
        "### Install required packages"
      ]
    },
    {
      "cell_type": "code",
      "execution_count": 5,
      "metadata": {
        "id": "0VWKHppopJTu",
        "colab": {
          "base_uri": "https://localhost:8080/"
        },
        "outputId": "3cb30064-3367-420f-ed26-933660405098"
      },
      "outputs": [
        {
          "output_type": "stream",
          "name": "stdout",
          "text": [
            "Requirement already satisfied: torchaudio in /usr/local/lib/python3.11/dist-packages (2.6.0+cu124)\n",
            "Requirement already satisfied: torch==2.6.0 in /usr/local/lib/python3.11/dist-packages (from torchaudio) (2.6.0+cu124)\n",
            "Requirement already satisfied: filelock in /usr/local/lib/python3.11/dist-packages (from torch==2.6.0->torchaudio) (3.17.0)\n",
            "Requirement already satisfied: typing-extensions>=4.10.0 in /usr/local/lib/python3.11/dist-packages (from torch==2.6.0->torchaudio) (4.12.2)\n",
            "Requirement already satisfied: networkx in /usr/local/lib/python3.11/dist-packages (from torch==2.6.0->torchaudio) (3.4.2)\n",
            "Requirement already satisfied: jinja2 in /usr/local/lib/python3.11/dist-packages (from torch==2.6.0->torchaudio) (3.1.6)\n",
            "Requirement already satisfied: fsspec in /usr/local/lib/python3.11/dist-packages (from torch==2.6.0->torchaudio) (2024.10.0)\n",
            "Requirement already satisfied: nvidia-cuda-nvrtc-cu12==12.4.127 in /usr/local/lib/python3.11/dist-packages (from torch==2.6.0->torchaudio) (12.4.127)\n",
            "Requirement already satisfied: nvidia-cuda-runtime-cu12==12.4.127 in /usr/local/lib/python3.11/dist-packages (from torch==2.6.0->torchaudio) (12.4.127)\n",
            "Requirement already satisfied: nvidia-cuda-cupti-cu12==12.4.127 in /usr/local/lib/python3.11/dist-packages (from torch==2.6.0->torchaudio) (12.4.127)\n",
            "Requirement already satisfied: nvidia-cudnn-cu12==9.1.0.70 in /usr/local/lib/python3.11/dist-packages (from torch==2.6.0->torchaudio) (9.1.0.70)\n",
            "Requirement already satisfied: nvidia-cublas-cu12==12.4.5.8 in /usr/local/lib/python3.11/dist-packages (from torch==2.6.0->torchaudio) (12.4.5.8)\n",
            "Requirement already satisfied: nvidia-cufft-cu12==11.2.1.3 in /usr/local/lib/python3.11/dist-packages (from torch==2.6.0->torchaudio) (11.2.1.3)\n",
            "Requirement already satisfied: nvidia-curand-cu12==10.3.5.147 in /usr/local/lib/python3.11/dist-packages (from torch==2.6.0->torchaudio) (10.3.5.147)\n",
            "Requirement already satisfied: nvidia-cusolver-cu12==11.6.1.9 in /usr/local/lib/python3.11/dist-packages (from torch==2.6.0->torchaudio) (11.6.1.9)\n",
            "Requirement already satisfied: nvidia-cusparse-cu12==12.3.1.170 in /usr/local/lib/python3.11/dist-packages (from torch==2.6.0->torchaudio) (12.3.1.170)\n",
            "Requirement already satisfied: nvidia-cusparselt-cu12==0.6.2 in /usr/local/lib/python3.11/dist-packages (from torch==2.6.0->torchaudio) (0.6.2)\n",
            "Requirement already satisfied: nvidia-nccl-cu12==2.21.5 in /usr/local/lib/python3.11/dist-packages (from torch==2.6.0->torchaudio) (2.21.5)\n",
            "Requirement already satisfied: nvidia-nvtx-cu12==12.4.127 in /usr/local/lib/python3.11/dist-packages (from torch==2.6.0->torchaudio) (12.4.127)\n",
            "Requirement already satisfied: nvidia-nvjitlink-cu12==12.4.127 in /usr/local/lib/python3.11/dist-packages (from torch==2.6.0->torchaudio) (12.4.127)\n",
            "Requirement already satisfied: triton==3.2.0 in /usr/local/lib/python3.11/dist-packages (from torch==2.6.0->torchaudio) (3.2.0)\n",
            "Requirement already satisfied: sympy==1.13.1 in /usr/local/lib/python3.11/dist-packages (from torch==2.6.0->torchaudio) (1.13.1)\n",
            "Requirement already satisfied: mpmath<1.4,>=1.1.0 in /usr/local/lib/python3.11/dist-packages (from sympy==1.13.1->torch==2.6.0->torchaudio) (1.3.0)\n",
            "Requirement already satisfied: MarkupSafe>=2.0 in /usr/local/lib/python3.11/dist-packages (from jinja2->torch==2.6.0->torchaudio) (3.0.2)\n"
          ]
        }
      ],
      "source": [
        "!pip install torchaudio"
      ]
    },
    {
      "cell_type": "markdown",
      "metadata": {
        "id": "GbUE5nAHqhEo"
      },
      "source": [
        "### Import code dependencies"
      ]
    },
    {
      "cell_type": "code",
      "execution_count": 6,
      "metadata": {
        "id": "bqEyUIUnpJTx",
        "outputId": "ebc9d327-37be-49c8-d87e-6e31b93acf8b",
        "colab": {
          "base_uri": "https://localhost:8080/"
        }
      },
      "outputs": [
        {
          "output_type": "stream",
          "name": "stdout",
          "text": [
            "Model folders are created, \n",
            "PyTorch models will be saved in /content/gdrive/MyDrive/ece5545/models/torch_models, \n",
            "ONNX models will be saved in /content/gdrive/MyDrive/ece5545/models/onnx_models, \n",
            "TensorFlow Saved Models will be saved in /content/gdrive/MyDrive/ece5545/models/tf_models, \n",
            "TensorFlow Lite models will be saved in /content/gdrive/MyDrive/ece5545/models/tflite_models, \n",
            "TensorFlow Lite Micro models will be saved in /content/gdrive/MyDrive/ece5545/models/micro_models.\n"
          ]
        }
      ],
      "source": [
        "\n",
        "# Import libraries\n",
        "import torch\n",
        "import torch.nn as nn\n",
        "import torch.nn.functional as F\n",
        "import torch.optim as optim\n",
        "import torch.nn.utils.prune as prune\n",
        "\n",
        "import matplotlib.pyplot as plt\n",
        "from tqdm.notebook import tqdm\n",
        "import numpy as np\n",
        "import copy\n",
        "\n",
        "import time\n",
        "\n",
        "import sys\n",
        "\n",
        "# Adding assignment1 to the system path-- make sure this matches your git directory\n",
        "sys.path.insert(0, PROJECT_ROOT)\n",
        "\n",
        "# Import data_proc to use data processing functions\n",
        "import src.data_proc as data_proc\n",
        "\n",
        "# Import constants to use constants defined for training\n",
        "from src.constants import *\n",
        "\n",
        "# TensorBoard\n",
        "from torch.utils.tensorboard import SummaryWriter\n",
        "\n",
        "# Set random seed\n",
        "# Make sure the shuffling and picking is deterministic\n",
        "# Note that different value of random_seed may change rate of variation in loss/accuracy during training\n",
        "# Using the same random seed value every time you rerun the notebook will\n",
        "# reproduce the training and testing results\n",
        "random_seed = 0\n",
        "torch.manual_seed(random_seed)\n",
        "torch.cuda.manual_seed(random_seed)"
      ]
    },
    {
      "cell_type": "markdown",
      "metadata": {
        "id": "tfyFWNsHpJTy"
      },
      "source": [
        "## 6.1 Prepare for Training\n",
        "\n"
      ]
    },
    {
      "cell_type": "code",
      "execution_count": 7,
      "metadata": {
        "id": "NEBTHpmypJTz",
        "colab": {
          "base_uri": "https://localhost:8080/"
        },
        "outputId": "9cef1577-164b-474e-9dcf-e7712527fa84"
      },
      "outputs": [
        {
          "output_type": "stream",
          "name": "stdout",
          "text": [
            ">> Downloading speech_commands_v0.02.tar.gz 100.0%\n",
            "Audio_processor created\n",
            "Using cpu to run the training scrpit.\n",
            "Train size: 10556 Val size: 1333 Test size: 1368\n"
          ]
        },
        {
          "output_type": "execute_result",
          "data": {
            "text/plain": [
              "TinyConv(\n",
              "  (conv_reshape): Reshape(output_shape=(-1, 1, 49, 40))\n",
              "  (conv): Conv2d(1, 8, kernel_size=(10, 8), stride=(2, 2), padding=(5, 3))\n",
              "  (relu): ReLU()\n",
              "  (dropout): Dropout(p=0.5, inplace=False)\n",
              "  (fc_reshape): Reshape(output_shape=(-1, 4000))\n",
              "  (fc): Linear(in_features=4000, out_features=4, bias=True)\n",
              "  (softmax): Softmax(dim=1)\n",
              ")"
            ]
          },
          "metadata": {},
          "execution_count": 7
        }
      ],
      "source": [
        "# Create audio_processor\n",
        "# DATASET_DIR is defined in constants.py\n",
        "audio_processor = data_proc.AudioProcessor()\n",
        "print(\"Audio_processor created\")\n",
        "\n",
        "# Define device\n",
        "device = torch.device(\"cuda\" if torch.cuda.is_available() else \"cpu\")\n",
        "print(f'Using {device} to run the training scrpit.')\n",
        "\n",
        "# Define data loaders\n",
        "\n",
        "from src.loaders import make_data_loaders\n",
        "data_loaders = make_data_loaders(audio_processor, device)\n",
        "train_loader = data_loaders['training']\n",
        "test_loader = data_loaders['testing']\n",
        "valid_loader = data_loaders['validation']\n",
        "\n",
        "# Create a full precision (float32) TinyConv model\n",
        "from src.networks import TinyConv\n",
        "model_fp32 = TinyConv(model_settings=audio_processor.model_settings, \\\n",
        "    n_input=1, n_output=audio_processor.num_labels)\n",
        "\n",
        "model_fp32"
      ]
    },
    {
      "cell_type": "code",
      "execution_count": 8,
      "metadata": {
        "id": "87-ko6koBE54",
        "outputId": "22fe6553-0578-4872-a172-c39a47a46cf5",
        "colab": {
          "base_uri": "https://localhost:8080/"
        }
      },
      "outputs": [
        {
          "output_type": "stream",
          "name": "stdout",
          "text": [
            " fp32_checkpoint.pt\t      '(QAT4bit)quant_0.pt'   quant_checkpoint.pt\n",
            " fp32_finetune_checkpoint.pt  '(QAT6bit)quant_0.pt'   tinyconv_float32_init_seed0_90.20%_0.pt\n",
            "'(QAT2bit)quant_0.pt'\t      '(QAT8bit)quant_0.pt'\n"
          ]
        }
      ],
      "source": [
        "!ls {TORCH_DIR}"
      ]
    },
    {
      "cell_type": "markdown",
      "metadata": {
        "id": "p0kYnxYUBE54"
      },
      "source": [
        "### **TODO: Replace the torch_path model with the model you created in the last section.**\n",
        "\n",
        "You can find the name of your file in `TORCH_DIR` under the folder icon to the left. (Or from running the tab above)."
      ]
    },
    {
      "cell_type": "code",
      "execution_count": null,
      "metadata": {
        "id": "ZoRiIMnlBE55",
        "colab": {
          "base_uri": "https://localhost:8080/",
          "height": 193
        },
        "outputId": "2ed20a67-e1a0-495c-9673-f760a174079f"
      },
      "outputs": [
        {
          "output_type": "error",
          "ename": "NameError",
          "evalue": "name 'copy' is not defined",
          "traceback": [
            "\u001b[0;31m---------------------------------------------------------------------------\u001b[0m",
            "\u001b[0;31mNameError\u001b[0m                                 Traceback (most recent call last)",
            "\u001b[0;32m<ipython-input-9-d37036578df6>\u001b[0m in \u001b[0;36m<cell line: 0>\u001b[0;34m()\u001b[0m\n\u001b[1;32m      4\u001b[0m \u001b[0;31m# Load model\u001b[0m\u001b[0;34m\u001b[0m\u001b[0;34m\u001b[0m\u001b[0m\n\u001b[1;32m      5\u001b[0m \u001b[0mmodel_fp32\u001b[0m\u001b[0;34m.\u001b[0m\u001b[0mload_state_dict\u001b[0m\u001b[0;34m(\u001b[0m\u001b[0mtorch\u001b[0m\u001b[0;34m.\u001b[0m\u001b[0mload\u001b[0m\u001b[0;34m(\u001b[0m\u001b[0mtorch_path\u001b[0m\u001b[0;34m,\u001b[0m \u001b[0mmap_location\u001b[0m\u001b[0;34m=\u001b[0m\u001b[0mtorch\u001b[0m\u001b[0;34m.\u001b[0m\u001b[0mdevice\u001b[0m\u001b[0;34m(\u001b[0m\u001b[0;34m'cpu'\u001b[0m\u001b[0;34m)\u001b[0m\u001b[0;34m)\u001b[0m\u001b[0;34m)\u001b[0m\u001b[0;34m\u001b[0m\u001b[0;34m\u001b[0m\u001b[0m\n\u001b[0;32m----> 6\u001b[0;31m \u001b[0mmodel_fp32_orig\u001b[0m \u001b[0;34m=\u001b[0m \u001b[0mcopy\u001b[0m\u001b[0;34m.\u001b[0m\u001b[0mdeepcopy\u001b[0m\u001b[0;34m(\u001b[0m\u001b[0mmodel_fp32\u001b[0m\u001b[0;34m)\u001b[0m\u001b[0;34m\u001b[0m\u001b[0;34m\u001b[0m\u001b[0m\n\u001b[0m\u001b[1;32m      7\u001b[0m \u001b[0mmodel_fp32\u001b[0m\u001b[0;34m,\u001b[0m \u001b[0mmodel_fp32_orig\u001b[0m\u001b[0;34m\u001b[0m\u001b[0;34m\u001b[0m\u001b[0m\n",
            "\u001b[0;31mNameError\u001b[0m: name 'copy' is not defined"
          ]
        }
      ],
      "source": [
        "# TODO: Replace me!\n",
        "torch_path = os.path.join(\"/content/gdrive/MyDrive/ece5545/models/torch_models/\", \"tinyconv_float32_init_seed0_90.20%_0.pt\")\n",
        "\n",
        "# Load model\n",
        "model_fp32.load_state_dict(torch.load(torch_path, map_location=torch.device('cpu')))\n",
        "model_fp32_orig = copy.deepcopy(model_fp32)\n",
        "model_fp32, model_fp32_orig"
      ]
    },
    {
      "cell_type": "markdown",
      "metadata": {
        "id": "ybjOCEoRpJT5"
      },
      "source": [
        "## 6.2 Structured Pruning\n",
        "\n",
        "In this section, you will try to conduct structured pruning on the TinyConv model and explore its effect on performance.\n",
        "In this notebook, you will be only given minimum scarfolding code. Please take advantages of the code in previous section to faciliate.\n",
        "\n",
        "Following link will be helpful:\n",
        "[torch.nn.utils.prune.LnStructured](https://pytorch.org/docs/stable/generated/torch.nn.utils.prune.LnStructured.html?highlight=prune#torch.nn.utils.prune.LnStructured.prune)\n",
        "[Torch pruning tutorial](https://pytorch.org/tutorials/intermediate/pruning_tutorial.html?highlight=prune)"
      ]
    },
    {
      "cell_type": "markdown",
      "source": [
        "### from part 5"
      ],
      "metadata": {
        "id": "KeOtT1VHdBDu"
      }
    },
    {
      "cell_type": "code",
      "source": [
        "from src.train_val_test_utils import train, test\n",
        "\n",
        "def run_training(model, data_loaders, n_epoch, log_interval, optimizer, scheduler=None,\n",
        "                 save_interval=1, resume=True, checkpoint_path=None, verbose=False):\n",
        "    with tqdm(total=n_epoch) as pbar:\n",
        "        completed_epoch = 1\n",
        "        if resume:\n",
        "            try:\n",
        "                if checkpoint_path is None:\n",
        "                    raise ValueError\n",
        "                checkpoint = torch.load(checkpoint_path)\n",
        "                model.load_state_dict(checkpoint['model_state_dict'])\n",
        "                optimizer.load_state_dict(checkpoint['optimizer_state_dict'])\n",
        "                if scheduler is not None:\n",
        "                    scheduler.load_state_dict(checkpoint['scheduler_state_dict'])\n",
        "                completed_epoch = checkpoint[\"epoch\"] + 1\n",
        "                model.eval()\n",
        "                pbar.update(completed_epoch)\n",
        "            except:\n",
        "                pass\n",
        "\n",
        "        for epoch in range(completed_epoch, n_epoch + 1):\n",
        "            train(model, data_loaders, optimizer, epoch, device, verbose)\n",
        "            test(test_loader, model, device, epoch=None, loader_type='Test')\n",
        "\n",
        "            if scheduler is not None:\n",
        "                scheduler.step()\n",
        "            if epoch % save_interval == 0 and checkpoint_path is not None:\n",
        "                torch.save({\n",
        "                    'epoch': epoch,\n",
        "                    'model_state_dict': model.state_dict(),\n",
        "                    'optimizer_state_dict': optimizer.state_dict(),\n",
        "                    'scheduler_state_dict': scheduler.state_dict() if scheduler is not None else None\n",
        "                }, checkpoint_path)\n",
        "\n",
        "            pbar.update(1)\n",
        "\n",
        "def accuracy(test_loader, model, device='cpu'):\n",
        "    model.to(device)\n",
        "    model.eval()\n",
        "    num_correct = 0\n",
        "    total_time = 0.0\n",
        "    total_samples = 0\n",
        "\n",
        "    with torch.no_grad():\n",
        "        for data, label in test_loader:\n",
        "            data = data.to(device)\n",
        "            label = label.to(device)\n",
        "\n",
        "            start_time = time.time()\n",
        "            outputs = model(data)\n",
        "            end_time = time.time()\n",
        "\n",
        "            batch_time = end_time - start_time\n",
        "            total_time += batch_time\n",
        "            total_samples += data.size(0)\n",
        "\n",
        "            predict = outputs.argmax(dim=-1)\n",
        "            num_correct += predict.squeeze().eq(label).sum().item()\n",
        "            print(\"batch_time\", batch_time)\n",
        "            print(\"batch_sample\", data.size(0))\n",
        "\n",
        "    model_acc = num_correct / len(test_loader.dataset)\n",
        "    avg_inference_time = total_time / total_samples\n",
        "    print(f'Model predicts {model_acc*100:.3f}% of the samples correctly.')\n",
        "    print(f'Average inference time per sample: {avg_inference_time*1000:.3f} ms.\\n')\n",
        "\n",
        "    return model_acc, avg_inference_time\n",
        "\n",
        "def count_nonzero_weights(model):\n",
        "    \"\"\"\n",
        "    Counts nonzero weights for modules without pruning wrappers.\n",
        "    \"\"\"\n",
        "    count = 0\n",
        "    for param in model.parameters():\n",
        "        count += torch.count_nonzero(param).item()\n",
        "    return count"
      ],
      "metadata": {
        "id": "X_KwN28bdAWn"
      },
      "execution_count": 10,
      "outputs": []
    },
    {
      "cell_type": "markdown",
      "source": [
        "### from part 4"
      ],
      "metadata": {
        "id": "JTqM-HojcH9P"
      }
    },
    {
      "cell_type": "code",
      "source": [
        "%load_ext autoreload\n",
        "%autoreload 2"
      ],
      "metadata": {
        "id": "icWToYA2aKSB"
      },
      "execution_count": null,
      "outputs": []
    },
    {
      "cell_type": "code",
      "source": [
        "!pip3 install onnx\n",
        "!pip3 install tensorflow-addons\n",
        "!pip3 install tensorflow-probability\n",
        "\n",
        "!pip3 install torchaudio\n",
        "\n",
        "# Install onnx-tensorflow\n",
        "# !git clone https://github.com/onnx/onnx-tensorflow.git\n",
        "# !cd onnx-tensorflow && pip3 install -e .\n",
        "!pip3 install onnx-tf==1.9.0\n",
        "!pip install 'keras<3.0.0'\n",
        "!pip install tensorflow==2.12.0"
      ],
      "metadata": {
        "id": "cPQ8k1y4Z8ej",
        "outputId": "d154e699-11e0-413f-de00-deffea8aeaaf",
        "colab": {
          "base_uri": "https://localhost:8080/"
        }
      },
      "execution_count": 3,
      "outputs": [
        {
          "output_type": "stream",
          "name": "stdout",
          "text": [
            "Collecting onnx\n",
            "  Downloading onnx-1.17.0-cp311-cp311-manylinux_2_17_x86_64.manylinux2014_x86_64.whl.metadata (16 kB)\n",
            "Requirement already satisfied: numpy>=1.20 in /usr/local/lib/python3.11/dist-packages (from onnx) (1.26.4)\n",
            "Requirement already satisfied: protobuf>=3.20.2 in /usr/local/lib/python3.11/dist-packages (from onnx) (4.25.6)\n",
            "Downloading onnx-1.17.0-cp311-cp311-manylinux_2_17_x86_64.manylinux2014_x86_64.whl (16.0 MB)\n",
            "\u001b[2K   \u001b[90m━━━━━━━━━━━━━━━━━━━━━━━━━━━━━━━━━━━━━━━━\u001b[0m \u001b[32m16.0/16.0 MB\u001b[0m \u001b[31m42.4 MB/s\u001b[0m eta \u001b[36m0:00:00\u001b[0m\n",
            "\u001b[?25hInstalling collected packages: onnx\n",
            "Successfully installed onnx-1.17.0\n",
            "Traceback (most recent call last):\n",
            "  File \"/usr/local/bin/pip3\", line 10, in <module>\n",
            "    sys.exit(main())\n",
            "             ^^^^^^\n",
            "  File \"/usr/local/lib/python3.11/dist-packages/pip/_internal/cli/main.py\", line 78, in main\n",
            "    command = create_command(cmd_name, isolated=(\"--isolated\" in cmd_args))\n",
            "              ^^^^^^^^^^^^^^^^^^^^^^^^^^^^^^^^^^^^^^^^^^^^^^^^^^^^^^^^^^^^^\n",
            "  File \"/usr/local/lib/python3.11/dist-packages/pip/_internal/commands/__init__.py\", line 114, in create_command\n",
            "    module = importlib.import_module(module_path)\n",
            "             ^^^^^^^^^^^^^^^^^^^^^^^^^^^^^^^^^^^^\n",
            "  File \"/usr/lib/python3.11/importlib/__init__.py\", line 126, in import_module\n",
            "    return _bootstrap._gcd_import(name[level:], package, level)\n",
            "           ^^^^^^^^^^^^^^^^^^^^^^^^^^^^^^^^^^^^^^^^^^^^^^^^^^^^\n",
            "  File \"<frozen importlib._bootstrap>\", line 1204, in _gcd_import\n",
            "  File \"<frozen importlib._bootstrap>\", line 1176, in _find_and_load\n",
            "  File \"<frozen importlib._bootstrap>\", line 1147, in _find_and_load_unlocked\n",
            "  File \"<frozen importlib._bootstrap>\", line 690, in _load_unlocked\n",
            "  File \"<frozen importlib._bootstrap_external>\", line 940, in exec_module\n",
            "  File \"<frozen importlib._bootstrap>\", line 241, in _call_with_frames_removed\n",
            "  File \"/usr/local/lib/python3.11/dist-packages/pip/_internal/commands/install.py\", line 15, in <module>\n",
            "    from pip._internal.cli.req_command import (\n",
            "  File \"/usr/local/lib/python3.11/dist-packages/pip/_internal/cli/req_command.py\", line 18, in <module>\n",
            "    from pip._internal.index.collector import LinkCollector\n",
            "  File \"/usr/local/lib/python3.11/dist-packages/pip/_internal/index/collector.py\", line 44, in <module>\n",
            "    from .sources import CandidatesFromPage, LinkSource, build_source\n",
            "  File \"/usr/local/lib/python3.11/dist-packages/pip/_internal/index/sources.py\", line 16, in <module>\n",
            "    from pip._internal.models.candidate import InstallationCandidate\n",
            "  File \"/usr/local/lib/python3.11/dist-packages/pip/_internal/models/candidate.py\", line 9, in <module>\n",
            "    @dataclass(frozen=True)\n",
            "     ^^^^^^^^^^^^^^^^^^^^^^\n",
            "  File \"/usr/lib/python3.11/dataclasses.py\", line 1222, in wrap\n",
            "    return _process_class(cls, init, repr, eq, order, unsafe_hash,\n",
            "           ^^^^^^^^^^^^^^^^^^^^^^^^^^^^^^^^^^^^^^^^^^^^^^^^^^^^^^^\n",
            "  File \"/usr/lib/python3.11/dataclasses.py\", line 1078, in _process_class\n",
            "    for fn in _frozen_get_del_attr(cls, field_list, globals):\n",
            "              ^^^^^^^^^^^^^^^^^^^^^^^^^^^^^^^^^^^^^^^^^^^^^^\n",
            "  File \"/usr/lib/python3.11/dataclasses.py\", line 614, in _frozen_get_del_attr\n",
            "    _create_fn('__delattr__',\n",
            "  File \"/usr/lib/python3.11/dataclasses.py\", line 433, in _create_fn\n",
            "    exec(txt, globals, ns)\n",
            "  File \"<string>\", line 0, in <module>\n",
            "KeyboardInterrupt\n",
            "^C\n",
            "Requirement already satisfied: tensorflow-probability in /usr/local/lib/python3.11/dist-packages (0.25.0)\n",
            "Requirement already satisfied: absl-py in /usr/local/lib/python3.11/dist-packages (from tensorflow-probability) (1.4.0)\n",
            "Requirement already satisfied: six>=1.10.0 in /usr/local/lib/python3.11/dist-packages (from tensorflow-probability) (1.17.0)\n",
            "Requirement already satisfied: numpy>=1.13.3 in /usr/local/lib/python3.11/dist-packages (from tensorflow-probability) (1.26.4)\n",
            "Requirement already satisfied: decorator in /usr/local/lib/python3.11/dist-packages (from tensorflow-probability) (4.4.2)\n",
            "Requirement already satisfied: cloudpickle>=1.3 in /usr/local/lib/python3.11/dist-packages (from tensorflow-probability) (3.1.1)\n",
            "Requirement already satisfied: gast>=0.3.2 in /usr/local/lib/python3.11/dist-packages (from tensorflow-probability) (0.6.0)\n",
            "Requirement already satisfied: dm-tree in /usr/local/lib/python3.11/dist-packages (from tensorflow-probability) (0.1.9)\n",
            "Requirement already satisfied: attrs>=18.2.0 in /usr/local/lib/python3.11/dist-packages (from dm-tree->tensorflow-probability) (25.2.0)\n",
            "Requirement already satisfied: wrapt>=1.11.2 in /usr/local/lib/python3.11/dist-packages (from dm-tree->tensorflow-probability) (1.17.2)\n",
            "Requirement already satisfied: torchaudio in /usr/local/lib/python3.11/dist-packages (2.6.0+cu124)\n",
            "Requirement already satisfied: torch==2.6.0 in /usr/local/lib/python3.11/dist-packages (from torchaudio) (2.6.0+cu124)\n",
            "Requirement already satisfied: filelock in /usr/local/lib/python3.11/dist-packages (from torch==2.6.0->torchaudio) (3.17.0)\n",
            "Requirement already satisfied: typing-extensions>=4.10.0 in /usr/local/lib/python3.11/dist-packages (from torch==2.6.0->torchaudio) (4.12.2)\n",
            "Requirement already satisfied: networkx in /usr/local/lib/python3.11/dist-packages (from torch==2.6.0->torchaudio) (3.4.2)\n",
            "Requirement already satisfied: jinja2 in /usr/local/lib/python3.11/dist-packages (from torch==2.6.0->torchaudio) (3.1.6)\n",
            "Requirement already satisfied: fsspec in /usr/local/lib/python3.11/dist-packages (from torch==2.6.0->torchaudio) (2024.10.0)\n",
            "Requirement already satisfied: nvidia-cuda-nvrtc-cu12==12.4.127 in /usr/local/lib/python3.11/dist-packages (from torch==2.6.0->torchaudio) (12.4.127)\n",
            "Requirement already satisfied: nvidia-cuda-runtime-cu12==12.4.127 in /usr/local/lib/python3.11/dist-packages (from torch==2.6.0->torchaudio) (12.4.127)\n",
            "Requirement already satisfied: nvidia-cuda-cupti-cu12==12.4.127 in /usr/local/lib/python3.11/dist-packages (from torch==2.6.0->torchaudio) (12.4.127)\n",
            "Requirement already satisfied: nvidia-cudnn-cu12==9.1.0.70 in /usr/local/lib/python3.11/dist-packages (from torch==2.6.0->torchaudio) (9.1.0.70)\n",
            "Requirement already satisfied: nvidia-cublas-cu12==12.4.5.8 in /usr/local/lib/python3.11/dist-packages (from torch==2.6.0->torchaudio) (12.4.5.8)\n",
            "Requirement already satisfied: nvidia-cufft-cu12==11.2.1.3 in /usr/local/lib/python3.11/dist-packages (from torch==2.6.0->torchaudio) (11.2.1.3)\n",
            "Requirement already satisfied: nvidia-curand-cu12==10.3.5.147 in /usr/local/lib/python3.11/dist-packages (from torch==2.6.0->torchaudio) (10.3.5.147)\n",
            "Requirement already satisfied: nvidia-cusolver-cu12==11.6.1.9 in /usr/local/lib/python3.11/dist-packages (from torch==2.6.0->torchaudio) (11.6.1.9)\n",
            "Requirement already satisfied: nvidia-cusparse-cu12==12.3.1.170 in /usr/local/lib/python3.11/dist-packages (from torch==2.6.0->torchaudio) (12.3.1.170)\n",
            "Requirement already satisfied: nvidia-cusparselt-cu12==0.6.2 in /usr/local/lib/python3.11/dist-packages (from torch==2.6.0->torchaudio) (0.6.2)\n",
            "Requirement already satisfied: nvidia-nccl-cu12==2.21.5 in /usr/local/lib/python3.11/dist-packages (from torch==2.6.0->torchaudio) (2.21.5)\n",
            "Requirement already satisfied: nvidia-nvtx-cu12==12.4.127 in /usr/local/lib/python3.11/dist-packages (from torch==2.6.0->torchaudio) (12.4.127)\n",
            "Requirement already satisfied: nvidia-nvjitlink-cu12==12.4.127 in /usr/local/lib/python3.11/dist-packages (from torch==2.6.0->torchaudio) (12.4.127)\n",
            "Requirement already satisfied: triton==3.2.0 in /usr/local/lib/python3.11/dist-packages (from torch==2.6.0->torchaudio) (3.2.0)\n",
            "Requirement already satisfied: sympy==1.13.1 in /usr/local/lib/python3.11/dist-packages (from torch==2.6.0->torchaudio) (1.13.1)\n",
            "Requirement already satisfied: mpmath<1.4,>=1.1.0 in /usr/local/lib/python3.11/dist-packages (from sympy==1.13.1->torch==2.6.0->torchaudio) (1.3.0)\n",
            "Requirement already satisfied: MarkupSafe>=2.0 in /usr/local/lib/python3.11/dist-packages (from jinja2->torch==2.6.0->torchaudio) (3.0.2)\n",
            "Collecting onnx-tf==1.9.0\n",
            "  Downloading onnx_tf-1.9.0-py3-none-any.whl.metadata (508 bytes)\n",
            "Requirement already satisfied: onnx>=1.9.0 in /usr/local/lib/python3.11/dist-packages (from onnx-tf==1.9.0) (1.17.0)\n",
            "Requirement already satisfied: PyYAML in /usr/local/lib/python3.11/dist-packages (from onnx-tf==1.9.0) (6.0.2)\n",
            "Collecting tensorflow-addons (from onnx-tf==1.9.0)\n",
            "  Downloading tensorflow_addons-0.23.0-cp311-cp311-manylinux_2_17_x86_64.manylinux2014_x86_64.whl.metadata (1.8 kB)\n",
            "Requirement already satisfied: numpy>=1.20 in /usr/local/lib/python3.11/dist-packages (from onnx>=1.9.0->onnx-tf==1.9.0) (1.26.4)\n",
            "Requirement already satisfied: protobuf>=3.20.2 in /usr/local/lib/python3.11/dist-packages (from onnx>=1.9.0->onnx-tf==1.9.0) (4.25.6)\n",
            "Requirement already satisfied: packaging in /usr/local/lib/python3.11/dist-packages (from tensorflow-addons->onnx-tf==1.9.0) (24.2)\n",
            "Collecting typeguard<3.0.0,>=2.7 (from tensorflow-addons->onnx-tf==1.9.0)\n",
            "  Downloading typeguard-2.13.3-py3-none-any.whl.metadata (3.6 kB)\n",
            "Downloading onnx_tf-1.9.0-py3-none-any.whl (222 kB)\n",
            "\u001b[2K   \u001b[90m━━━━━━━━━━━━━━━━━━━━━━━━━━━━━━━━━━━━━━━━\u001b[0m \u001b[32m222.6/222.6 kB\u001b[0m \u001b[31m5.3 MB/s\u001b[0m eta \u001b[36m0:00:00\u001b[0m\n",
            "\u001b[?25hDownloading tensorflow_addons-0.23.0-cp311-cp311-manylinux_2_17_x86_64.manylinux2014_x86_64.whl (611 kB)\n",
            "\u001b[2K   \u001b[90m━━━━━━━━━━━━━━━━━━━━━━━━━━━━━━━━━━━━━━━━\u001b[0m \u001b[32m611.8/611.8 kB\u001b[0m \u001b[31m25.3 MB/s\u001b[0m eta \u001b[36m0:00:00\u001b[0m\n",
            "\u001b[?25hDownloading typeguard-2.13.3-py3-none-any.whl (17 kB)\n",
            "Installing collected packages: typeguard, tensorflow-addons, onnx-tf\n",
            "  Attempting uninstall: typeguard\n",
            "    Found existing installation: typeguard 4.4.2\n",
            "\u001b[31mERROR: Operation cancelled by user\u001b[0m\u001b[31m\n",
            "\u001b[0m\u001b[31mERROR: Operation cancelled by user\u001b[0m\u001b[31m\n",
            "\u001b[0mTraceback (most recent call last):\n",
            "  File \"/usr/local/lib/python3.11/dist-packages/pip/_internal/cli/base_command.py\", line 179, in exc_logging_wrapper\n",
            "    status = run_func(*args)\n",
            "             ^^^^^^^^^^^^^^^\n",
            "  File \"/usr/local/lib/python3.11/dist-packages/pip/_internal/cli/req_command.py\", line 67, in wrapper\n",
            "    return func(self, options, args)\n",
            "           ^^^^^^^^^^^^^^^^^^^^^^^^^\n",
            "  File \"/usr/local/lib/python3.11/dist-packages/pip/_internal/commands/install.py\", line 362, in run\n",
            "    resolver = self.make_resolver(\n",
            "               ^^^^^^^^^^^^^^^^^^^\n",
            "  File \"/usr/local/lib/python3.11/dist-packages/pip/_internal/cli/req_command.py\", line 177, in make_resolver\n",
            "    return pip._internal.resolution.resolvelib.resolver.Resolver(\n",
            "           ^^^^^^^^^^^^^^^^^^^^^^^^^^^^^^^^^^^^^^^^^^^^^^^^^^^^^^\n",
            "  File \"/usr/local/lib/python3.11/dist-packages/pip/_internal/resolution/resolvelib/resolver.py\", line 58, in __init__\n",
            "    self.factory = Factory(\n",
            "                   ^^^^^^^^\n",
            "  File \"/usr/local/lib/python3.11/dist-packages/pip/_internal/resolution/resolvelib/factory.py\", line 127, in __init__\n",
            "    self._installed_dists = {\n",
            "                            ^\n",
            "  File \"/usr/local/lib/python3.11/dist-packages/pip/_internal/resolution/resolvelib/factory.py\", line 127, in <dictcomp>\n",
            "    self._installed_dists = {\n",
            "                            ^\n",
            "  File \"/usr/local/lib/python3.11/dist-packages/pip/_internal/metadata/base.py\", line 664, in <genexpr>\n",
            "    return (d for d in it if d.canonical_name not in skip)\n",
            "           ^^^^^^^^^^^^^^^^^^^^^^^^^^^^^^^^^^^^^^^^^^^^^^^\n",
            "  File \"/usr/local/lib/python3.11/dist-packages/pip/_internal/metadata/base.py\", line 612, in iter_all_distributions\n",
            "    for dist in self._iter_distributions():\n",
            "  File \"/usr/local/lib/python3.11/dist-packages/pip/_internal/metadata/importlib/_envs.py\", line 176, in _iter_distributions\n",
            "    yield from finder.find(location)\n",
            "  File \"/usr/local/lib/python3.11/dist-packages/pip/_internal/metadata/importlib/_envs.py\", line 79, in find\n",
            "    for dist, info_location in self._find_impl(location):\n",
            "  File \"/usr/local/lib/python3.11/dist-packages/pip/_internal/metadata/importlib/_envs.py\", line 64, in _find_impl\n",
            "    raw_name = get_dist_name(dist)\n",
            "               ^^^^^^^^^^^^^^^^^^^\n",
            "  File \"/usr/local/lib/python3.11/dist-packages/pip/_internal/metadata/importlib/_compat.py\", line 52, in get_dist_name\n",
            "    name = cast(Any, dist).name\n",
            "           ^^^^^^^^^^^^^^^^^^^^\n",
            "  File \"/usr/lib/python3.11/importlib/metadata/__init__.py\", line 622, in name\n",
            "    return self.metadata['Name']\n",
            "           ^^^^^^^^^^^^^\n",
            "  File \"/usr/lib/python3.11/importlib/metadata/__init__.py\", line 617, in metadata\n",
            "    return _adapters.Message(email.message_from_string(text))\n",
            "                             ^^^^^^^^^^^^^^^^^^^^^^^^^^^^^^^\n",
            "  File \"/usr/lib/python3.11/email/__init__.py\", line 37, in message_from_string\n",
            "    return Parser(*args, **kws).parsestr(s)\n",
            "           ^^^^^^^^^^^^^^^^^^^^^^^^^^^^^^^^\n",
            "  File \"/usr/lib/python3.11/email/parser.py\", line 67, in parsestr\n",
            "    return self.parse(StringIO(text), headersonly=headersonly)\n",
            "           ^^^^^^^^^^^^^^^^^^^^^^^^^^^^^^^^^^^^^^^^^^^^^^^^^^^\n",
            "  File \"/usr/lib/python3.11/email/parser.py\", line 56, in parse\n",
            "    feedparser.feed(data)\n",
            "  File \"/usr/lib/python3.11/email/feedparser.py\", line 174, in feed\n",
            "    self._call_parse()\n",
            "  File \"/usr/lib/python3.11/email/feedparser.py\", line 178, in _call_parse\n",
            "    self._parse()\n",
            "  File \"/usr/lib/python3.11/email/feedparser.py\", line 218, in _parsegen\n",
            "    self._new_message()\n",
            "  File \"/usr/lib/python3.11/email/feedparser.py\", line 199, in _new_message\n",
            "    msg = self._factory(policy=self.policy)\n",
            "          ^^^^^^^^^^^^^^^^^^^^^^^^^^^^^^^^^\n",
            "KeyboardInterrupt\n",
            "\n",
            "During handling of the above exception, another exception occurred:\n",
            "\n",
            "Traceback (most recent call last):\n",
            "  File \"/usr/local/bin/pip3\", line 10, in <module>\n",
            "    sys.exit(main())\n",
            "             ^^^^^^\n",
            "  File \"/usr/local/lib/python3.11/dist-packages/pip/_internal/cli/main.py\", line 80, in main\n",
            "    return command.main(cmd_args)\n",
            "           ^^^^^^^^^^^^^^^^^^^^^^\n",
            "  File \"/usr/local/lib/python3.11/dist-packages/pip/_internal/cli/base_command.py\", line 100, in main\n",
            "    return self._main(args)\n",
            "           ^^^^^^^^^^^^^^^^\n",
            "  File \"/usr/local/lib/python3.11/dist-packages/pip/_internal/cli/base_command.py\", line 232, in _main\n",
            "    return run(options, args)\n",
            "           ^^^^^^^^^^^^^^^^^^\n",
            "  File \"/usr/local/lib/python3.11/dist-packages/pip/_internal/cli/base_command.py\", line 215, in exc_logging_wrapper\n",
            "    logger.critical(\"Operation cancelled by user\")\n",
            "  File \"/usr/lib/python3.11/logging/__init__.py\", line 1536, in critical\n",
            "    self._log(CRITICAL, msg, args, **kwargs)\n",
            "  File \"/usr/lib/python3.11/logging/__init__.py\", line 1634, in _log\n",
            "    self.handle(record)\n",
            "  File \"/usr/lib/python3.11/logging/__init__.py\", line 1644, in handle\n",
            "    self.callHandlers(record)\n",
            "  File \"/usr/lib/python3.11/logging/__init__.py\", line 1706, in callHandlers\n",
            "    hdlr.handle(record)\n",
            "  File \"/usr/lib/python3.11/logging/__init__.py\", line 978, in handle\n",
            "    self.emit(record)\n",
            "  File \"/usr/local/lib/python3.11/dist-packages/pip/_internal/utils/logging.py\", line 177, in emit\n",
            "    self.console.print(renderable, overflow=\"ignore\", crop=False, style=style)\n",
            "  File \"/usr/local/lib/python3.11/dist-packages/pip/_vendor/rich/console.py\", line 1673, in print\n",
            "    with self:\n",
            "  File \"/usr/local/lib/python3.11/dist-packages/pip/_vendor/rich/console.py\", line 865, in __exit__\n",
            "    self._exit_buffer()\n",
            "  File \"/usr/local/lib/python3.11/dist-packages/pip/_vendor/rich/console.py\", line 823, in _exit_buffer\n",
            "    self._check_buffer()\n",
            "  File \"/usr/local/lib/python3.11/dist-packages/pip/_vendor/rich/console.py\", line 2060, in _check_buffer\n",
            "    self.file.write(text)\n",
            "KeyboardInterrupt\n",
            "^C\n",
            "Collecting tensorflow==2.12.0\n",
            "  Downloading tensorflow-2.12.0-cp311-cp311-manylinux_2_17_x86_64.manylinux2014_x86_64.whl.metadata (3.4 kB)\n",
            "Requirement already satisfied: absl-py>=1.0.0 in /usr/local/lib/python3.11/dist-packages (from tensorflow==2.12.0) (1.4.0)\n",
            "Requirement already satisfied: astunparse>=1.6.0 in /usr/local/lib/python3.11/dist-packages (from tensorflow==2.12.0) (1.6.3)\n",
            "Requirement already satisfied: flatbuffers>=2.0 in /usr/local/lib/python3.11/dist-packages (from tensorflow==2.12.0) (25.2.10)\n",
            "Collecting gast<=0.4.0,>=0.2.1 (from tensorflow==2.12.0)\n",
            "  Downloading gast-0.4.0-py3-none-any.whl.metadata (1.1 kB)\n",
            "Requirement already satisfied: google-pasta>=0.1.1 in /usr/local/lib/python3.11/dist-packages (from tensorflow==2.12.0) (0.2.0)\n",
            "Requirement already satisfied: grpcio<2.0,>=1.24.3 in /usr/local/lib/python3.11/dist-packages (from tensorflow==2.12.0) (1.71.0)\n",
            "Requirement already satisfied: h5py>=2.9.0 in /usr/local/lib/python3.11/dist-packages (from tensorflow==2.12.0) (3.12.1)\n",
            "Requirement already satisfied: jax>=0.3.15 in /usr/local/lib/python3.11/dist-packages (from tensorflow==2.12.0) (0.5.2)\n",
            "Collecting keras<2.13,>=2.12.0 (from tensorflow==2.12.0)\n",
            "  Downloading keras-2.12.0-py2.py3-none-any.whl.metadata (1.4 kB)\n",
            "Requirement already satisfied: libclang>=13.0.0 in /usr/local/lib/python3.11/dist-packages (from tensorflow==2.12.0) (18.1.1)\n",
            "\u001b[31mERROR: Operation cancelled by user\u001b[0m\u001b[31m\n",
            "\u001b[0m^C\n"
          ]
        }
      ]
    },
    {
      "cell_type": "code",
      "source": [
        " # Import libraries\n",
        "import sys,os\n",
        "PROJECT_ROOT = f\"/content/gdrive/MyDrive/ece5545/a2-jiayuangu762943\"\n",
        "# Add path to onnx-tensorflow\n",
        "sys.path.insert(0, os.path.join(PROJECT_ROOT, 'onnx-tensorflow'))\n",
        "sys.path.insert(0, PROJECT_ROOT)\n",
        "\n",
        "import onnx\n",
        "import torch\n",
        "import torch.nn as nn\n",
        "import numpy as np\n",
        "import os\n",
        "import tensorflow as tf\n",
        "print(f\"TensorFlow Version is: {tf.__version__}\")\n",
        "from onnx_tf.backend import prepare\n",
        "\n",
        "# Import constants to use constants defined for training\n",
        "from src.constants import *\n",
        "import src.data_proc as data_proc"
      ],
      "metadata": {
        "colab": {
          "base_uri": "https://localhost:8080/"
        },
        "id": "l_T_FdrGcFz8",
        "outputId": "0dd9737b-ae54-482d-b641-5b3433805859"
      },
      "execution_count": null,
      "outputs": [
        {
          "output_type": "stream",
          "name": "stdout",
          "text": [
            "TensorFlow Version is: 2.12.0\n"
          ]
        },
        {
          "output_type": "stream",
          "name": "stderr",
          "text": [
            "/usr/local/lib/python3.11/dist-packages/tensorflow_addons/utils/tfa_eol_msg.py:23: UserWarning: \n",
            "\n",
            "TensorFlow Addons (TFA) has ended development and introduction of new features.\n",
            "TFA has entered a minimal maintenance and release mode until a planned end of life in May 2024.\n",
            "Please modify downstream libraries to take dependencies from other repositories in our TensorFlow community (e.g. Keras, Keras-CV, and Keras-NLP). \n",
            "\n",
            "For more information see: https://github.com/tensorflow/addons/issues/2807 \n",
            "\n",
            "  warnings.warn(\n",
            "/usr/local/lib/python3.11/dist-packages/tensorflow_addons/utils/ensure_tf_install.py:53: UserWarning: Tensorflow Addons supports using Python ops for all Tensorflow versions above or equal to 2.13.0 and strictly below 2.16.0 (nightly versions are not supported). \n",
            " The versions of TensorFlow you are currently using is 2.12.0 and is not supported. \n",
            "Some things might work, some things might not.\n",
            "If you were to encounter a bug, do not file an issue.\n",
            "If you want to make sure you're using a tested and supported configuration, either change the TensorFlow version or the TensorFlow Addons's version. \n",
            "You can find the compatibility matrix in TensorFlow Addon's readme:\n",
            "https://github.com/tensorflow/addons\n",
            "  warnings.warn(\n"
          ]
        },
        {
          "output_type": "stream",
          "name": "stdout",
          "text": [
            "Model folders are created, \n",
            "PyTorch models will be saved in /content/models/torch_models, \n",
            "ONNX models will be saved in /content/models/onnx_models, \n",
            "TensorFlow Saved Models will be saved in /content/models/tf_models, \n",
            "TensorFlow Lite models will be saved in /content/models/tflite_models, \n",
            "TensorFlow Lite Micro models will be saved in /content/models/micro_models.\n"
          ]
        }
      ]
    },
    {
      "cell_type": "code",
      "source": [
        "import os\n",
        "import torch\n",
        "import numpy as np\n",
        "import onnx\n",
        "import tensorflow as tf\n",
        "from onnx_tf.backend import prepare\n",
        "\n",
        "def export_model_without_first_last(model):\n",
        "\n",
        "    new_model = nn.Sequential()\n",
        "    # Exclude conv_reshape (first layer) and softmax (last layer)\n",
        "    new_model.add_module(\"conv\", model.conv)\n",
        "    new_model.add_module(\"relu\", model.relu)\n",
        "    new_model.add_module(\"dropout\", model.dropout)\n",
        "    new_model.add_module(\"fc_reshape\", model.fc_reshape)\n",
        "    new_model.add_module(\"fc\", model.fc)\n",
        "    return new_model\n",
        "\n",
        "\n",
        "def export_model_as_c_array(pytorch_model, c_array_path=\"mycustom/micro_model.cc\",\n",
        "                            onnx_path=\"pruned_model.onnx\",\n",
        "                            tf_path=\"pruned_model_saved\",\n",
        "                            tflite_path=\"pruned_model.tflite\"):\n",
        "\n",
        "    # 1) Export model to ONNX\n",
        "    dummy_input = torch.randn(1, 1, 49, 40)  # Adjust to your model’s input shape\n",
        "    torch.onnx.export(\n",
        "        pytorch_model,\n",
        "        dummy_input,\n",
        "        onnx_path,\n",
        "        input_names=['input'],\n",
        "        output_names=['output'],\n",
        "        export_params=True\n",
        "    )\n",
        "    print(f\"ONNX model saved to {onnx_path}\")\n",
        "\n",
        "    # 2) Load ONNX into TF\n",
        "    onnx_model = onnx.load(onnx_path)\n",
        "    tf_rep = prepare(onnx_model)\n",
        "    tf_rep.export_graph(tf_path)\n",
        "    print(f\"TF model saved to {tf_path}\")\n",
        "\n",
        "    # 3) Convert to TFLite\n",
        "    converter = tf.lite.TFLiteConverter.from_saved_model(tf_path)\n",
        "    tflite_model = converter.convert()\n",
        "    with open(tflite_path, \"wb\") as f:\n",
        "        f.write(tflite_model)\n",
        "    print(f\"TFLite model saved to {tflite_path}\")\n",
        "\n",
        "    # 4) Use xxd to create a C array\n",
        "    !apt-get update && apt-get -qq install xxd\n",
        "    cmd_xxd = f\"xxd -i {tflite_path} > {c_array_path}\"\n",
        "    os.system(cmd_xxd)\n",
        "\n",
        "    # 5) Rename array to \"g_model\"\n",
        "    array_name = tflite_path.replace('/', '_').replace('.', '_')\n",
        "    cmd_sed = f\"sed -i 's/{array_name}/g_model/g' {c_array_path}\"\n",
        "    os.system(cmd_sed)\n",
        "    absolute_path = os.path.abspath(c_array_path)\n",
        "    print(\"C array exported absolute path is:\", absolute_path)\n",
        "    print(f\"C array exported to {c_array_path} as g_model[]\")\n"
      ],
      "metadata": {
        "id": "yLJ3LuLTNCoU"
      },
      "execution_count": null,
      "outputs": []
    },
    {
      "cell_type": "code",
      "source": [
        "!pip install ptflops"
      ],
      "metadata": {
        "id": "DKtqoB5hGwof"
      },
      "execution_count": null,
      "outputs": []
    },
    {
      "cell_type": "code",
      "execution_count": null,
      "metadata": {
        "id": "EAbsnQD6LSYR"
      },
      "outputs": [],
      "source": [
        "from ptflops import get_model_complexity_info\n",
        "\n",
        "\n",
        "def structured_pruning_experiment(\n",
        "    pruning_thresholds=[0.0, 0.2, 0.4, 0.6, 0.8],\n",
        "    train_loader=None,\n",
        "    val_loader=None,\n",
        "    learning_rate=1e-3,\n",
        "    finetuning_epochs=1,\n",
        "):\n",
        "\n",
        "    device = torch.device(\"cuda\" if torch.cuda.is_available() else \"cpu\")\n",
        "\n",
        "    base_model = model_fp32\n",
        "    base_model.to(device)\n",
        "    base_model.eval()\n",
        "\n",
        "    # This list will hold (prune_rate, acc, n_params, flops, cpu_time) for no finetune\n",
        "    results_no_ft = []\n",
        "    results_ft = []\n",
        "\n",
        "    for i, prune_rate in enumerate(pruning_thresholds):\n",
        "        model_no_ft = copy.deepcopy(base_model)\n",
        "\n",
        "        # Example of structured (channel) pruning in conv layers\n",
        "        for name, module in model_no_ft.named_modules():\n",
        "            if isinstance(module, nn.Conv2d):\n",
        "                prune.ln_structured(\n",
        "                    module,\n",
        "                    name='weight',\n",
        "                    amount=prune_rate,\n",
        "                    n=2,\n",
        "                    dim=0\n",
        "                )\n",
        "\n",
        "        for name, module in model_no_ft.named_modules():\n",
        "            if isinstance(module, nn.Conv2d):\n",
        "                prune.remove(module, 'weight')\n",
        "\n",
        "        shrinked_model_no_ft = shrink_model_channels(model_no_ft)\n",
        "\n",
        "        acc_no_ft, time_no_ft = accuracy(test_loader, shrinked_model_no_ft, device=device)\n",
        "        nparams_no_ft = count_nonzero_weights(shrinked_model_no_ft)\n",
        "        macs, params = get_model_complexity_info(shrinked_model_no_ft, input_res=(1, 49, 40),\n",
        "                                             as_strings=False, print_per_layer_stat=False)\n",
        "        flops_no_ft = 2 * macs\n",
        "\n",
        "        results_no_ft.append((prune_rate, acc_no_ft, nparams_no_ft, flops_no_ft, time_no_ft * 1000))\n",
        "        model_export = shrinked_model_no_ft.cpu().eval()\n",
        "        pruned_submodel = export_model_without_first_last(shrinked_model_no_ft.cpu().eval())\n",
        "        export_model_as_c_array(pruned_submodel, c_array_path=f\"micro_model{i}.cc\")\n",
        "\n",
        "\n",
        "        # Fine-tuning\n",
        "        model_ft = copy.deepcopy(model_no_ft)\n",
        "        shrinked_model_ft = shrink_model_channels(model_ft)\n",
        "\n",
        "        optimizer = torch.optim.Adam(shrinked_model_ft.parameters(), lr=learning_rate)\n",
        "        run_training(shrinked_model_ft, data_loaders, n_epoch=finetuning_epochs, log_interval=100,\n",
        "                     optimizer=optimizer, checkpoint_path=None, resume=False)\n",
        "\n",
        "        acc_ft, time_ft = accuracy(test_loader, shrinked_model_ft, device=device)\n",
        "        nparams_ft = count_nonzero_weights(shrinked_model_ft)\n",
        "        macs, params = get_model_complexity_info(shrinked_model_ft, input_res=(1, 49, 40),\n",
        "                                             as_strings=False, print_per_layer_stat=False)\n",
        "        flops_ft = 2 * macs\n",
        "\n",
        "        results_ft.append((prune_rate, acc_ft, nparams_ft, flops_ft, time_ft * 1000))\n",
        "\n",
        "    return results_no_ft, results_ft\n",
        "\n",
        "def shrink_model_channels(model):\n",
        "\n",
        "    import torch.nn as nn\n",
        "\n",
        "    # Process the convolution layer.\n",
        "    conv = model.conv\n",
        "    weight = conv.weight.data  # shape: [out_channels, in_channels, kh, kw]\n",
        "    bias = conv.bias.data if conv.bias is not None else None\n",
        "    original_out_channels = weight.size(0)\n",
        "\n",
        "    # Compute L2 norm for each output channel.\n",
        "    norms = weight.view(original_out_channels, -1).norm(p=2, dim=1)\n",
        "    threshold = 1e-6\n",
        "    idx_keep = (norms > threshold)\n",
        "    new_out_channels = int(idx_keep.sum().item())\n",
        "\n",
        "    # If no channels were pruned, return the model unchanged.\n",
        "    if new_out_channels == original_out_channels:\n",
        "        return model\n",
        "\n",
        "    # Create a new Conv2d with reduced output channels.\n",
        "    new_conv = nn.Conv2d(\n",
        "        in_channels=conv.in_channels,\n",
        "        out_channels=new_out_channels,\n",
        "        kernel_size=conv.kernel_size,\n",
        "        stride=conv.stride,\n",
        "        padding=conv.padding,\n",
        "        dilation=conv.dilation,\n",
        "        groups=conv.groups,\n",
        "        bias=(conv.bias is not None)\n",
        "    )\n",
        "    new_conv.weight.data = weight[idx_keep, :, :, :].clone()\n",
        "    if conv.bias is not None:\n",
        "        new_conv.bias.data = bias[idx_keep].clone()\n",
        "\n",
        "    model.conv = new_conv\n",
        "\n",
        "    # Process the fully connected (fc) layer.\n",
        "    # Original conv output: [batch, 8, 25, 20] → flattened to 8*25*20 = 4000 features.\n",
        "    # New conv output: [batch, new_out_channels, 25, 20].\n",
        "    H, W = 25, 20\n",
        "    new_in_features = new_out_channels * H * W\n",
        "\n",
        "    fc = model.fc\n",
        "    new_fc = nn.Linear(new_in_features, fc.out_features, bias=(fc.bias is not None))\n",
        "\n",
        "    # Reshape the original fc weight (assumed shape [out_features, original_out_channels*H*W])\n",
        "    old_fc_weight = fc.weight.data.view(fc.out_features, original_out_channels, H, W)\n",
        "    new_fc_weight = old_fc_weight[:, idx_keep, :, :].clone()\n",
        "    new_fc.weight.data = new_fc_weight.view(fc.out_features, new_in_features)\n",
        "    if fc.bias is not None:\n",
        "        new_fc.bias.data = fc.bias.data.clone()\n",
        "\n",
        "    model.fc = new_fc\n",
        "\n",
        "    # Update the fc_reshape module's output shape.\n",
        "    if hasattr(model, 'fc_reshape'):\n",
        "        model.fc_reshape.output_shape = (-1, new_in_features)\n",
        "\n",
        "    # Optionally update a general output_shape attribute if used in forward.\n",
        "    if hasattr(model, 'output_shape'):\n",
        "        model.output_shape = (-1, new_out_channels, H, W)\n",
        "\n",
        "    return model\n",
        "\n",
        "\n",
        "\n",
        "def plot_structured_pruning_results(results_no_ft, results_ft):\n",
        "    prune_rates_no_ft = [x[0] for x in results_no_ft]\n",
        "    accs_no_ft = [x[1] for x in results_no_ft]\n",
        "    nparams_no_ft = [x[2] for x in results_no_ft]\n",
        "    flops_no_ft = [x[3] for x in results_no_ft]\n",
        "    cpu_no_ft = [x[4] for x in results_no_ft]\n",
        "\n",
        "    prune_rates_ft = [x[0] for x in results_ft]\n",
        "    accs_ft = [x[1] for x in results_ft]\n",
        "    nparams_ft = [x[2] for x in results_ft]\n",
        "    flops_ft = [x[3] for x in results_ft]\n",
        "    cpu_ft = [x[4] for x in results_ft]\n",
        "\n",
        "    # Accuracy vs. #Params\n",
        "    plt.figure()\n",
        "    plt.plot(nparams_no_ft, accs_no_ft, marker='o', label='No FT')\n",
        "    plt.plot(nparams_ft, accs_ft, marker='o', label='With FT')\n",
        "    plt.xlabel('Number of Non-zero Parameters')\n",
        "    plt.ylabel('Accuracy')\n",
        "    plt.title('Structured Pruning: Accuracy vs. #Params')\n",
        "    plt.legend()\n",
        "    plt.show()\n",
        "\n",
        "    # Accuracy vs. FLOPs\n",
        "    plt.figure()\n",
        "    plt.plot(flops_no_ft, accs_no_ft, marker='o', label='No FT')\n",
        "    plt.plot(flops_ft, accs_ft, marker='o', label='With FT')\n",
        "    plt.xlabel('FLOPs')\n",
        "    plt.ylabel('Accuracy')\n",
        "    plt.title('Structured Pruning: Accuracy vs. FLOPs')\n",
        "    plt.legend()\n",
        "    plt.show()\n",
        "\n",
        "\n",
        "results_no_ft, results_ft = structured_pruning_experiment(\n",
        "    pruning_thresholds=[0.0, 0.2, 0.4, 0.6, 0.8],\n",
        "    train_loader=train_loader,\n",
        "    val_loader=valid_loader,\n",
        "    learning_rate=1e-3,\n",
        "    finetuning_epochs=3,\n",
        ")\n",
        "\n",
        "plot_structured_pruning_results(results_no_ft, results_ft)"
      ]
    },
    {
      "cell_type": "markdown",
      "metadata": {
        "id": "Tv18oNx5BE56"
      },
      "source": [
        "## 6.3 Unstructured Pruning\n",
        "\n",
        "In this section, you will perform unstructured pruning on the TinyConv model and explore its effect on performance.\n",
        "\n",
        "Following link will be helpful:\n",
        "1. [torch.nn.utils.prune.l1_unstructured](https://pytorch.org/docs/stable/generated/torch.nn.utils.prune.l1_unstructured.html?highlight=unstructured#torch.nn.utils.prune.l1_unstructured)\n",
        "\n",
        "2. [torch.nn.utils.prune.random_unstructured](https://pytorch.org/docs/stable/generated/torch.nn.utils.prune.random_unstructured.html?highlight=unstructured#torch.nn.utils.prune.random_unstructured)\n",
        "\n",
        "2. [Torch pruning tutorial](https://pytorch.org/tutorials/intermediate/pruning_tutorial.html?highlight=prune)"
      ]
    },
    {
      "cell_type": "code",
      "source": [
        "import torch\n",
        "import torch.nn as nn\n",
        "import torch.nn.functional as F\n",
        "import torch.nn.utils.prune as prune\n",
        "import copy\n",
        "import matplotlib.pyplot as plt\n",
        "from tqdm import tqdm\n",
        "from src.train_val_test_utils import train, test\n",
        "\n",
        "def pretrain_with_norm(model, train_loader, valid_loader,\n",
        "                       norm_type='L1', alpha=1e-4,\n",
        "                       epochs=10, lr=1e-3, device='cpu'):\n",
        "    \"\"\"\n",
        "    Pre-trains `model` using a combination of cross-entropy loss and a\n",
        "    norm-based regularization penalty. The norm is specified by `norm_type`:\n",
        "      - 'L1': sum of absolute values of weights\n",
        "      - 'L2': sum of squares of weights\n",
        "      - 'Linf': sum of max-abs for each parameter (a simplistic approach)\n",
        "\n",
        "    Parameters:\n",
        "      model: nn.Module to train\n",
        "      train_loader, valid_loader: DataLoader instances for training & validation\n",
        "      norm_type: 'L1', 'L2', or 'Linf'\n",
        "      alpha: regularization coefficient\n",
        "      epochs: number of training epochs\n",
        "      lr: learning rate\n",
        "      device: 'cpu' or 'cuda'\n",
        "\n",
        "    Returns:\n",
        "      A new, trained copy of the model with the chosen regularization applied.\n",
        "    \"\"\"\n",
        "    # Make a copy so we don't alter the original\n",
        "    model = copy.deepcopy(model)\n",
        "    model.to(device)\n",
        "    model.train()\n",
        "\n",
        "    optimizer = optim.Adam(model.parameters(), lr=lr)\n",
        "\n",
        "    for epoch in range(1, epochs + 1):\n",
        "        losses = []\n",
        "        for data, target in train_loader:\n",
        "            data = data.to(device)\n",
        "            # Convert target to long (int64)\n",
        "            target = target.to(device).long()\n",
        "\n",
        "            optimizer.zero_grad()\n",
        "            output = model(data)\n",
        "\n",
        "            # Compute standard negative log-likelihood loss\n",
        "            loss_ce = F.nll_loss(output, target)\n",
        "\n",
        "            # Compute norm penalty\n",
        "            penalty = 0.0\n",
        "            for param in model.parameters():\n",
        "                if norm_type == 'L1':\n",
        "                    penalty += param.abs().sum()\n",
        "                elif norm_type == 'L2':\n",
        "                    penalty += (param ** 2).sum()\n",
        "                elif norm_type == 'Linf':\n",
        "                    penalty += param.abs().max()\n",
        "                else:\n",
        "                    raise ValueError(f\"Unknown norm_type '{norm_type}'\")\n",
        "\n",
        "            # Combine losses\n",
        "            loss = loss_ce + alpha * penalty\n",
        "\n",
        "            loss.backward()\n",
        "            optimizer.step()\n",
        "            losses.append(loss.item())\n",
        "\n",
        "        # Evaluate on validation set\n",
        "        model.eval()\n",
        "        val_acc = test(valid_loader, model, device=device)\n",
        "        model.train()\n",
        "        avg_loss = sum(losses) / len(losses)\n",
        "        print(f\"Epoch {epoch} | {norm_type} norm: train_loss={avg_loss:.3f}, val_acc={val_acc:.2f}%\")\n",
        "\n",
        "    return model\n",
        "\n",
        "def run_training(model, data_loaders, n_epoch, log_interval, optimizer, scheduler=None,\n",
        "                 save_interval=1, resume=True, checkpoint_path=None, verbose=False):\n",
        "    with tqdm(total=n_epoch) as pbar:\n",
        "        completed_epoch = 1\n",
        "        if resume:\n",
        "            try:\n",
        "                if checkpoint_path is None:\n",
        "                    raise ValueError\n",
        "                checkpoint = torch.load(checkpoint_path)\n",
        "                model.load_state_dict(checkpoint['model_state_dict'])\n",
        "                optimizer.load_state_dict(checkpoint['optimizer_state_dict'])\n",
        "                if scheduler is not None:\n",
        "                    scheduler.load_state_dict(checkpoint['scheduler_state_dict'])\n",
        "                completed_epoch = checkpoint[\"epoch\"] + 1\n",
        "                model.eval()\n",
        "                pbar.update(completed_epoch)\n",
        "            except:\n",
        "                pass\n",
        "\n",
        "        for epoch in range(completed_epoch, n_epoch + 1):\n",
        "            train(model, data_loaders, optimizer, epoch, device, verbose)\n",
        "            test(test_loader, model, device, epoch=None, loader_type='Test')\n",
        "\n",
        "            if scheduler is not None:\n",
        "                scheduler.step()\n",
        "            if epoch % save_interval == 0 and checkpoint_path is not None:\n",
        "                torch.save({\n",
        "                    'epoch': epoch,\n",
        "                    'model_state_dict': model.state_dict(),\n",
        "                    'optimizer_state_dict': optimizer.state_dict(),\n",
        "                    'scheduler_state_dict': scheduler.state_dict() if scheduler is not None else None\n",
        "                }, checkpoint_path)\n",
        "\n",
        "            pbar.update(1)\n"
      ],
      "metadata": {
        "id": "FJgErhNA4TyB"
      },
      "execution_count": 12,
      "outputs": []
    },
    {
      "cell_type": "code",
      "execution_count": 11,
      "metadata": {
        "id": "W62TBfecBE56"
      },
      "outputs": [],
      "source": [
        "\n",
        "device = torch.device(\"cuda\" if torch.cuda.is_available() else \"cpu\")\n",
        "\n",
        "\n",
        "def count_masked_nonzero_weights(model):\n",
        "    \"\"\"\n",
        "    Counts nonzero weights based on pruning masks if present.\n",
        "    For modules with a 'weight_mask', sum the mask values.\n",
        "    For others, count nonzeros in the parameter.\n",
        "    \"\"\"\n",
        "    count = 0\n",
        "    for module in model.modules():\n",
        "        if isinstance(module, (nn.Conv2d, nn.Linear)) and hasattr(module, 'weight_mask'):\n",
        "            count += torch.sum(module.weight_mask).item()\n",
        "        else:\n",
        "            for param in module.parameters(recurse=False):\n",
        "                count += torch.count_nonzero(param).item()\n",
        "    return count\n",
        "\n",
        "def clone_model(model):\n",
        "    new_model = type(model)(model.model_settings)\n",
        "    new_model.load_state_dict(model.state_dict())\n",
        "    return new_model\n",
        "\n",
        "def l2_unstructured(module, name, amount):\n",
        "    param = getattr(module, name)\n",
        "    metric = param.abs() ** 2\n",
        "    kth = int(amount * param.numel())\n",
        "    if kth == 0:\n",
        "        mask = torch.ones_like(param)\n",
        "    else:\n",
        "        threshold = torch.kthvalue(metric.view(-1), kth).values\n",
        "        mask = torch.where(metric <= threshold, torch.zeros_like(param), torch.ones_like(param))\n",
        "    prune.CustomFromMask.apply(module, name, mask)\n",
        "\n",
        "def linf_unstructured(module, name, amount):\n",
        "    param = getattr(module, name)\n",
        "    metric = param.abs()\n",
        "    kth = int(amount * param.numel())\n",
        "    if kth == 0:\n",
        "        mask = torch.ones_like(param)\n",
        "    else:\n",
        "        threshold = torch.kthvalue(metric.view(-1), kth).values\n",
        "        mask = torch.where(metric <= threshold, torch.zeros_like(param), torch.ones_like(param))\n",
        "    prune.CustomFromMask.apply(module, name, mask)\n",
        "\n",
        "\n",
        "def unstructured_pruning_experiment(model, pruning_thresholds, train_loader, val_loader, learning_rate=1e-3, finetuning_epochs=1):\n",
        "    \"\"\"\n",
        "    Performs unstructured pruning experiments on the current global model_fp32.\n",
        "    In the no fine-tuning branch, pruning wrappers are removed so that the parameters\n",
        "    are physically modified. In the fine-tuning branch, the pruning wrappers (masks)\n",
        "    are kept in place so that the zeroed weights remain zero during fine-tuning.\n",
        "    Returns tuples (prune_rate, accuracy, nparams) for both branches.\n",
        "    \"\"\"\n",
        "    base_model = model\n",
        "    base_model.to(device)\n",
        "    base_model.eval()\n",
        "    original_state = base_model.state_dict()\n",
        "\n",
        "    results_no_ft = []\n",
        "    results_ft = []\n",
        "\n",
        "    data_loaders = {'training': train_loader, 'validation': val_loader, 'testing': test_loader}\n",
        "\n",
        "    for prune_rate in pruning_thresholds:\n",
        "        #  No Fine-Tuning\n",
        "        model_no_ft = type(base_model)(base_model.model_settings)\n",
        "        model_no_ft.load_state_dict(original_state)\n",
        "        model_no_ft.to(device)\n",
        "\n",
        "        parameters_to_prune = []\n",
        "        for _, module in model_no_ft.named_modules():\n",
        "            if isinstance(module, nn.Conv2d) or isinstance(module, nn.Linear):\n",
        "                parameters_to_prune.append((module, 'weight'))\n",
        "\n",
        "        prune.global_unstructured(parameters_to_prune, pruning_method=prune.L1Unstructured, amount=prune_rate)\n",
        "\n",
        "        # Remove the pruning wrappers to see the reduced parameter counts.\n",
        "        for _, module in model_no_ft.named_modules():\n",
        "            if isinstance(module, nn.Conv2d) or isinstance(module, nn.Linear):\n",
        "                try:\n",
        "                    prune.remove(module, 'weight')\n",
        "                except Exception:\n",
        "                    pass\n",
        "\n",
        "        acc_no_ft, _ = accuracy(test_loader, model_no_ft, device=device)\n",
        "        nparams_no_ft = sum(torch.count_nonzero(param).item() for param in model_no_ft.parameters())\n",
        "        results_no_ft.append((prune_rate, acc_no_ft, nparams_no_ft))\n",
        "        print(f\"L1 pruning Unstructured - No FT - Prune {prune_rate}: nparams={nparams_no_ft}, acc={acc_no_ft:.3f}\")\n",
        "\n",
        "        #  Fine-Tuning Branch (keep masks in place)\n",
        "        model_ft = type(base_model)(base_model.model_settings)\n",
        "        model_ft.load_state_dict(original_state)\n",
        "        model_ft.to(device)\n",
        "\n",
        "        parameters_to_prune_ft = []\n",
        "        for _, module in model_ft.named_modules():\n",
        "            if isinstance(module, nn.Conv2d) or isinstance(module, nn.Linear):\n",
        "                parameters_to_prune_ft.append((module, 'weight'))\n",
        "\n",
        "        prune.global_unstructured(parameters_to_prune_ft, pruning_method=prune.L1Unstructured, amount=prune_rate)\n",
        "\n",
        "\n",
        "\n",
        "        optimizer = torch.optim.Adam(model_ft.parameters(), lr=learning_rate)\n",
        "        run_training(model_ft, data_loaders, n_epoch=finetuning_epochs, log_interval=100,\n",
        "                     optimizer=optimizer, checkpoint_path=None, resume=False)\n",
        "\n",
        "        acc_ft, _ = accuracy(test_loader, model_ft, device=device)\n",
        "        nparams_ft = count_masked_nonzero_weights(model_ft)\n",
        "        results_ft.append((prune_rate, acc_ft, nparams_ft))\n",
        "        print(f\"L1 pruning Unstructured - FT - Prune {prune_rate}: nparams={nparams_ft}, acc={acc_ft:.3f}\")\n",
        "\n",
        "    return results_no_ft, results_ft\n",
        "\n",
        "def plot_unstructured_pruning_results(norm_results):\n",
        "    for reg_type, (results_no_ft, results_ft) in norm_results.items():\n",
        "        prune_rates_no_ft = [x[0] for x in results_no_ft]\n",
        "        accs_no_ft = [x[1] for x in results_no_ft]\n",
        "        nparams_no_ft = [x[2] for x in results_no_ft]\n",
        "\n",
        "        prune_rates_ft = [x[0] for x in results_ft]\n",
        "        accs_ft = [x[1] for x in results_ft]\n",
        "        nparams_ft = [x[2] for x in results_ft]\n",
        "\n",
        "        plt.figure()\n",
        "        plt.plot(nparams_no_ft, accs_no_ft, marker='o', label='No Fine-tuning')\n",
        "        plt.plot(nparams_ft, accs_ft, marker='s', label='With Fine-tuning')\n",
        "        plt.xlabel('Number of Nonzero Parameters')\n",
        "        plt.ylabel('Accuracy')\n",
        "        plt.title(f'Unstructured Pruning ({reg_type})\\nAccuracy vs. #Nonzero Params')\n",
        "        plt.legend()\n",
        "        plt.show()\n"
      ]
    },
    {
      "cell_type": "code",
      "source": [
        "print(\"Pretraining with L1 regularization\")\n",
        "pretrained_l1 = pretrain_with_norm(model_fp32, train_loader, valid_loader, norm_type='L1', alpha=1e-4, epochs=2, lr=1e-3, device=device)\n",
        "print(\"Pretraining with L2 regularization\")\n",
        "pretrained_l2 = pretrain_with_norm(model_fp32, train_loader, valid_loader, norm_type='L2', alpha=1e-4, epochs=2, lr=1e-3, device=device)\n",
        "print(\"Pretraining with L-inf regularization\")\n",
        "pretrained_linf = pretrain_with_norm(model_fp32, train_loader, valid_loader, norm_type='Linf', alpha=1e-4, epochs=2, lr=1e-3, device=device)\n"
      ],
      "metadata": {
        "colab": {
          "base_uri": "https://localhost:8080/"
        },
        "id": "AK9kKy4WLmg5",
        "outputId": "bbe8896a-8d49-42c3-dcb1-33556c3271df"
      },
      "execution_count": 13,
      "outputs": [
        {
          "output_type": "stream",
          "name": "stdout",
          "text": [
            "Pretraining with L1 regularization\n",
            "Epoch 1 | L1 norm: train_loss=1.120, val_acc=82.45%\n",
            "Epoch 2 | L1 norm: train_loss=0.593, val_acc=86.35%\n",
            "Pretraining with L2 regularization\n",
            "Epoch 1 | L2 norm: train_loss=1.070, val_acc=83.42%\n",
            "Epoch 2 | L2 norm: train_loss=0.569, val_acc=85.75%\n",
            "Pretraining with L-inf regularization\n",
            "Epoch 1 | Linf norm: train_loss=1.131, val_acc=81.47%\n",
            "Epoch 2 | Linf norm: train_loss=0.583, val_acc=85.07%\n"
          ]
        }
      ]
    },
    {
      "cell_type": "code",
      "source": [
        "all_results = {}\n",
        "for reg_type, pretrained_model in zip(['L1', 'L2', 'Linf'], [pretrained_l1, pretrained_l2, pretrained_linf]):\n",
        "    # Set global model_fp32 to the pretrained model for fair pruning comparison.\n",
        "\n",
        "    print(f\"Running unstructured pruning experiment for model pretrained with {reg_type} regularization:\")\n",
        "    res_no_ft, res_ft = unstructured_pruning_experiment(\n",
        "        model=pretrained_model,\n",
        "        pruning_thresholds=[0.0, 0.2, 0.4, 0.6, 0.8],\n",
        "        train_loader=train_loader,\n",
        "        val_loader=valid_loader,\n",
        "        learning_rate=1e-3,\n",
        "        finetuning_epochs=3\n",
        "    )\n",
        "    all_results[reg_type] = (res_no_ft, res_ft)\n",
        "\n",
        "plot_unstructured_pruning_results(all_results)"
      ],
      "metadata": {
        "id": "xxgCULApLvhA",
        "outputId": "042a4520-6931-4be9-ef16-22040bb1199e",
        "colab": {
          "base_uri": "https://localhost:8080/",
          "height": 1000
        }
      },
      "execution_count": 15,
      "outputs": [
        {
          "output_type": "stream",
          "name": "stdout",
          "text": [
            "Running unstructured pruning experiment for model pretrained with L1 regularization:\n",
            "batch_time 0.14819574356079102\n",
            "batch_sample 1368\n",
            "Model predicts 85.746% of the samples correctly.\n",
            "Average inference time per sample: 0.108 ms.\n",
            "\n",
            "L1 pruning Unstructured - No FT - Prune 0.0: nparams=16652, acc=0.857\n"
          ]
        },
        {
          "output_type": "stream",
          "name": "stderr",
          "text": [
            "\r  0%|          | 0/3 [00:00<?, ?it/s]"
          ]
        },
        {
          "output_type": "stream",
          "name": "stdout",
          "text": [
            "Val Acc Epoch 1 = 85.97%, Train loss = 0.519\n"
          ]
        },
        {
          "output_type": "stream",
          "name": "stderr",
          "text": [
            "\r 33%|███▎      | 1/3 [01:48<03:36, 108.01s/it]"
          ]
        },
        {
          "output_type": "stream",
          "name": "stdout",
          "text": [
            "Val Acc Epoch 2 = 86.42%, Train loss = 0.468\n"
          ]
        },
        {
          "output_type": "stream",
          "name": "stderr",
          "text": [
            "\r 67%|██████▋   | 2/3 [03:34<01:47, 107.18s/it]"
          ]
        },
        {
          "output_type": "stream",
          "name": "stdout",
          "text": [
            "Val Acc Epoch 3 = 86.95%, Train loss = 0.462\n"
          ]
        },
        {
          "output_type": "stream",
          "name": "stderr",
          "text": [
            "100%|██████████| 3/3 [05:20<00:00, 106.97s/it]\n"
          ]
        },
        {
          "output_type": "stream",
          "name": "stdout",
          "text": [
            "batch_time 0.1701507568359375\n",
            "batch_sample 1368\n",
            "Model predicts 85.380% of the samples correctly.\n",
            "Average inference time per sample: 0.124 ms.\n",
            "\n",
            "L1 pruning Unstructured - FT - Prune 0.0: nparams=16640.0, acc=0.854\n",
            "batch_time 0.14850330352783203\n",
            "batch_sample 1368\n",
            "Model predicts 85.965% of the samples correctly.\n",
            "Average inference time per sample: 0.109 ms.\n",
            "\n",
            "L1 pruning Unstructured - No FT - Prune 0.2: nparams=13324, acc=0.860\n"
          ]
        },
        {
          "output_type": "stream",
          "name": "stderr",
          "text": [
            "\r  0%|          | 0/3 [00:00<?, ?it/s]"
          ]
        },
        {
          "output_type": "stream",
          "name": "stdout",
          "text": [
            "Val Acc Epoch 1 = 86.72%, Train loss = 0.509\n"
          ]
        },
        {
          "output_type": "stream",
          "name": "stderr",
          "text": [
            "\r 33%|███▎      | 1/3 [01:46<03:32, 106.37s/it]"
          ]
        },
        {
          "output_type": "stream",
          "name": "stdout",
          "text": [
            "Val Acc Epoch 2 = 86.95%, Train loss = 0.471\n"
          ]
        },
        {
          "output_type": "stream",
          "name": "stderr",
          "text": [
            "\r 67%|██████▋   | 2/3 [03:39<01:50, 110.36s/it]"
          ]
        },
        {
          "output_type": "stream",
          "name": "stdout",
          "text": [
            "Val Acc Epoch 3 = 86.12%, Train loss = 0.458\n"
          ]
        },
        {
          "output_type": "stream",
          "name": "stderr",
          "text": [
            "100%|██████████| 3/3 [05:32<00:00, 110.91s/it]\n"
          ]
        },
        {
          "output_type": "stream",
          "name": "stdout",
          "text": [
            "batch_time 0.26141881942749023\n",
            "batch_sample 1368\n",
            "Model predicts 86.330% of the samples correctly.\n",
            "Average inference time per sample: 0.191 ms.\n",
            "\n",
            "L1 pruning Unstructured - FT - Prune 0.2: nparams=13312.0, acc=0.863\n",
            "batch_time 0.15801477432250977\n",
            "batch_sample 1368\n",
            "Model predicts 85.307% of the samples correctly.\n",
            "Average inference time per sample: 0.116 ms.\n",
            "\n",
            "L1 pruning Unstructured - No FT - Prune 0.4: nparams=9996, acc=0.853\n"
          ]
        },
        {
          "output_type": "stream",
          "name": "stderr",
          "text": [
            "\r  0%|          | 0/3 [00:00<?, ?it/s]"
          ]
        },
        {
          "output_type": "stream",
          "name": "stdout",
          "text": [
            "Val Acc Epoch 1 = 86.5%, Train loss = 0.503\n"
          ]
        },
        {
          "output_type": "stream",
          "name": "stderr",
          "text": [
            "\r 33%|███▎      | 1/3 [01:49<03:39, 109.86s/it]"
          ]
        },
        {
          "output_type": "stream",
          "name": "stdout",
          "text": [
            "Val Acc Epoch 2 = 86.42%, Train loss = 0.477\n"
          ]
        },
        {
          "output_type": "stream",
          "name": "stderr",
          "text": [
            "\r 67%|██████▋   | 2/3 [03:38<01:49, 109.32s/it]"
          ]
        },
        {
          "output_type": "stream",
          "name": "stdout",
          "text": [
            "Val Acc Epoch 3 = 87.7%, Train loss = 0.464\n"
          ]
        },
        {
          "output_type": "stream",
          "name": "stderr",
          "text": [
            "100%|██████████| 3/3 [05:27<00:00, 109.33s/it]\n"
          ]
        },
        {
          "output_type": "stream",
          "name": "stdout",
          "text": [
            "batch_time 0.1655139923095703\n",
            "batch_sample 1368\n",
            "Model predicts 88.450% of the samples correctly.\n",
            "Average inference time per sample: 0.121 ms.\n",
            "\n",
            "L1 pruning Unstructured - FT - Prune 0.4: nparams=9984.0, acc=0.885\n",
            "batch_time 0.24836063385009766\n",
            "batch_sample 1368\n",
            "Model predicts 84.868% of the samples correctly.\n",
            "Average inference time per sample: 0.182 ms.\n",
            "\n",
            "L1 pruning Unstructured - No FT - Prune 0.6: nparams=6668, acc=0.849\n"
          ]
        },
        {
          "output_type": "stream",
          "name": "stderr",
          "text": [
            "\r  0%|          | 0/3 [00:00<?, ?it/s]"
          ]
        },
        {
          "output_type": "stream",
          "name": "stdout",
          "text": [
            "Val Acc Epoch 1 = 86.35%, Train loss = 0.523\n"
          ]
        },
        {
          "output_type": "stream",
          "name": "stderr",
          "text": [
            "\r 33%|███▎      | 1/3 [01:46<03:33, 106.87s/it]"
          ]
        },
        {
          "output_type": "stream",
          "name": "stdout",
          "text": [
            "Val Acc Epoch 2 = 85.82%, Train loss = 0.479\n"
          ]
        },
        {
          "output_type": "stream",
          "name": "stderr",
          "text": [
            "\r 67%|██████▋   | 2/3 [03:34<01:47, 107.51s/it]"
          ]
        },
        {
          "output_type": "stream",
          "name": "stdout",
          "text": [
            "Val Acc Epoch 3 = 87.02%, Train loss = 0.464\n"
          ]
        },
        {
          "output_type": "stream",
          "name": "stderr",
          "text": [
            "100%|██████████| 3/3 [05:26<00:00, 108.67s/it]\n"
          ]
        },
        {
          "output_type": "stream",
          "name": "stdout",
          "text": [
            "batch_time 0.15939855575561523\n",
            "batch_sample 1368\n",
            "Model predicts 87.061% of the samples correctly.\n",
            "Average inference time per sample: 0.117 ms.\n",
            "\n",
            "L1 pruning Unstructured - FT - Prune 0.6: nparams=6656.0, acc=0.871\n",
            "batch_time 0.14900636672973633\n",
            "batch_sample 1368\n",
            "Model predicts 83.553% of the samples correctly.\n",
            "Average inference time per sample: 0.109 ms.\n",
            "\n",
            "L1 pruning Unstructured - No FT - Prune 0.8: nparams=3340, acc=0.836\n"
          ]
        },
        {
          "output_type": "stream",
          "name": "stderr",
          "text": [
            "\r  0%|          | 0/3 [00:00<?, ?it/s]"
          ]
        },
        {
          "output_type": "stream",
          "name": "stdout",
          "text": [
            "Val Acc Epoch 1 = 86.72%, Train loss = 0.528\n"
          ]
        },
        {
          "output_type": "stream",
          "name": "stderr",
          "text": [
            "\r 33%|███▎      | 1/3 [01:46<03:33, 106.91s/it]"
          ]
        },
        {
          "output_type": "stream",
          "name": "stdout",
          "text": [
            "Val Acc Epoch 2 = 85.75%, Train loss = 0.505\n"
          ]
        },
        {
          "output_type": "stream",
          "name": "stderr",
          "text": [
            "\r 67%|██████▋   | 2/3 [03:37<01:48, 108.99s/it]"
          ]
        },
        {
          "output_type": "stream",
          "name": "stdout",
          "text": [
            "Val Acc Epoch 3 = 86.65%, Train loss = 0.463\n"
          ]
        },
        {
          "output_type": "stream",
          "name": "stderr",
          "text": [
            "100%|██████████| 3/3 [05:30<00:00, 110.02s/it]\n"
          ]
        },
        {
          "output_type": "stream",
          "name": "stdout",
          "text": [
            "batch_time 0.1618213653564453\n",
            "batch_sample 1368\n",
            "Model predicts 86.477% of the samples correctly.\n",
            "Average inference time per sample: 0.118 ms.\n",
            "\n",
            "L1 pruning Unstructured - FT - Prune 0.8: nparams=3328.0, acc=0.865\n",
            "Running unstructured pruning experiment for model pretrained with L2 regularization:\n",
            "batch_time 0.1441500186920166\n",
            "batch_sample 1368\n",
            "Model predicts 84.503% of the samples correctly.\n",
            "Average inference time per sample: 0.105 ms.\n",
            "\n",
            "L1 pruning Unstructured - No FT - Prune 0.0: nparams=16652, acc=0.845\n"
          ]
        },
        {
          "output_type": "stream",
          "name": "stderr",
          "text": [
            "\r  0%|          | 0/3 [00:00<?, ?it/s]"
          ]
        },
        {
          "output_type": "stream",
          "name": "stdout",
          "text": [
            "Val Acc Epoch 1 = 84.32%, Train loss = 0.519\n"
          ]
        },
        {
          "output_type": "stream",
          "name": "stderr",
          "text": [
            "\r 33%|███▎      | 1/3 [01:49<03:39, 109.55s/it]"
          ]
        },
        {
          "output_type": "stream",
          "name": "stdout",
          "text": [
            "Val Acc Epoch 2 = 86.72%, Train loss = 0.476\n"
          ]
        },
        {
          "output_type": "stream",
          "name": "stderr",
          "text": [
            "\r 67%|██████▋   | 2/3 [03:39<01:49, 109.87s/it]"
          ]
        },
        {
          "output_type": "stream",
          "name": "stdout",
          "text": [
            "Val Acc Epoch 3 = 86.57%, Train loss = 0.462\n"
          ]
        },
        {
          "output_type": "stream",
          "name": "stderr",
          "text": [
            "100%|██████████| 3/3 [05:29<00:00, 109.79s/it]\n"
          ]
        },
        {
          "output_type": "stream",
          "name": "stdout",
          "text": [
            "batch_time 0.1616220474243164\n",
            "batch_sample 1368\n",
            "Model predicts 87.135% of the samples correctly.\n",
            "Average inference time per sample: 0.118 ms.\n",
            "\n",
            "L1 pruning Unstructured - FT - Prune 0.0: nparams=16640.0, acc=0.871\n",
            "batch_time 0.26323437690734863\n",
            "batch_sample 1368\n",
            "Model predicts 85.526% of the samples correctly.\n",
            "Average inference time per sample: 0.192 ms.\n",
            "\n",
            "L1 pruning Unstructured - No FT - Prune 0.2: nparams=13324, acc=0.855\n"
          ]
        },
        {
          "output_type": "stream",
          "name": "stderr",
          "text": [
            "\r  0%|          | 0/3 [00:00<?, ?it/s]"
          ]
        },
        {
          "output_type": "stream",
          "name": "stdout",
          "text": [
            "Val Acc Epoch 1 = 85.97%, Train loss = 0.507\n"
          ]
        },
        {
          "output_type": "stream",
          "name": "stderr",
          "text": [
            "\r 33%|███▎      | 1/3 [01:49<03:39, 109.60s/it]"
          ]
        },
        {
          "output_type": "stream",
          "name": "stdout",
          "text": [
            "Val Acc Epoch 2 = 86.95%, Train loss = 0.468\n"
          ]
        },
        {
          "output_type": "stream",
          "name": "stderr",
          "text": [
            "\r 67%|██████▋   | 2/3 [03:38<01:49, 109.39s/it]"
          ]
        },
        {
          "output_type": "stream",
          "name": "stdout",
          "text": [
            "Val Acc Epoch 3 = 86.42%, Train loss = 0.451\n"
          ]
        },
        {
          "output_type": "stream",
          "name": "stderr",
          "text": [
            "100%|██████████| 3/3 [05:27<00:00, 109.30s/it]\n"
          ]
        },
        {
          "output_type": "stream",
          "name": "stdout",
          "text": [
            "batch_time 0.16168618202209473\n",
            "batch_sample 1368\n",
            "Model predicts 86.550% of the samples correctly.\n",
            "Average inference time per sample: 0.118 ms.\n",
            "\n",
            "L1 pruning Unstructured - FT - Prune 0.2: nparams=13312.0, acc=0.865\n",
            "batch_time 0.2831869125366211\n",
            "batch_sample 1368\n",
            "Model predicts 86.477% of the samples correctly.\n",
            "Average inference time per sample: 0.207 ms.\n",
            "\n",
            "L1 pruning Unstructured - No FT - Prune 0.4: nparams=9996, acc=0.865\n"
          ]
        },
        {
          "output_type": "stream",
          "name": "stderr",
          "text": [
            "\r  0%|          | 0/3 [00:00<?, ?it/s]"
          ]
        },
        {
          "output_type": "stream",
          "name": "stdout",
          "text": [
            "Val Acc Epoch 1 = 85.52%, Train loss = 0.508\n"
          ]
        },
        {
          "output_type": "stream",
          "name": "stderr",
          "text": [
            "\r 33%|███▎      | 1/3 [01:47<03:34, 107.24s/it]"
          ]
        },
        {
          "output_type": "stream",
          "name": "stdout",
          "text": [
            "Val Acc Epoch 2 = 86.35%, Train loss = 0.464\n"
          ]
        },
        {
          "output_type": "stream",
          "name": "stderr",
          "text": [
            "\r 67%|██████▋   | 2/3 [03:36<01:48, 108.66s/it]"
          ]
        },
        {
          "output_type": "stream",
          "name": "stdout",
          "text": [
            "Val Acc Epoch 3 = 87.25%, Train loss = 0.446\n"
          ]
        },
        {
          "output_type": "stream",
          "name": "stderr",
          "text": [
            "100%|██████████| 3/3 [05:25<00:00, 108.64s/it]\n"
          ]
        },
        {
          "output_type": "stream",
          "name": "stdout",
          "text": [
            "batch_time 0.16710543632507324\n",
            "batch_sample 1368\n",
            "Model predicts 88.158% of the samples correctly.\n",
            "Average inference time per sample: 0.122 ms.\n",
            "\n",
            "L1 pruning Unstructured - FT - Prune 0.4: nparams=9984.0, acc=0.882\n",
            "batch_time 0.1552746295928955\n",
            "batch_sample 1368\n",
            "Model predicts 84.064% of the samples correctly.\n",
            "Average inference time per sample: 0.114 ms.\n",
            "\n",
            "L1 pruning Unstructured - No FT - Prune 0.6: nparams=6668, acc=0.841\n"
          ]
        },
        {
          "output_type": "stream",
          "name": "stderr",
          "text": [
            "\r  0%|          | 0/3 [00:00<?, ?it/s]"
          ]
        },
        {
          "output_type": "stream",
          "name": "stdout",
          "text": [
            "Val Acc Epoch 1 = 86.5%, Train loss = 0.514\n"
          ]
        },
        {
          "output_type": "stream",
          "name": "stderr",
          "text": [
            "\r 33%|███▎      | 1/3 [01:48<03:36, 108.15s/it]"
          ]
        },
        {
          "output_type": "stream",
          "name": "stdout",
          "text": [
            "Val Acc Epoch 2 = 86.65%, Train loss = 0.479\n"
          ]
        },
        {
          "output_type": "stream",
          "name": "stderr",
          "text": [
            "\r 67%|██████▋   | 2/3 [03:36<01:48, 108.08s/it]"
          ]
        },
        {
          "output_type": "stream",
          "name": "stdout",
          "text": [
            "Val Acc Epoch 3 = 86.8%, Train loss = 0.466\n"
          ]
        },
        {
          "output_type": "stream",
          "name": "stderr",
          "text": [
            "100%|██████████| 3/3 [05:25<00:00, 108.35s/it]\n"
          ]
        },
        {
          "output_type": "stream",
          "name": "stdout",
          "text": [
            "batch_time 0.16277003288269043\n",
            "batch_sample 1368\n",
            "Model predicts 85.453% of the samples correctly.\n",
            "Average inference time per sample: 0.119 ms.\n",
            "\n",
            "L1 pruning Unstructured - FT - Prune 0.6: nparams=6656.0, acc=0.855\n",
            "batch_time 0.1790323257446289\n",
            "batch_sample 1368\n",
            "Model predicts 81.944% of the samples correctly.\n",
            "Average inference time per sample: 0.131 ms.\n",
            "\n",
            "L1 pruning Unstructured - No FT - Prune 0.8: nparams=3340, acc=0.819\n"
          ]
        },
        {
          "output_type": "stream",
          "name": "stderr",
          "text": [
            "\r  0%|          | 0/3 [00:00<?, ?it/s]"
          ]
        },
        {
          "output_type": "stream",
          "name": "stdout",
          "text": [
            "Val Acc Epoch 1 = 85.37%, Train loss = 0.532\n"
          ]
        },
        {
          "output_type": "stream",
          "name": "stderr",
          "text": [
            "\r 33%|███▎      | 1/3 [01:47<03:34, 107.48s/it]"
          ]
        },
        {
          "output_type": "stream",
          "name": "stdout",
          "text": [
            "Val Acc Epoch 2 = 86.72%, Train loss = 0.504\n"
          ]
        },
        {
          "output_type": "stream",
          "name": "stderr",
          "text": [
            "\r 67%|██████▋   | 2/3 [03:34<01:47, 107.48s/it]"
          ]
        },
        {
          "output_type": "stream",
          "name": "stdout",
          "text": [
            "Val Acc Epoch 3 = 86.27%, Train loss = 0.487\n"
          ]
        },
        {
          "output_type": "stream",
          "name": "stderr",
          "text": [
            "100%|██████████| 3/3 [05:23<00:00, 107.83s/it]\n"
          ]
        },
        {
          "output_type": "stream",
          "name": "stdout",
          "text": [
            "batch_time 0.17615890502929688\n",
            "batch_sample 1368\n",
            "Model predicts 86.550% of the samples correctly.\n",
            "Average inference time per sample: 0.129 ms.\n",
            "\n",
            "L1 pruning Unstructured - FT - Prune 0.8: nparams=3328.0, acc=0.865\n",
            "Running unstructured pruning experiment for model pretrained with Linf regularization:\n",
            "batch_time 0.15835285186767578\n",
            "batch_sample 1368\n",
            "Model predicts 84.137% of the samples correctly.\n",
            "Average inference time per sample: 0.116 ms.\n",
            "\n",
            "L1 pruning Unstructured - No FT - Prune 0.0: nparams=16652, acc=0.841\n"
          ]
        },
        {
          "output_type": "stream",
          "name": "stderr",
          "text": [
            "\r  0%|          | 0/3 [00:00<?, ?it/s]"
          ]
        },
        {
          "output_type": "stream",
          "name": "stdout",
          "text": [
            "Val Acc Epoch 1 = 85.82%, Train loss = 0.503\n"
          ]
        },
        {
          "output_type": "stream",
          "name": "stderr",
          "text": [
            "\r 33%|███▎      | 1/3 [01:47<03:35, 107.82s/it]"
          ]
        },
        {
          "output_type": "stream",
          "name": "stdout",
          "text": [
            "Val Acc Epoch 2 = 86.8%, Train loss = 0.465\n"
          ]
        },
        {
          "output_type": "stream",
          "name": "stderr",
          "text": [
            "\r 67%|██████▋   | 2/3 [03:34<01:47, 107.09s/it]"
          ]
        },
        {
          "output_type": "stream",
          "name": "stdout",
          "text": [
            "Val Acc Epoch 3 = 86.05%, Train loss = 0.458\n"
          ]
        },
        {
          "output_type": "stream",
          "name": "stderr",
          "text": [
            "100%|██████████| 3/3 [05:23<00:00, 107.84s/it]\n"
          ]
        },
        {
          "output_type": "stream",
          "name": "stdout",
          "text": [
            "batch_time 0.16852355003356934\n",
            "batch_sample 1368\n",
            "Model predicts 86.550% of the samples correctly.\n",
            "Average inference time per sample: 0.123 ms.\n",
            "\n",
            "L1 pruning Unstructured - FT - Prune 0.0: nparams=16640.0, acc=0.865\n",
            "batch_time 0.18222308158874512\n",
            "batch_sample 1368\n",
            "Model predicts 84.064% of the samples correctly.\n",
            "Average inference time per sample: 0.133 ms.\n",
            "\n",
            "L1 pruning Unstructured - No FT - Prune 0.2: nparams=13324, acc=0.841\n"
          ]
        },
        {
          "output_type": "stream",
          "name": "stderr",
          "text": [
            "\r  0%|          | 0/3 [00:00<?, ?it/s]"
          ]
        },
        {
          "output_type": "stream",
          "name": "stdout",
          "text": [
            "Val Acc Epoch 1 = 86.5%, Train loss = 0.501\n"
          ]
        },
        {
          "output_type": "stream",
          "name": "stderr",
          "text": [
            "\r 33%|███▎      | 1/3 [01:47<03:35, 107.92s/it]"
          ]
        },
        {
          "output_type": "stream",
          "name": "stdout",
          "text": [
            "Val Acc Epoch 2 = 85.75%, Train loss = 0.469\n"
          ]
        },
        {
          "output_type": "stream",
          "name": "stderr",
          "text": [
            "\r 67%|██████▋   | 2/3 [03:34<01:47, 107.34s/it]"
          ]
        },
        {
          "output_type": "stream",
          "name": "stdout",
          "text": [
            "Val Acc Epoch 3 = 86.95%, Train loss = 0.449\n"
          ]
        },
        {
          "output_type": "stream",
          "name": "stderr",
          "text": [
            "100%|██████████| 3/3 [05:22<00:00, 107.38s/it]\n"
          ]
        },
        {
          "output_type": "stream",
          "name": "stdout",
          "text": [
            "batch_time 0.17463469505310059\n",
            "batch_sample 1368\n",
            "Model predicts 88.012% of the samples correctly.\n",
            "Average inference time per sample: 0.128 ms.\n",
            "\n",
            "L1 pruning Unstructured - FT - Prune 0.2: nparams=13312.0, acc=0.880\n",
            "batch_time 0.2764618396759033\n",
            "batch_sample 1368\n",
            "Model predicts 84.503% of the samples correctly.\n",
            "Average inference time per sample: 0.202 ms.\n",
            "\n",
            "L1 pruning Unstructured - No FT - Prune 0.4: nparams=9996, acc=0.845\n"
          ]
        },
        {
          "output_type": "stream",
          "name": "stderr",
          "text": [
            "\r  0%|          | 0/3 [00:00<?, ?it/s]"
          ]
        },
        {
          "output_type": "stream",
          "name": "stdout",
          "text": [
            "Val Acc Epoch 1 = 84.92%, Train loss = 0.495\n"
          ]
        },
        {
          "output_type": "stream",
          "name": "stderr",
          "text": [
            "\r 33%|███▎      | 1/3 [01:46<03:33, 106.66s/it]"
          ]
        },
        {
          "output_type": "stream",
          "name": "stdout",
          "text": [
            "Val Acc Epoch 2 = 86.87%, Train loss = 0.465\n"
          ]
        },
        {
          "output_type": "stream",
          "name": "stderr",
          "text": [
            "\r 67%|██████▋   | 2/3 [03:35<01:47, 107.76s/it]"
          ]
        },
        {
          "output_type": "stream",
          "name": "stdout",
          "text": [
            "Val Acc Epoch 3 = 88.07%, Train loss = 0.447\n"
          ]
        },
        {
          "output_type": "stream",
          "name": "stderr",
          "text": [
            "100%|██████████| 3/3 [05:22<00:00, 107.48s/it]\n"
          ]
        },
        {
          "output_type": "stream",
          "name": "stdout",
          "text": [
            "batch_time 0.16073346138000488\n",
            "batch_sample 1368\n",
            "Model predicts 87.500% of the samples correctly.\n",
            "Average inference time per sample: 0.117 ms.\n",
            "\n",
            "L1 pruning Unstructured - FT - Prune 0.4: nparams=9984.0, acc=0.875\n",
            "batch_time 0.2974081039428711\n",
            "batch_sample 1368\n",
            "Model predicts 84.430% of the samples correctly.\n",
            "Average inference time per sample: 0.217 ms.\n",
            "\n",
            "L1 pruning Unstructured - No FT - Prune 0.6: nparams=6668, acc=0.844\n"
          ]
        },
        {
          "output_type": "stream",
          "name": "stderr",
          "text": [
            "\r  0%|          | 0/3 [00:00<?, ?it/s]"
          ]
        },
        {
          "output_type": "stream",
          "name": "stdout",
          "text": [
            "Val Acc Epoch 1 = 86.5%, Train loss = 0.506\n"
          ]
        },
        {
          "output_type": "stream",
          "name": "stderr",
          "text": [
            "\r 33%|███▎      | 1/3 [01:47<03:35, 107.59s/it]"
          ]
        },
        {
          "output_type": "stream",
          "name": "stdout",
          "text": [
            "Val Acc Epoch 2 = 86.35%, Train loss = 0.458\n"
          ]
        },
        {
          "output_type": "stream",
          "name": "stderr",
          "text": [
            "\r 67%|██████▋   | 2/3 [03:35<01:47, 107.66s/it]"
          ]
        },
        {
          "output_type": "stream",
          "name": "stdout",
          "text": [
            "Val Acc Epoch 3 = 86.5%, Train loss = 0.453\n"
          ]
        },
        {
          "output_type": "stream",
          "name": "stderr",
          "text": [
            "100%|██████████| 3/3 [05:22<00:00, 107.58s/it]\n"
          ]
        },
        {
          "output_type": "stream",
          "name": "stdout",
          "text": [
            "batch_time 0.15665578842163086\n",
            "batch_sample 1368\n",
            "Model predicts 86.915% of the samples correctly.\n",
            "Average inference time per sample: 0.115 ms.\n",
            "\n",
            "L1 pruning Unstructured - FT - Prune 0.6: nparams=6656.0, acc=0.869\n",
            "batch_time 0.1460869312286377\n",
            "batch_sample 1368\n",
            "Model predicts 83.406% of the samples correctly.\n",
            "Average inference time per sample: 0.107 ms.\n",
            "\n",
            "L1 pruning Unstructured - No FT - Prune 0.8: nparams=3340, acc=0.834\n"
          ]
        },
        {
          "output_type": "stream",
          "name": "stderr",
          "text": [
            "\r  0%|          | 0/3 [00:00<?, ?it/s]"
          ]
        },
        {
          "output_type": "stream",
          "name": "stdout",
          "text": [
            "Val Acc Epoch 1 = 86.05%, Train loss = 0.541\n"
          ]
        },
        {
          "output_type": "stream",
          "name": "stderr",
          "text": [
            "\r 33%|███▎      | 1/3 [01:47<03:35, 107.67s/it]"
          ]
        },
        {
          "output_type": "stream",
          "name": "stdout",
          "text": [
            "Val Acc Epoch 2 = 85.6%, Train loss = 0.486\n"
          ]
        },
        {
          "output_type": "stream",
          "name": "stderr",
          "text": [
            "\r 67%|██████▋   | 2/3 [03:36<01:48, 108.12s/it]"
          ]
        },
        {
          "output_type": "stream",
          "name": "stdout",
          "text": [
            "Val Acc Epoch 3 = 86.42%, Train loss = 0.473\n"
          ]
        },
        {
          "output_type": "stream",
          "name": "stderr",
          "text": [
            "100%|██████████| 3/3 [05:23<00:00, 107.86s/it]\n"
          ]
        },
        {
          "output_type": "stream",
          "name": "stdout",
          "text": [
            "batch_time 0.2914571762084961\n",
            "batch_sample 1368\n",
            "Model predicts 86.184% of the samples correctly.\n",
            "Average inference time per sample: 0.213 ms.\n",
            "\n",
            "L1 pruning Unstructured - FT - Prune 0.8: nparams=3328.0, acc=0.862\n"
          ]
        },
        {
          "output_type": "display_data",
          "data": {
            "text/plain": [
              "<Figure size 640x480 with 1 Axes>"
            ],
            "image/png": "[encoded data removed]"
          },
          "metadata": {}
        },
        {
          "output_type": "display_data",
          "data": {
            "text/plain": [
              "<Figure size 640x480 with 1 Axes>"
            ],
            "image/png": "[encoded data removed]"
          },
          "metadata": {}
        },
        {
          "output_type": "display_data",
          "data": {
            "text/plain": [
              "<Figure size 640x480 with 1 Axes>"
            ],
            "image/png": "[encoded data removed]"
          },
          "metadata": {}
        }
      ]
    },
    {
      "cell_type": "code",
      "source": [],
      "metadata": {
        "id": "SDyfgKpPL4HH"
      },
      "execution_count": null,
      "outputs": []
    }
  ],
  "metadata": {
    "colab": {
      "name": "6_pruning.ipynb",
      "provenance": [],
      "include_colab_link": true
    },
    "interpreter": {
      "hash": "eed6bdaff5cc743acd241b8f3fe4c5dc3266475018a66ac615ca19ad2f28387d"
    },
    "kernelspec": {
      "display_name": "Python 3",
      "name": "python3"
    },
    "language_info": {
      "name": "python"
    }
  },
  "nbformat": 4,
  "nbformat_minor": 0
}
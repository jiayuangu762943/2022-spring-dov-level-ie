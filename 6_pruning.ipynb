{
  "cells": [
    {
      "cell_type": "markdown",
      "metadata": {
        "id": "view-in-github",
        "colab_type": "text"
      },
      "source": [
        "<a href=\"https://colab.research.google.com/github/jiayuangu762943/2022-spring-dov-level-ie/blob/main/6_pruning.ipynb\" target=\"_parent\"><img src=\"https://colab.research.google.com/assets/colab-badge.svg\" alt=\"Open In Colab\"/></a>"
      ]
    },
    {
      "cell_type": "markdown",
      "metadata": {
        "id": "rT9UCMkJpQt4"
      },
      "source": [
        "# **6. Model Pruning**"
      ]
    },
    {
      "cell_type": "markdown",
      "metadata": {
        "id": "z69Judy_pm0f"
      },
      "source": [
        "## 6.0 Setup GDrive and Git"
      ]
    },
    {
      "cell_type": "code",
      "execution_count": 22,
      "metadata": {
        "id": "lDjNQ68KByBz",
        "colab": {
          "base_uri": "https://localhost:8080/"
        },
        "outputId": "c3bdf31b-4b40-435b-cfdf-6395bee57819"
      },
      "outputs": [
        {
          "output_type": "stream",
          "name": "stdout",
          "text": [
            "Drive already mounted at /content/gdrive; to attempt to forcibly remount, call drive.mount(\"/content/gdrive\", force_remount=True).\n"
          ]
        }
      ],
      "source": [
        "# Mount google drive\n",
        "from google.colab import drive\n",
        "drive.mount('/content/gdrive')"
      ]
    },
    {
      "cell_type": "code",
      "execution_count": 23,
      "metadata": {
        "id": "Xc4_W3YKB7g_"
      },
      "outputs": [],
      "source": [
        "# Make sure your token is stored in a txt file at the location below.\n",
        "# This way there is no risk that you will push it to your repo\n",
        "# Never share your token with anyone, it is basically your github password!\n",
        "with open('/content/gdrive/MyDrive/ece5545/token.txt') as f:\n",
        "    token = f.readline().strip()\n",
        "# Use another file to store your github username\n",
        "with open('/content/gdrive/MyDrive/ece5545/git_username.txt') as f:\n",
        "    handle = f.readline().strip()"
      ]
    },
    {
      "cell_type": "code",
      "execution_count": 24,
      "metadata": {
        "id": "hCPU1IvvB7r6",
        "colab": {
          "base_uri": "https://localhost:8080/"
        },
        "outputId": "af88d7d8-a94d-4ad0-b03f-ffae1d5d1d20"
      },
      "outputs": [
        {
          "output_type": "stream",
          "name": "stdout",
          "text": [
            "mkdir: cannot create directory ‘/content/gdrive/MyDrive/ece5545’: File exists\n",
            "/content/gdrive/MyDrive/ece5545\n",
            "fatal: destination path 'a2-jiayuangu762943' already exists and is not an empty directory.\n",
            "/content/gdrive/MyDrive/ece5545/a2-jiayuangu762943\n",
            "Already on 'main'\n",
            "Your branch is up to date with 'origin/main'.\n",
            "Already up to date.\n",
            "/content/gdrive/MyDrive/ece5545\n"
          ]
        }
      ],
      "source": [
        "# Clone your github repo\n",
        "YOUR_TOKEN = token\n",
        "YOUR_HANDLE = handle\n",
        "BRANCH = \"main\"\n",
        "\n",
        "%mkdir /content/gdrive/MyDrive/ece5545\n",
        "%cd /content/gdrive/MyDrive/ece5545\n",
        "!git clone https://{YOUR_TOKEN}@github.com/ML-HW-SYS/a2-{YOUR_HANDLE}.git\n",
        "%cd /content/gdrive/MyDrive/ece5545/a2-{YOUR_HANDLE}\n",
        "!git checkout {BRANCH}\n",
        "!git pull\n",
        "%cd /content/gdrive/MyDrive/ece5545\n",
        "\n",
        "PROJECT_ROOT = f\"/content/gdrive/MyDrive/ece5545/a2-{YOUR_HANDLE}\""
      ]
    },
    {
      "cell_type": "code",
      "execution_count": 25,
      "metadata": {
        "id": "aKMJj5f1B7zb",
        "colab": {
          "base_uri": "https://localhost:8080/"
        },
        "outputId": "1e180a68-e93e-44f0-e0a3-d7f4ddfe09ae"
      },
      "outputs": [
        {
          "output_type": "stream",
          "name": "stdout",
          "text": [
            "The autoreload extension is already loaded. To reload it, use:\n",
            "  %reload_ext autoreload\n"
          ]
        }
      ],
      "source": [
        "\n",
        "# This extension reloads all imports before running each cell\n",
        "%load_ext autoreload\n",
        "%autoreload 2"
      ]
    },
    {
      "cell_type": "markdown",
      "metadata": {
        "id": "jWpupyC8p7fD"
      },
      "source": [
        "### GPU: Ensure you are running the GPU runtime type:\n",
        "1.   Click \"Runtime\" on top banner\n",
        "2.   Select \"Change runtime type\"\n",
        "3.   Under \"Hardware accelarator\" select \"GPU\" and save"
      ]
    },
    {
      "cell_type": "markdown",
      "metadata": {
        "id": "Se1IC3sCqTYF"
      },
      "source": [
        "### Install required packages"
      ]
    },
    {
      "cell_type": "code",
      "execution_count": 5,
      "metadata": {
        "id": "0VWKHppopJTu",
        "colab": {
          "base_uri": "https://localhost:8080/"
        },
        "outputId": "f50b184d-120b-4b76-c7c5-2933191a17f2"
      },
      "outputs": [
        {
          "output_type": "stream",
          "name": "stdout",
          "text": [
            "Requirement already satisfied: torchaudio in /usr/local/lib/python3.11/dist-packages (2.6.0+cu124)\n",
            "Requirement already satisfied: torch==2.6.0 in /usr/local/lib/python3.11/dist-packages (from torchaudio) (2.6.0+cu124)\n",
            "Requirement already satisfied: filelock in /usr/local/lib/python3.11/dist-packages (from torch==2.6.0->torchaudio) (3.17.0)\n",
            "Requirement already satisfied: typing-extensions>=4.10.0 in /usr/local/lib/python3.11/dist-packages (from torch==2.6.0->torchaudio) (4.12.2)\n",
            "Requirement already satisfied: networkx in /usr/local/lib/python3.11/dist-packages (from torch==2.6.0->torchaudio) (3.4.2)\n",
            "Requirement already satisfied: jinja2 in /usr/local/lib/python3.11/dist-packages (from torch==2.6.0->torchaudio) (3.1.6)\n",
            "Requirement already satisfied: fsspec in /usr/local/lib/python3.11/dist-packages (from torch==2.6.0->torchaudio) (2024.10.0)\n",
            "Collecting nvidia-cuda-nvrtc-cu12==12.4.127 (from torch==2.6.0->torchaudio)\n",
            "  Downloading nvidia_cuda_nvrtc_cu12-12.4.127-py3-none-manylinux2014_x86_64.whl.metadata (1.5 kB)\n",
            "Collecting nvidia-cuda-runtime-cu12==12.4.127 (from torch==2.6.0->torchaudio)\n",
            "  Downloading nvidia_cuda_runtime_cu12-12.4.127-py3-none-manylinux2014_x86_64.whl.metadata (1.5 kB)\n",
            "Collecting nvidia-cuda-cupti-cu12==12.4.127 (from torch==2.6.0->torchaudio)\n",
            "  Downloading nvidia_cuda_cupti_cu12-12.4.127-py3-none-manylinux2014_x86_64.whl.metadata (1.6 kB)\n",
            "Collecting nvidia-cudnn-cu12==9.1.0.70 (from torch==2.6.0->torchaudio)\n",
            "  Downloading nvidia_cudnn_cu12-9.1.0.70-py3-none-manylinux2014_x86_64.whl.metadata (1.6 kB)\n",
            "Collecting nvidia-cublas-cu12==12.4.5.8 (from torch==2.6.0->torchaudio)\n",
            "  Downloading nvidia_cublas_cu12-12.4.5.8-py3-none-manylinux2014_x86_64.whl.metadata (1.5 kB)\n",
            "Collecting nvidia-cufft-cu12==11.2.1.3 (from torch==2.6.0->torchaudio)\n",
            "  Downloading nvidia_cufft_cu12-11.2.1.3-py3-none-manylinux2014_x86_64.whl.metadata (1.5 kB)\n",
            "Collecting nvidia-curand-cu12==10.3.5.147 (from torch==2.6.0->torchaudio)\n",
            "  Downloading nvidia_curand_cu12-10.3.5.147-py3-none-manylinux2014_x86_64.whl.metadata (1.5 kB)\n",
            "Collecting nvidia-cusolver-cu12==11.6.1.9 (from torch==2.6.0->torchaudio)\n",
            "  Downloading nvidia_cusolver_cu12-11.6.1.9-py3-none-manylinux2014_x86_64.whl.metadata (1.6 kB)\n",
            "Collecting nvidia-cusparse-cu12==12.3.1.170 (from torch==2.6.0->torchaudio)\n",
            "  Downloading nvidia_cusparse_cu12-12.3.1.170-py3-none-manylinux2014_x86_64.whl.metadata (1.6 kB)\n",
            "Requirement already satisfied: nvidia-cusparselt-cu12==0.6.2 in /usr/local/lib/python3.11/dist-packages (from torch==2.6.0->torchaudio) (0.6.2)\n",
            "Requirement already satisfied: nvidia-nccl-cu12==2.21.5 in /usr/local/lib/python3.11/dist-packages (from torch==2.6.0->torchaudio) (2.21.5)\n",
            "Requirement already satisfied: nvidia-nvtx-cu12==12.4.127 in /usr/local/lib/python3.11/dist-packages (from torch==2.6.0->torchaudio) (12.4.127)\n",
            "Collecting nvidia-nvjitlink-cu12==12.4.127 (from torch==2.6.0->torchaudio)\n",
            "  Downloading nvidia_nvjitlink_cu12-12.4.127-py3-none-manylinux2014_x86_64.whl.metadata (1.5 kB)\n",
            "Requirement already satisfied: triton==3.2.0 in /usr/local/lib/python3.11/dist-packages (from torch==2.6.0->torchaudio) (3.2.0)\n",
            "Requirement already satisfied: sympy==1.13.1 in /usr/local/lib/python3.11/dist-packages (from torch==2.6.0->torchaudio) (1.13.1)\n",
            "Requirement already satisfied: mpmath<1.4,>=1.1.0 in /usr/local/lib/python3.11/dist-packages (from sympy==1.13.1->torch==2.6.0->torchaudio) (1.3.0)\n",
            "Requirement already satisfied: MarkupSafe>=2.0 in /usr/local/lib/python3.11/dist-packages (from jinja2->torch==2.6.0->torchaudio) (3.0.2)\n",
            "Downloading nvidia_cublas_cu12-12.4.5.8-py3-none-manylinux2014_x86_64.whl (363.4 MB)\n",
            "\u001b[2K   \u001b[90m━━━━━━━━━━━━━━━━━━━━━━━━━━━━━━━━━━━━━━━━\u001b[0m \u001b[32m363.4/363.4 MB\u001b[0m \u001b[31m1.5 MB/s\u001b[0m eta \u001b[36m0:00:00\u001b[0m\n",
            "\u001b[?25hDownloading nvidia_cuda_cupti_cu12-12.4.127-py3-none-manylinux2014_x86_64.whl (13.8 MB)\n",
            "\u001b[2K   \u001b[90m━━━━━━━━━━━━━━━━━━━━━━━━━━━━━━━━━━━━━━━━\u001b[0m \u001b[32m13.8/13.8 MB\u001b[0m \u001b[31m93.5 MB/s\u001b[0m eta \u001b[36m0:00:00\u001b[0m\n",
            "\u001b[?25hDownloading nvidia_cuda_nvrtc_cu12-12.4.127-py3-none-manylinux2014_x86_64.whl (24.6 MB)\n",
            "\u001b[2K   \u001b[90m━━━━━━━━━━━━━━━━━━━━━━━━━━━━━━━━━━━━━━━━\u001b[0m \u001b[32m24.6/24.6 MB\u001b[0m \u001b[31m74.0 MB/s\u001b[0m eta \u001b[36m0:00:00\u001b[0m\n",
            "\u001b[?25hDownloading nvidia_cuda_runtime_cu12-12.4.127-py3-none-manylinux2014_x86_64.whl (883 kB)\n",
            "\u001b[2K   \u001b[90m━━━━━━━━━━━━━━━━━━━━━━━━━━━━━━━━━━━━━━━━\u001b[0m \u001b[32m883.7/883.7 kB\u001b[0m \u001b[31m51.0 MB/s\u001b[0m eta \u001b[36m0:00:00\u001b[0m\n",
            "\u001b[?25hDownloading nvidia_cudnn_cu12-9.1.0.70-py3-none-manylinux2014_x86_64.whl (664.8 MB)\n",
            "\u001b[2K   \u001b[90m━━━━━━━━━━━━━━━━━━━━━━━━━━━━━━━━━━━━━━━━\u001b[0m \u001b[32m664.8/664.8 MB\u001b[0m \u001b[31m2.9 MB/s\u001b[0m eta \u001b[36m0:00:00\u001b[0m\n",
            "\u001b[?25hDownloading nvidia_cufft_cu12-11.2.1.3-py3-none-manylinux2014_x86_64.whl (211.5 MB)\n",
            "\u001b[2K   \u001b[90m━━━━━━━━━━━━━━━━━━━━━━━━━━━━━━━━━━━━━━━━\u001b[0m \u001b[32m211.5/211.5 MB\u001b[0m \u001b[31m5.9 MB/s\u001b[0m eta \u001b[36m0:00:00\u001b[0m\n",
            "\u001b[?25hDownloading nvidia_curand_cu12-10.3.5.147-py3-none-manylinux2014_x86_64.whl (56.3 MB)\n",
            "\u001b[2K   \u001b[90m━━━━━━━━━━━━━━━━━━━━━━━━━━━━━━━━━━━━━━━━\u001b[0m \u001b[32m56.3/56.3 MB\u001b[0m \u001b[31m13.0 MB/s\u001b[0m eta \u001b[36m0:00:00\u001b[0m\n",
            "\u001b[?25hDownloading nvidia_cusolver_cu12-11.6.1.9-py3-none-manylinux2014_x86_64.whl (127.9 MB)\n",
            "\u001b[2K   \u001b[90m━━━━━━━━━━━━━━━━━━━━━━━━━━━━━━━━━━━━━━━━\u001b[0m \u001b[32m127.9/127.9 MB\u001b[0m \u001b[31m7.4 MB/s\u001b[0m eta \u001b[36m0:00:00\u001b[0m\n",
            "\u001b[?25hDownloading nvidia_cusparse_cu12-12.3.1.170-py3-none-manylinux2014_x86_64.whl (207.5 MB)\n",
            "\u001b[2K   \u001b[90m━━━━━━━━━━━━━━━━━━━━━━━━━━━━━━━━━━━━━━━━\u001b[0m \u001b[32m207.5/207.5 MB\u001b[0m \u001b[31m5.6 MB/s\u001b[0m eta \u001b[36m0:00:00\u001b[0m\n",
            "\u001b[?25hDownloading nvidia_nvjitlink_cu12-12.4.127-py3-none-manylinux2014_x86_64.whl (21.1 MB)\n",
            "\u001b[2K   \u001b[90m━━━━━━━━━━━━━━━━━━━━━━━━━━━━━━━━━━━━━━━━\u001b[0m \u001b[32m21.1/21.1 MB\u001b[0m \u001b[31m69.1 MB/s\u001b[0m eta \u001b[36m0:00:00\u001b[0m\n",
            "\u001b[?25hInstalling collected packages: nvidia-nvjitlink-cu12, nvidia-curand-cu12, nvidia-cufft-cu12, nvidia-cuda-runtime-cu12, nvidia-cuda-nvrtc-cu12, nvidia-cuda-cupti-cu12, nvidia-cublas-cu12, nvidia-cusparse-cu12, nvidia-cudnn-cu12, nvidia-cusolver-cu12\n",
            "  Attempting uninstall: nvidia-nvjitlink-cu12\n",
            "    Found existing installation: nvidia-nvjitlink-cu12 12.5.82\n",
            "    Uninstalling nvidia-nvjitlink-cu12-12.5.82:\n",
            "      Successfully uninstalled nvidia-nvjitlink-cu12-12.5.82\n",
            "  Attempting uninstall: nvidia-curand-cu12\n",
            "    Found existing installation: nvidia-curand-cu12 10.3.6.82\n",
            "    Uninstalling nvidia-curand-cu12-10.3.6.82:\n",
            "      Successfully uninstalled nvidia-curand-cu12-10.3.6.82\n",
            "  Attempting uninstall: nvidia-cufft-cu12\n",
            "    Found existing installation: nvidia-cufft-cu12 11.2.3.61\n",
            "    Uninstalling nvidia-cufft-cu12-11.2.3.61:\n",
            "      Successfully uninstalled nvidia-cufft-cu12-11.2.3.61\n",
            "  Attempting uninstall: nvidia-cuda-runtime-cu12\n",
            "    Found existing installation: nvidia-cuda-runtime-cu12 12.5.82\n",
            "    Uninstalling nvidia-cuda-runtime-cu12-12.5.82:\n",
            "      Successfully uninstalled nvidia-cuda-runtime-cu12-12.5.82\n",
            "  Attempting uninstall: nvidia-cuda-nvrtc-cu12\n",
            "    Found existing installation: nvidia-cuda-nvrtc-cu12 12.5.82\n",
            "    Uninstalling nvidia-cuda-nvrtc-cu12-12.5.82:\n",
            "      Successfully uninstalled nvidia-cuda-nvrtc-cu12-12.5.82\n",
            "  Attempting uninstall: nvidia-cuda-cupti-cu12\n",
            "    Found existing installation: nvidia-cuda-cupti-cu12 12.5.82\n",
            "    Uninstalling nvidia-cuda-cupti-cu12-12.5.82:\n",
            "      Successfully uninstalled nvidia-cuda-cupti-cu12-12.5.82\n",
            "  Attempting uninstall: nvidia-cublas-cu12\n",
            "    Found existing installation: nvidia-cublas-cu12 12.5.3.2\n",
            "    Uninstalling nvidia-cublas-cu12-12.5.3.2:\n",
            "      Successfully uninstalled nvidia-cublas-cu12-12.5.3.2\n",
            "  Attempting uninstall: nvidia-cusparse-cu12\n",
            "    Found existing installation: nvidia-cusparse-cu12 12.5.1.3\n",
            "    Uninstalling nvidia-cusparse-cu12-12.5.1.3:\n",
            "      Successfully uninstalled nvidia-cusparse-cu12-12.5.1.3\n",
            "  Attempting uninstall: nvidia-cudnn-cu12\n",
            "    Found existing installation: nvidia-cudnn-cu12 9.3.0.75\n",
            "    Uninstalling nvidia-cudnn-cu12-9.3.0.75:\n",
            "      Successfully uninstalled nvidia-cudnn-cu12-9.3.0.75\n",
            "  Attempting uninstall: nvidia-cusolver-cu12\n",
            "    Found existing installation: nvidia-cusolver-cu12 11.6.3.83\n",
            "    Uninstalling nvidia-cusolver-cu12-11.6.3.83:\n",
            "      Successfully uninstalled nvidia-cusolver-cu12-11.6.3.83\n",
            "Successfully installed nvidia-cublas-cu12-12.4.5.8 nvidia-cuda-cupti-cu12-12.4.127 nvidia-cuda-nvrtc-cu12-12.4.127 nvidia-cuda-runtime-cu12-12.4.127 nvidia-cudnn-cu12-9.1.0.70 nvidia-cufft-cu12-11.2.1.3 nvidia-curand-cu12-10.3.5.147 nvidia-cusolver-cu12-11.6.1.9 nvidia-cusparse-cu12-12.3.1.170 nvidia-nvjitlink-cu12-12.4.127\n"
          ]
        }
      ],
      "source": [
        "!pip install torchaudio"
      ]
    },
    {
      "cell_type": "markdown",
      "metadata": {
        "id": "GbUE5nAHqhEo"
      },
      "source": [
        "### Import code dependencies"
      ]
    },
    {
      "cell_type": "code",
      "execution_count": 26,
      "metadata": {
        "id": "bqEyUIUnpJTx"
      },
      "outputs": [],
      "source": [
        "\n",
        "# Import libraries\n",
        "import torch\n",
        "import torch.nn as nn\n",
        "import torch.nn.functional as F\n",
        "import torch.optim as optim\n",
        "import torch.nn.utils.prune as prune\n",
        "\n",
        "import matplotlib.pyplot as plt\n",
        "from tqdm.notebook import tqdm\n",
        "import numpy as np\n",
        "import copy\n",
        "\n",
        "import time\n",
        "\n",
        "import sys\n",
        "\n",
        "# Adding assignment1 to the system path-- make sure this matches your git directory\n",
        "sys.path.insert(0, PROJECT_ROOT)\n",
        "\n",
        "# Import data_proc to use data processing functions\n",
        "import src.data_proc as data_proc\n",
        "\n",
        "# Import constants to use constants defined for training\n",
        "from src.constants import *\n",
        "\n",
        "# TensorBoard\n",
        "from torch.utils.tensorboard import SummaryWriter\n",
        "\n",
        "# Set random seed\n",
        "# Make sure the shuffling and picking is deterministic\n",
        "# Note that different value of random_seed may change rate of variation in loss/accuracy during training\n",
        "# Using the same random seed value every time you rerun the notebook will\n",
        "# reproduce the training and testing results\n",
        "random_seed = 0\n",
        "torch.manual_seed(random_seed)\n",
        "torch.cuda.manual_seed(random_seed)"
      ]
    },
    {
      "cell_type": "markdown",
      "metadata": {
        "id": "tfyFWNsHpJTy"
      },
      "source": [
        "## 6.1 Prepare for Training\n",
        "\n"
      ]
    },
    {
      "cell_type": "code",
      "execution_count": 27,
      "metadata": {
        "id": "NEBTHpmypJTz",
        "colab": {
          "base_uri": "https://localhost:8080/"
        },
        "outputId": "b052264c-61ab-448c-8533-76d8c0b6a155"
      },
      "outputs": [
        {
          "output_type": "stream",
          "name": "stdout",
          "text": [
            "Audio_processor created\n",
            "Using cpu to run the training scrpit.\n",
            "Train size: 10556 Val size: 1333 Test size: 1368\n"
          ]
        },
        {
          "output_type": "execute_result",
          "data": {
            "text/plain": [
              "TinyConv(\n",
              "  (conv_reshape): Reshape(output_shape=(-1, 1, 49, 40))\n",
              "  (conv): Conv2d(1, 8, kernel_size=(10, 8), stride=(2, 2), padding=(5, 3))\n",
              "  (relu): ReLU()\n",
              "  (dropout): Dropout(p=0.5, inplace=False)\n",
              "  (fc_reshape): Reshape(output_shape=(-1, 4000))\n",
              "  (fc): Linear(in_features=4000, out_features=4, bias=True)\n",
              "  (softmax): Softmax(dim=1)\n",
              ")"
            ]
          },
          "metadata": {},
          "execution_count": 27
        }
      ],
      "source": [
        "# Create audio_processor\n",
        "# DATASET_DIR is defined in constants.py\n",
        "audio_processor = data_proc.AudioProcessor()\n",
        "print(\"Audio_processor created\")\n",
        "\n",
        "# Define device\n",
        "device = torch.device(\"cuda\" if torch.cuda.is_available() else \"cpu\")\n",
        "print(f'Using {device} to run the training scrpit.')\n",
        "\n",
        "# Define data loaders\n",
        "\n",
        "from src.loaders import make_data_loaders\n",
        "data_loaders = make_data_loaders(audio_processor, device)\n",
        "train_loader = data_loaders['training']\n",
        "test_loader = data_loaders['testing']\n",
        "valid_loader = data_loaders['validation']\n",
        "\n",
        "# Create a full precision (float32) TinyConv model\n",
        "from src.networks import TinyConv\n",
        "model_fp32 = TinyConv(model_settings=audio_processor.model_settings, \\\n",
        "    n_input=1, n_output=audio_processor.num_labels)\n",
        "\n",
        "model_fp32"
      ]
    },
    {
      "cell_type": "code",
      "execution_count": 28,
      "metadata": {
        "id": "87-ko6koBE54"
      },
      "outputs": [],
      "source": [
        "!ls {TORCH_DIR}"
      ]
    },
    {
      "cell_type": "markdown",
      "metadata": {
        "id": "p0kYnxYUBE54"
      },
      "source": [
        "### **TODO: Replace the torch_path model with the model you created in the last section.**\n",
        "\n",
        "You can find the name of your file in `TORCH_DIR` under the folder icon to the left. (Or from running the tab above)."
      ]
    },
    {
      "cell_type": "code",
      "execution_count": 9,
      "metadata": {
        "id": "ZoRiIMnlBE55",
        "colab": {
          "base_uri": "https://localhost:8080/",
          "height": 193
        },
        "outputId": "2ed20a67-e1a0-495c-9673-f760a174079f"
      },
      "outputs": [
        {
          "output_type": "error",
          "ename": "NameError",
          "evalue": "name 'copy' is not defined",
          "traceback": [
            "\u001b[0;31m---------------------------------------------------------------------------\u001b[0m",
            "\u001b[0;31mNameError\u001b[0m                                 Traceback (most recent call last)",
            "\u001b[0;32m<ipython-input-9-d37036578df6>\u001b[0m in \u001b[0;36m<cell line: 0>\u001b[0;34m()\u001b[0m\n\u001b[1;32m      4\u001b[0m \u001b[0;31m# Load model\u001b[0m\u001b[0;34m\u001b[0m\u001b[0;34m\u001b[0m\u001b[0m\n\u001b[1;32m      5\u001b[0m \u001b[0mmodel_fp32\u001b[0m\u001b[0;34m.\u001b[0m\u001b[0mload_state_dict\u001b[0m\u001b[0;34m(\u001b[0m\u001b[0mtorch\u001b[0m\u001b[0;34m.\u001b[0m\u001b[0mload\u001b[0m\u001b[0;34m(\u001b[0m\u001b[0mtorch_path\u001b[0m\u001b[0;34m,\u001b[0m \u001b[0mmap_location\u001b[0m\u001b[0;34m=\u001b[0m\u001b[0mtorch\u001b[0m\u001b[0;34m.\u001b[0m\u001b[0mdevice\u001b[0m\u001b[0;34m(\u001b[0m\u001b[0;34m'cpu'\u001b[0m\u001b[0;34m)\u001b[0m\u001b[0;34m)\u001b[0m\u001b[0;34m)\u001b[0m\u001b[0;34m\u001b[0m\u001b[0;34m\u001b[0m\u001b[0m\n\u001b[0;32m----> 6\u001b[0;31m \u001b[0mmodel_fp32_orig\u001b[0m \u001b[0;34m=\u001b[0m \u001b[0mcopy\u001b[0m\u001b[0;34m.\u001b[0m\u001b[0mdeepcopy\u001b[0m\u001b[0;34m(\u001b[0m\u001b[0mmodel_fp32\u001b[0m\u001b[0;34m)\u001b[0m\u001b[0;34m\u001b[0m\u001b[0;34m\u001b[0m\u001b[0m\n\u001b[0m\u001b[1;32m      7\u001b[0m \u001b[0mmodel_fp32\u001b[0m\u001b[0;34m,\u001b[0m \u001b[0mmodel_fp32_orig\u001b[0m\u001b[0;34m\u001b[0m\u001b[0;34m\u001b[0m\u001b[0m\n",
            "\u001b[0;31mNameError\u001b[0m: name 'copy' is not defined"
          ]
        }
      ],
      "source": [
        "# TODO: Replace me!\n",
        "torch_path = os.path.join(\"/content/gdrive/MyDrive/ece5545/models/torch_models/\", \"tinyconv_float32_init_seed0_90.20%_0.pt\")\n",
        "\n",
        "# Load model\n",
        "model_fp32.load_state_dict(torch.load(torch_path, map_location=torch.device('cpu')))\n",
        "model_fp32_orig = copy.deepcopy(model_fp32)\n",
        "model_fp32, model_fp32_orig"
      ]
    },
    {
      "cell_type": "markdown",
      "metadata": {
        "id": "ybjOCEoRpJT5"
      },
      "source": [
        "## 6.2 Structured Pruning\n",
        "\n",
        "In this section, you will try to conduct structured pruning on the TinyConv model and explore its effect on performance.\n",
        "In this notebook, you will be only given minimum scarfolding code. Please take advantages of the code in previous section to faciliate.\n",
        "\n",
        "Following link will be helpful:\n",
        "[torch.nn.utils.prune.LnStructured](https://pytorch.org/docs/stable/generated/torch.nn.utils.prune.LnStructured.html?highlight=prune#torch.nn.utils.prune.LnStructured.prune)\n",
        "[Torch pruning tutorial](https://pytorch.org/tutorials/intermediate/pruning_tutorial.html?highlight=prune)"
      ]
    },
    {
      "cell_type": "markdown",
      "source": [
        "### from part 5"
      ],
      "metadata": {
        "id": "KeOtT1VHdBDu"
      }
    },
    {
      "cell_type": "code",
      "source": [
        "from src.train_val_test_utils import train, test\n",
        "\n",
        "def run_training(model, data_loaders, n_epoch, log_interval, optimizer, scheduler=None,\n",
        "                 save_interval=1, resume=True, checkpoint_path=None, verbose=False):\n",
        "    with tqdm(total=n_epoch) as pbar:\n",
        "        completed_epoch = 1\n",
        "        if resume:\n",
        "            try:\n",
        "                if checkpoint_path is None:\n",
        "                    raise ValueError\n",
        "                checkpoint = torch.load(checkpoint_path)\n",
        "                model.load_state_dict(checkpoint['model_state_dict'])\n",
        "                optimizer.load_state_dict(checkpoint['optimizer_state_dict'])\n",
        "                if scheduler is not None:\n",
        "                    scheduler.load_state_dict(checkpoint['scheduler_state_dict'])\n",
        "                completed_epoch = checkpoint[\"epoch\"] + 1\n",
        "                model.eval()\n",
        "                pbar.update(completed_epoch)\n",
        "            except:\n",
        "                pass\n",
        "\n",
        "        for epoch in range(completed_epoch, n_epoch + 1):\n",
        "            train(model, data_loaders, optimizer, epoch, device, verbose)\n",
        "            test(test_loader, model, device, epoch=None, loader_type='Test')\n",
        "\n",
        "            if scheduler is not None:\n",
        "                scheduler.step()\n",
        "            if epoch % save_interval == 0 and checkpoint_path is not None:\n",
        "                torch.save({\n",
        "                    'epoch': epoch,\n",
        "                    'model_state_dict': model.state_dict(),\n",
        "                    'optimizer_state_dict': optimizer.state_dict(),\n",
        "                    'scheduler_state_dict': scheduler.state_dict() if scheduler is not None else None\n",
        "                }, checkpoint_path)\n",
        "\n",
        "            pbar.update(1)\n",
        "\n",
        "def accuracy(test_loader, model, device='cpu'):\n",
        "    model.to(device)\n",
        "    model.eval()\n",
        "    num_correct = 0\n",
        "    total_time = 0.0\n",
        "    total_samples = 0\n",
        "\n",
        "    with torch.no_grad():\n",
        "        for data, label in test_loader:\n",
        "            data = data.to(device)\n",
        "            label = label.to(device)\n",
        "\n",
        "            start_time = time.time()\n",
        "            outputs = model(data)\n",
        "            end_time = time.time()\n",
        "\n",
        "            batch_time = end_time - start_time\n",
        "            total_time += batch_time\n",
        "            total_samples += data.size(0)\n",
        "\n",
        "            predict = outputs.argmax(dim=-1)\n",
        "            num_correct += predict.squeeze().eq(label).sum().item()\n",
        "            print(\"batch_time\", batch_time)\n",
        "            print(\"batch_sample\", data.size(0))\n",
        "\n",
        "    model_acc = num_correct / len(test_loader.dataset)\n",
        "    avg_inference_time = total_time / total_samples\n",
        "    print(f'Model predicts {model_acc*100:.3f}% of the samples correctly.')\n",
        "    print(f'Average inference time per sample: {avg_inference_time*1000:.3f} ms.\\n')\n",
        "\n",
        "    return model_acc, avg_inference_time\n",
        "\n",
        "def count_nonzero_weights(model):\n",
        "    \"\"\"\n",
        "    Counts nonzero weights for modules without pruning wrappers.\n",
        "    \"\"\"\n",
        "    count = 0\n",
        "    for param in model.parameters():\n",
        "        count += torch.count_nonzero(param).item()\n",
        "    return count"
      ],
      "metadata": {
        "id": "X_KwN28bdAWn"
      },
      "execution_count": 50,
      "outputs": []
    },
    {
      "cell_type": "markdown",
      "source": [
        "### from part 4"
      ],
      "metadata": {
        "id": "JTqM-HojcH9P"
      }
    },
    {
      "cell_type": "code",
      "source": [
        "%load_ext autoreload\n",
        "%autoreload 2"
      ],
      "metadata": {
        "id": "icWToYA2aKSB"
      },
      "execution_count": 1,
      "outputs": []
    },
    {
      "cell_type": "code",
      "source": [
        "!pip3 install onnx\n",
        "!pip3 install tensorflow-addons\n",
        "!pip3 install tensorflow-probability\n",
        "\n",
        "!pip3 install torchaudio\n",
        "\n",
        "# Install onnx-tensorflow\n",
        "# !git clone https://github.com/onnx/onnx-tensorflow.git\n",
        "# !cd onnx-tensorflow && pip3 install -e .\n",
        "!pip3 install onnx-tf==1.9.0\n",
        "!pip install 'keras<3.0.0'\n",
        "!pip install tensorflow==2.12.0"
      ],
      "metadata": {
        "id": "cPQ8k1y4Z8ej"
      },
      "execution_count": null,
      "outputs": []
    },
    {
      "cell_type": "code",
      "source": [
        " # Import libraries\n",
        "import sys,os\n",
        "PROJECT_ROOT = f\"/content/gdrive/MyDrive/ece5545/a2-jiayuangu762943\"\n",
        "# Add path to onnx-tensorflow\n",
        "sys.path.insert(0, os.path.join(PROJECT_ROOT, 'onnx-tensorflow'))\n",
        "sys.path.insert(0, PROJECT_ROOT)\n",
        "\n",
        "import onnx\n",
        "import torch\n",
        "import torch.nn as nn\n",
        "import numpy as np\n",
        "import os\n",
        "import tensorflow as tf\n",
        "print(f\"TensorFlow Version is: {tf.__version__}\")\n",
        "from onnx_tf.backend import prepare\n",
        "\n",
        "# Import constants to use constants defined for training\n",
        "from src.constants import *\n",
        "import src.data_proc as data_proc"
      ],
      "metadata": {
        "id": "l_T_FdrGcFz8",
        "outputId": "0dd9737b-ae54-482d-b641-5b3433805859",
        "colab": {
          "base_uri": "https://localhost:8080/"
        }
      },
      "execution_count": 2,
      "outputs": [
        {
          "output_type": "stream",
          "name": "stdout",
          "text": [
            "TensorFlow Version is: 2.12.0\n"
          ]
        },
        {
          "output_type": "stream",
          "name": "stderr",
          "text": [
            "/usr/local/lib/python3.11/dist-packages/tensorflow_addons/utils/tfa_eol_msg.py:23: UserWarning: \n",
            "\n",
            "TensorFlow Addons (TFA) has ended development and introduction of new features.\n",
            "TFA has entered a minimal maintenance and release mode until a planned end of life in May 2024.\n",
            "Please modify downstream libraries to take dependencies from other repositories in our TensorFlow community (e.g. Keras, Keras-CV, and Keras-NLP). \n",
            "\n",
            "For more information see: https://github.com/tensorflow/addons/issues/2807 \n",
            "\n",
            "  warnings.warn(\n",
            "/usr/local/lib/python3.11/dist-packages/tensorflow_addons/utils/ensure_tf_install.py:53: UserWarning: Tensorflow Addons supports using Python ops for all Tensorflow versions above or equal to 2.13.0 and strictly below 2.16.0 (nightly versions are not supported). \n",
            " The versions of TensorFlow you are currently using is 2.12.0 and is not supported. \n",
            "Some things might work, some things might not.\n",
            "If you were to encounter a bug, do not file an issue.\n",
            "If you want to make sure you're using a tested and supported configuration, either change the TensorFlow version or the TensorFlow Addons's version. \n",
            "You can find the compatibility matrix in TensorFlow Addon's readme:\n",
            "https://github.com/tensorflow/addons\n",
            "  warnings.warn(\n"
          ]
        },
        {
          "output_type": "stream",
          "name": "stdout",
          "text": [
            "Model folders are created, \n",
            "PyTorch models will be saved in /content/models/torch_models, \n",
            "ONNX models will be saved in /content/models/onnx_models, \n",
            "TensorFlow Saved Models will be saved in /content/models/tf_models, \n",
            "TensorFlow Lite models will be saved in /content/models/tflite_models, \n",
            "TensorFlow Lite Micro models will be saved in /content/models/micro_models.\n"
          ]
        }
      ]
    },
    {
      "cell_type": "code",
      "source": [
        "import os\n",
        "import torch\n",
        "import numpy as np\n",
        "import onnx\n",
        "import tensorflow as tf\n",
        "from onnx_tf.backend import prepare\n",
        "\n",
        "def export_model_without_first_last(model):\n",
        "\n",
        "    new_model = nn.Sequential()\n",
        "    # Exclude conv_reshape (first layer) and softmax (last layer)\n",
        "    new_model.add_module(\"conv\", model.conv)\n",
        "    new_model.add_module(\"relu\", model.relu)\n",
        "    new_model.add_module(\"dropout\", model.dropout)\n",
        "    new_model.add_module(\"fc_reshape\", model.fc_reshape)\n",
        "    new_model.add_module(\"fc\", model.fc)\n",
        "    return new_model\n",
        "\n",
        "\n",
        "def export_model_as_c_array(pytorch_model, c_array_path=\"mycustom/micro_model.cc\",\n",
        "                            onnx_path=\"pruned_model.onnx\",\n",
        "                            tf_path=\"pruned_model_saved\",\n",
        "                            tflite_path=\"pruned_model.tflite\"):\n",
        "\n",
        "    # 1) Export model to ONNX\n",
        "    dummy_input = torch.randn(1, 1, 49, 40)  # Adjust to your model’s input shape\n",
        "    torch.onnx.export(\n",
        "        pytorch_model,\n",
        "        dummy_input,\n",
        "        onnx_path,\n",
        "        input_names=['input'],\n",
        "        output_names=['output'],\n",
        "        export_params=True\n",
        "    )\n",
        "    print(f\"ONNX model saved to {onnx_path}\")\n",
        "\n",
        "    # 2) Load ONNX into TF\n",
        "    onnx_model = onnx.load(onnx_path)\n",
        "    tf_rep = prepare(onnx_model)\n",
        "    tf_rep.export_graph(tf_path)\n",
        "    print(f\"TF model saved to {tf_path}\")\n",
        "\n",
        "    # 3) Convert to TFLite\n",
        "    converter = tf.lite.TFLiteConverter.from_saved_model(tf_path)\n",
        "    tflite_model = converter.convert()\n",
        "    with open(tflite_path, \"wb\") as f:\n",
        "        f.write(tflite_model)\n",
        "    print(f\"TFLite model saved to {tflite_path}\")\n",
        "\n",
        "    # 4) Use xxd to create a C array\n",
        "    !apt-get update && apt-get -qq install xxd\n",
        "    cmd_xxd = f\"xxd -i {tflite_path} > {c_array_path}\"\n",
        "    os.system(cmd_xxd)\n",
        "\n",
        "    # 5) Rename array to \"g_model\"\n",
        "    array_name = tflite_path.replace('/', '_').replace('.', '_')\n",
        "    cmd_sed = f\"sed -i 's/{array_name}/g_model/g' {c_array_path}\"\n",
        "    os.system(cmd_sed)\n",
        "    absolute_path = os.path.abspath(c_array_path)\n",
        "    print(\"C array exported absolute path is:\", absolute_path)\n",
        "    print(f\"C array exported to {c_array_path} as g_model[]\")\n"
      ],
      "metadata": {
        "id": "yLJ3LuLTNCoU"
      },
      "execution_count": 35,
      "outputs": []
    },
    {
      "cell_type": "code",
      "source": [
        "!pip install ptflops"
      ],
      "metadata": {
        "id": "DKtqoB5hGwof"
      },
      "execution_count": null,
      "outputs": []
    },
    {
      "cell_type": "code",
      "execution_count": 51,
      "metadata": {
        "id": "EAbsnQD6LSYR",
        "colab": {
          "base_uri": "https://localhost:8080/",
          "height": 1000
        },
        "outputId": "c65c68eb-e3ce-432e-b1a4-fe8cd4180c85"
      },
      "outputs": [
        {
          "output_type": "stream",
          "name": "stdout",
          "text": [
            "batch_time 0.1551353931427002\n",
            "batch_sample 1368\n",
            "Model predicts 21.564% of the samples correctly.\n",
            "Average inference time per sample: 0.113 ms.\n",
            "\n",
            "ONNX model saved to pruned_model.onnx\n"
          ]
        },
        {
          "output_type": "stream",
          "name": "stderr",
          "text": [
            "WARNING:absl:Found untraced functions such as gen_tensor_dict while saving (showing 1 of 1). These functions will not be directly callable after loading.\n"
          ]
        },
        {
          "output_type": "stream",
          "name": "stdout",
          "text": [
            "TF model saved to pruned_model_saved\n",
            "TFLite model saved to pruned_model.tflite\n",
            "Hit:1 https://cloud.r-project.org/bin/linux/ubuntu jammy-cran40/ InRelease\n",
            "Get:2 http://security.ubuntu.com/ubuntu jammy-security InRelease [129 kB]\n",
            "Hit:3 https://developer.download.nvidia.com/compute/cuda/repos/ubuntu2204/x86_64  InRelease\n",
            "Hit:4 https://r2u.stat.illinois.edu/ubuntu jammy InRelease\n",
            "Hit:5 http://archive.ubuntu.com/ubuntu jammy InRelease\n",
            "Get:6 http://archive.ubuntu.com/ubuntu jammy-updates InRelease [128 kB]\n",
            "Hit:7 https://ppa.launchpadcontent.net/deadsnakes/ppa/ubuntu jammy InRelease\n",
            "Hit:8 https://ppa.launchpadcontent.net/graphics-drivers/ppa/ubuntu jammy InRelease\n",
            "Hit:9 https://ppa.launchpadcontent.net/ubuntugis/ppa/ubuntu jammy InRelease\n",
            "Hit:10 http://archive.ubuntu.com/ubuntu jammy-backports InRelease\n",
            "Fetched 257 kB in 1s (187 kB/s)\n",
            "Reading package lists... Done\n",
            "W: Skipping acquire of configured file 'main/source/Sources' as repository 'https://r2u.stat.illinois.edu/ubuntu jammy InRelease' does not seem to provide it (sources.list entry misspelt?)\n",
            "C array exported absolute path is: /content/gdrive/MyDrive/ece5545/micro_model0.cc\n",
            "C array exported to micro_model0.cc as g_model[]\n"
          ]
        },
        {
          "output_type": "stream",
          "name": "stderr",
          "text": [
            "\r  0%|          | 0/3 [00:00<?, ?it/s]"
          ]
        },
        {
          "output_type": "stream",
          "name": "stdout",
          "text": [
            "Val Acc Epoch 1 = 83.5%, Train loss = 1.118\n"
          ]
        },
        {
          "output_type": "stream",
          "name": "stderr",
          "text": [
            "\r 33%|███▎      | 1/3 [01:48<03:36, 108.19s/it]"
          ]
        },
        {
          "output_type": "stream",
          "name": "stdout",
          "text": [
            "Val Acc Epoch 2 = 84.47%, Train loss = 0.555\n"
          ]
        },
        {
          "output_type": "stream",
          "name": "stderr",
          "text": [
            "\r 67%|██████▋   | 2/3 [03:36<01:48, 108.50s/it]"
          ]
        },
        {
          "output_type": "stream",
          "name": "stdout",
          "text": [
            "Val Acc Epoch 3 = 85.6%, Train loss = 0.486\n"
          ]
        },
        {
          "output_type": "stream",
          "name": "stderr",
          "text": [
            "100%|██████████| 3/3 [05:27<00:00, 109.23s/it]\n"
          ]
        },
        {
          "output_type": "stream",
          "name": "stdout",
          "text": [
            "batch_time 0.14656972885131836\n",
            "batch_sample 1368\n",
            "Model predicts 86.769% of the samples correctly.\n",
            "Average inference time per sample: 0.107 ms.\n",
            "\n",
            "batch_time 0.12504982948303223\n",
            "batch_sample 1368\n",
            "Model predicts 23.904% of the samples correctly.\n",
            "Average inference time per sample: 0.091 ms.\n",
            "\n",
            "ONNX model saved to pruned_model.onnx\n"
          ]
        },
        {
          "output_type": "stream",
          "name": "stderr",
          "text": [
            "WARNING:absl:Found untraced functions such as gen_tensor_dict while saving (showing 1 of 1). These functions will not be directly callable after loading.\n"
          ]
        },
        {
          "output_type": "stream",
          "name": "stdout",
          "text": [
            "TF model saved to pruned_model_saved\n",
            "TFLite model saved to pruned_model.tflite\n",
            "Hit:1 https://cloud.r-project.org/bin/linux/ubuntu jammy-cran40/ InRelease\n",
            "Hit:2 https://developer.download.nvidia.com/compute/cuda/repos/ubuntu2204/x86_64  InRelease\n",
            "Hit:3 http://security.ubuntu.com/ubuntu jammy-security InRelease\n",
            "Hit:4 https://r2u.stat.illinois.edu/ubuntu jammy InRelease\n",
            "Hit:5 http://archive.ubuntu.com/ubuntu jammy InRelease\n",
            "Hit:6 http://archive.ubuntu.com/ubuntu jammy-updates InRelease\n",
            "Hit:7 http://archive.ubuntu.com/ubuntu jammy-backports InRelease\n",
            "Hit:8 https://ppa.launchpadcontent.net/deadsnakes/ppa/ubuntu jammy InRelease\n",
            "Hit:9 https://ppa.launchpadcontent.net/graphics-drivers/ppa/ubuntu jammy InRelease\n",
            "Hit:10 https://ppa.launchpadcontent.net/ubuntugis/ppa/ubuntu jammy InRelease\n",
            "Reading package lists... Done\n",
            "W: Skipping acquire of configured file 'main/source/Sources' as repository 'https://r2u.stat.illinois.edu/ubuntu jammy InRelease' does not seem to provide it (sources.list entry misspelt?)\n",
            "C array exported absolute path is: /content/gdrive/MyDrive/ece5545/micro_model1.cc\n",
            "C array exported to micro_model1.cc as g_model[]\n"
          ]
        },
        {
          "output_type": "stream",
          "name": "stderr",
          "text": [
            "\r  0%|          | 0/3 [00:00<?, ?it/s]"
          ]
        },
        {
          "output_type": "stream",
          "name": "stdout",
          "text": [
            "Val Acc Epoch 1 = 81.85%, Train loss = 1.181\n"
          ]
        },
        {
          "output_type": "stream",
          "name": "stderr",
          "text": [
            "\r 33%|███▎      | 1/3 [01:48<03:37, 108.84s/it]"
          ]
        },
        {
          "output_type": "stream",
          "name": "stdout",
          "text": [
            "Val Acc Epoch 2 = 86.05%, Train loss = 0.584\n"
          ]
        },
        {
          "output_type": "stream",
          "name": "stderr",
          "text": [
            "\r 67%|██████▋   | 2/3 [03:40<01:50, 110.74s/it]"
          ]
        },
        {
          "output_type": "stream",
          "name": "stdout",
          "text": [
            "Val Acc Epoch 3 = 86.42%, Train loss = 0.515\n"
          ]
        },
        {
          "output_type": "stream",
          "name": "stderr",
          "text": [
            "100%|██████████| 3/3 [05:33<00:00, 111.06s/it]\n"
          ]
        },
        {
          "output_type": "stream",
          "name": "stdout",
          "text": [
            "batch_time 0.13619470596313477\n",
            "batch_sample 1368\n",
            "Model predicts 87.135% of the samples correctly.\n",
            "Average inference time per sample: 0.100 ms.\n",
            "\n",
            "batch_time 0.1178274154663086\n",
            "batch_sample 1368\n",
            "Model predicts 23.977% of the samples correctly.\n",
            "Average inference time per sample: 0.086 ms.\n",
            "\n",
            "ONNX model saved to pruned_model.onnx\n"
          ]
        },
        {
          "output_type": "stream",
          "name": "stderr",
          "text": [
            "WARNING:absl:Found untraced functions such as gen_tensor_dict while saving (showing 1 of 1). These functions will not be directly callable after loading.\n"
          ]
        },
        {
          "output_type": "stream",
          "name": "stdout",
          "text": [
            "TF model saved to pruned_model_saved\n",
            "TFLite model saved to pruned_model.tflite\n",
            "Hit:1 https://cloud.r-project.org/bin/linux/ubuntu jammy-cran40/ InRelease\n",
            "Hit:2 https://developer.download.nvidia.com/compute/cuda/repos/ubuntu2204/x86_64  InRelease\n",
            "Hit:3 http://security.ubuntu.com/ubuntu jammy-security InRelease\n",
            "Hit:4 https://r2u.stat.illinois.edu/ubuntu jammy InRelease\n",
            "Hit:5 http://archive.ubuntu.com/ubuntu jammy InRelease\n",
            "Hit:6 http://archive.ubuntu.com/ubuntu jammy-updates InRelease\n",
            "Hit:7 http://archive.ubuntu.com/ubuntu jammy-backports InRelease\n",
            "Hit:8 https://ppa.launchpadcontent.net/deadsnakes/ppa/ubuntu jammy InRelease\n",
            "Hit:9 https://ppa.launchpadcontent.net/graphics-drivers/ppa/ubuntu jammy InRelease\n",
            "Hit:10 https://ppa.launchpadcontent.net/ubuntugis/ppa/ubuntu jammy InRelease\n",
            "Reading package lists... Done\n",
            "W: Skipping acquire of configured file 'main/source/Sources' as repository 'https://r2u.stat.illinois.edu/ubuntu jammy InRelease' does not seem to provide it (sources.list entry misspelt?)\n",
            "C array exported absolute path is: /content/gdrive/MyDrive/ece5545/micro_model2.cc\n",
            "C array exported to micro_model2.cc as g_model[]\n"
          ]
        },
        {
          "output_type": "stream",
          "name": "stderr",
          "text": [
            "\r  0%|          | 0/3 [00:00<?, ?it/s]"
          ]
        },
        {
          "output_type": "stream",
          "name": "stdout",
          "text": [
            "Val Acc Epoch 1 = 80.95%, Train loss = 1.154\n"
          ]
        },
        {
          "output_type": "stream",
          "name": "stderr",
          "text": [
            "\r 33%|███▎      | 1/3 [01:50<03:41, 110.83s/it]"
          ]
        },
        {
          "output_type": "stream",
          "name": "stdout",
          "text": [
            "Val Acc Epoch 2 = 82.82%, Train loss = 0.593\n"
          ]
        },
        {
          "output_type": "stream",
          "name": "stderr",
          "text": [
            "\r 67%|██████▋   | 2/3 [03:42<01:51, 111.19s/it]"
          ]
        },
        {
          "output_type": "stream",
          "name": "stdout",
          "text": [
            "Val Acc Epoch 3 = 85.82%, Train loss = 0.526\n"
          ]
        },
        {
          "output_type": "stream",
          "name": "stderr",
          "text": [
            "100%|██████████| 3/3 [05:33<00:00, 111.06s/it]\n"
          ]
        },
        {
          "output_type": "stream",
          "name": "stdout",
          "text": [
            "batch_time 0.1927332878112793\n",
            "batch_sample 1368\n",
            "Model predicts 85.453% of the samples correctly.\n",
            "Average inference time per sample: 0.141 ms.\n",
            "\n",
            "batch_time 0.1001424789428711\n",
            "batch_sample 1368\n",
            "Model predicts 23.684% of the samples correctly.\n",
            "Average inference time per sample: 0.073 ms.\n",
            "\n",
            "ONNX model saved to pruned_model.onnx\n"
          ]
        },
        {
          "output_type": "stream",
          "name": "stderr",
          "text": [
            "WARNING:absl:Found untraced functions such as gen_tensor_dict while saving (showing 1 of 1). These functions will not be directly callable after loading.\n"
          ]
        },
        {
          "output_type": "stream",
          "name": "stdout",
          "text": [
            "TF model saved to pruned_model_saved\n",
            "TFLite model saved to pruned_model.tflite\n",
            "Hit:1 https://cloud.r-project.org/bin/linux/ubuntu jammy-cran40/ InRelease\n",
            "Hit:2 https://developer.download.nvidia.com/compute/cuda/repos/ubuntu2204/x86_64  InRelease\n",
            "Hit:3 https://r2u.stat.illinois.edu/ubuntu jammy InRelease\n",
            "Hit:4 http://security.ubuntu.com/ubuntu jammy-security InRelease\n",
            "Hit:5 http://archive.ubuntu.com/ubuntu jammy InRelease\n",
            "Hit:6 http://archive.ubuntu.com/ubuntu jammy-updates InRelease\n",
            "Hit:7 http://archive.ubuntu.com/ubuntu jammy-backports InRelease\n",
            "Hit:8 https://ppa.launchpadcontent.net/deadsnakes/ppa/ubuntu jammy InRelease\n",
            "Hit:9 https://ppa.launchpadcontent.net/graphics-drivers/ppa/ubuntu jammy InRelease\n",
            "Hit:10 https://ppa.launchpadcontent.net/ubuntugis/ppa/ubuntu jammy InRelease\n",
            "Reading package lists... Done\n",
            "W: Skipping acquire of configured file 'main/source/Sources' as repository 'https://r2u.stat.illinois.edu/ubuntu jammy InRelease' does not seem to provide it (sources.list entry misspelt?)\n",
            "C array exported absolute path is: /content/gdrive/MyDrive/ece5545/micro_model3.cc\n",
            "C array exported to micro_model3.cc as g_model[]\n"
          ]
        },
        {
          "output_type": "stream",
          "name": "stderr",
          "text": [
            "\r  0%|          | 0/3 [00:00<?, ?it/s]"
          ]
        },
        {
          "output_type": "stream",
          "name": "stdout",
          "text": [
            "Val Acc Epoch 1 = 74.79%, Train loss = 1.275\n"
          ]
        },
        {
          "output_type": "stream",
          "name": "stderr",
          "text": [
            "\r 33%|███▎      | 1/3 [01:47<03:34, 107.06s/it]"
          ]
        },
        {
          "output_type": "stream",
          "name": "stdout",
          "text": [
            "Val Acc Epoch 2 = 80.95%, Train loss = 0.706\n"
          ]
        },
        {
          "output_type": "stream",
          "name": "stderr",
          "text": [
            "\r 67%|██████▋   | 2/3 [03:34<01:47, 107.14s/it]"
          ]
        },
        {
          "output_type": "stream",
          "name": "stdout",
          "text": [
            "Val Acc Epoch 3 = 81.55%, Train loss = 0.647\n"
          ]
        },
        {
          "output_type": "stream",
          "name": "stderr",
          "text": [
            "100%|██████████| 3/3 [05:22<00:00, 107.41s/it]\n"
          ]
        },
        {
          "output_type": "stream",
          "name": "stdout",
          "text": [
            "batch_time 0.09531354904174805\n",
            "batch_sample 1368\n",
            "Model predicts 82.968% of the samples correctly.\n",
            "Average inference time per sample: 0.070 ms.\n",
            "\n",
            "batch_time 0.10612082481384277\n",
            "batch_sample 1368\n",
            "Model predicts 24.342% of the samples correctly.\n",
            "Average inference time per sample: 0.078 ms.\n",
            "\n",
            "ONNX model saved to pruned_model.onnx\n"
          ]
        },
        {
          "output_type": "stream",
          "name": "stderr",
          "text": [
            "WARNING:absl:Found untraced functions such as gen_tensor_dict while saving (showing 1 of 1). These functions will not be directly callable after loading.\n"
          ]
        },
        {
          "output_type": "stream",
          "name": "stdout",
          "text": [
            "TF model saved to pruned_model_saved\n",
            "TFLite model saved to pruned_model.tflite\n",
            "Hit:1 https://developer.download.nvidia.com/compute/cuda/repos/ubuntu2204/x86_64  InRelease\n",
            "Hit:2 http://archive.ubuntu.com/ubuntu jammy InRelease\n",
            "Hit:3 http://security.ubuntu.com/ubuntu jammy-security InRelease\n",
            "Hit:4 http://archive.ubuntu.com/ubuntu jammy-updates InRelease\n",
            "Hit:5 https://r2u.stat.illinois.edu/ubuntu jammy InRelease\n",
            "Hit:6 http://archive.ubuntu.com/ubuntu jammy-backports InRelease\n",
            "Hit:7 https://cloud.r-project.org/bin/linux/ubuntu jammy-cran40/ InRelease\n",
            "Hit:8 https://ppa.launchpadcontent.net/deadsnakes/ppa/ubuntu jammy InRelease\n",
            "Hit:9 https://ppa.launchpadcontent.net/graphics-drivers/ppa/ubuntu jammy InRelease\n",
            "Hit:10 https://ppa.launchpadcontent.net/ubuntugis/ppa/ubuntu jammy InRelease\n",
            "Reading package lists... Done\n",
            "W: Skipping acquire of configured file 'main/source/Sources' as repository 'https://r2u.stat.illinois.edu/ubuntu jammy InRelease' does not seem to provide it (sources.list entry misspelt?)\n",
            "C array exported absolute path is: /content/gdrive/MyDrive/ece5545/micro_model4.cc\n",
            "C array exported to micro_model4.cc as g_model[]\n"
          ]
        },
        {
          "output_type": "stream",
          "name": "stderr",
          "text": [
            "\r  0%|          | 0/3 [00:00<?, ?it/s]"
          ]
        },
        {
          "output_type": "stream",
          "name": "stdout",
          "text": [
            "Val Acc Epoch 1 = 64.37%, Train loss = 1.387\n"
          ]
        },
        {
          "output_type": "stream",
          "name": "stderr",
          "text": [
            "\r 33%|███▎      | 1/3 [01:46<03:32, 106.23s/it]"
          ]
        },
        {
          "output_type": "stream",
          "name": "stdout",
          "text": [
            "Val Acc Epoch 2 = 75.92%, Train loss = 0.872\n"
          ]
        },
        {
          "output_type": "stream",
          "name": "stderr",
          "text": [
            "\r 67%|██████▋   | 2/3 [03:34<01:47, 107.48s/it]"
          ]
        },
        {
          "output_type": "stream",
          "name": "stdout",
          "text": [
            "Val Acc Epoch 3 = 80.42%, Train loss = 0.713\n"
          ]
        },
        {
          "output_type": "stream",
          "name": "stderr",
          "text": [
            "100%|██████████| 3/3 [05:20<00:00, 106.95s/it]\n"
          ]
        },
        {
          "output_type": "stream",
          "name": "stdout",
          "text": [
            "batch_time 0.10801267623901367\n",
            "batch_sample 1368\n",
            "Model predicts 79.825% of the samples correctly.\n",
            "Average inference time per sample: 0.079 ms.\n",
            "\n"
          ]
        },
        {
          "output_type": "display_data",
          "data": {
            "text/plain": [
              "<Figure size 640x480 with 1 Axes>"
            ],
            "image/png": "[encoded data removed]"
          },
          "metadata": {}
        },
        {
          "output_type": "display_data",
          "data": {
            "text/plain": [
              "<Figure size 640x480 with 1 Axes>"
            ],
            "image/png": "[encoded data removed]"
          },
          "metadata": {}
        },
        {
          "output_type": "display_data",
          "data": {
            "text/plain": [
              "<Figure size 640x480 with 1 Axes>"
            ],
            "image/png": "[encoded data removed]"
          },
          "metadata": {}
        },
        {
          "output_type": "display_data",
          "data": {
            "text/plain": [
              "<Figure size 640x480 with 1 Axes>"
            ],
            "image/png": "[encoded data removed]"
          },
          "metadata": {}
        }
      ],
      "source": [
        "from ptflops import get_model_complexity_info\n",
        "\n",
        "\n",
        "def structured_pruning_experiment(\n",
        "    pruning_thresholds=[0.0, 0.2, 0.4, 0.6, 0.8],\n",
        "    train_loader=None,\n",
        "    val_loader=None,\n",
        "    learning_rate=1e-3,\n",
        "    finetuning_epochs=1,\n",
        "):\n",
        "\n",
        "    device = torch.device(\"cuda\" if torch.cuda.is_available() else \"cpu\")\n",
        "\n",
        "    base_model = model_fp32\n",
        "    base_model.to(device)\n",
        "    base_model.eval()\n",
        "\n",
        "    # This list will hold (prune_rate, acc, n_params, flops, cpu_time) for no finetune\n",
        "    results_no_ft = []\n",
        "    results_ft = []\n",
        "\n",
        "    for i, prune_rate in enumerate(pruning_thresholds):\n",
        "        model_no_ft = copy.deepcopy(base_model)\n",
        "\n",
        "        # Example of structured (channel) pruning in conv layers\n",
        "        for name, module in model_no_ft.named_modules():\n",
        "            if isinstance(module, nn.Conv2d):\n",
        "                prune.ln_structured(\n",
        "                    module,\n",
        "                    name='weight',\n",
        "                    amount=prune_rate,\n",
        "                    n=2,\n",
        "                    dim=0\n",
        "                )\n",
        "\n",
        "        for name, module in model_no_ft.named_modules():\n",
        "            if isinstance(module, nn.Conv2d):\n",
        "                prune.remove(module, 'weight')\n",
        "\n",
        "        shrinked_model_no_ft = shrink_model_channels(model_no_ft)\n",
        "\n",
        "        acc_no_ft, time_no_ft = accuracy(test_loader, shrinked_model_no_ft, device=device)\n",
        "        nparams_no_ft = count_nonzero_weights(shrinked_model_no_ft)\n",
        "        macs, params = get_model_complexity_info(shrinked_model_no_ft, input_res=(1, 49, 40),\n",
        "                                             as_strings=False, print_per_layer_stat=False)\n",
        "        flops_no_ft = 2 * macs\n",
        "\n",
        "        results_no_ft.append((prune_rate, acc_no_ft, nparams_no_ft, flops_no_ft, time_no_ft * 1000))\n",
        "        model_export = shrinked_model_no_ft.cpu().eval()\n",
        "        pruned_submodel = export_model_without_first_last(shrinked_model_no_ft.cpu().eval())\n",
        "        export_model_as_c_array(pruned_submodel, c_array_path=f\"micro_model{i}.cc\")\n",
        "\n",
        "\n",
        "        # Fine-tuning\n",
        "        model_ft = copy.deepcopy(model_no_ft)\n",
        "        shrinked_model_ft = shrink_model_channels(model_ft)\n",
        "\n",
        "        optimizer = torch.optim.Adam(shrinked_model_ft.parameters(), lr=learning_rate)\n",
        "        run_training(shrinked_model_ft, data_loaders, n_epoch=finetuning_epochs, log_interval=100,\n",
        "                     optimizer=optimizer, checkpoint_path=None, resume=False)\n",
        "\n",
        "        acc_ft, time_ft = accuracy(test_loader, shrinked_model_ft, device=device)\n",
        "        nparams_ft = count_nonzero_weights(shrinked_model_ft)\n",
        "        macs, params = get_model_complexity_info(shrinked_model_ft, input_res=(1, 49, 40),\n",
        "                                             as_strings=False, print_per_layer_stat=False)\n",
        "        flops_ft = 2 * macs\n",
        "\n",
        "        results_ft.append((prune_rate, acc_ft, nparams_ft, flops_ft, time_ft * 1000))\n",
        "\n",
        "    return results_no_ft, results_ft\n",
        "\n",
        "def shrink_model_channels(model):\n",
        "\n",
        "    import torch.nn as nn\n",
        "\n",
        "    # Process the convolution layer.\n",
        "    conv = model.conv\n",
        "    weight = conv.weight.data  # shape: [out_channels, in_channels, kh, kw]\n",
        "    bias = conv.bias.data if conv.bias is not None else None\n",
        "    original_out_channels = weight.size(0)\n",
        "\n",
        "    # Compute L2 norm for each output channel.\n",
        "    norms = weight.view(original_out_channels, -1).norm(p=2, dim=1)\n",
        "    threshold = 1e-6\n",
        "    idx_keep = (norms > threshold)\n",
        "    new_out_channels = int(idx_keep.sum().item())\n",
        "\n",
        "    # If no channels were pruned, return the model unchanged.\n",
        "    if new_out_channels == original_out_channels:\n",
        "        return model\n",
        "\n",
        "    # Create a new Conv2d with reduced output channels.\n",
        "    new_conv = nn.Conv2d(\n",
        "        in_channels=conv.in_channels,\n",
        "        out_channels=new_out_channels,\n",
        "        kernel_size=conv.kernel_size,\n",
        "        stride=conv.stride,\n",
        "        padding=conv.padding,\n",
        "        dilation=conv.dilation,\n",
        "        groups=conv.groups,\n",
        "        bias=(conv.bias is not None)\n",
        "    )\n",
        "    new_conv.weight.data = weight[idx_keep, :, :, :].clone()\n",
        "    if conv.bias is not None:\n",
        "        new_conv.bias.data = bias[idx_keep].clone()\n",
        "\n",
        "    model.conv = new_conv\n",
        "\n",
        "    # Process the fully connected (fc) layer.\n",
        "    # Original conv output: [batch, 8, 25, 20] → flattened to 8*25*20 = 4000 features.\n",
        "    # New conv output: [batch, new_out_channels, 25, 20].\n",
        "    H, W = 25, 20\n",
        "    new_in_features = new_out_channels * H * W\n",
        "\n",
        "    fc = model.fc\n",
        "    new_fc = nn.Linear(new_in_features, fc.out_features, bias=(fc.bias is not None))\n",
        "\n",
        "    # Reshape the original fc weight (assumed shape [out_features, original_out_channels*H*W])\n",
        "    old_fc_weight = fc.weight.data.view(fc.out_features, original_out_channels, H, W)\n",
        "    new_fc_weight = old_fc_weight[:, idx_keep, :, :].clone()\n",
        "    new_fc.weight.data = new_fc_weight.view(fc.out_features, new_in_features)\n",
        "    if fc.bias is not None:\n",
        "        new_fc.bias.data = fc.bias.data.clone()\n",
        "\n",
        "    model.fc = new_fc\n",
        "\n",
        "    # Update the fc_reshape module's output shape.\n",
        "    if hasattr(model, 'fc_reshape'):\n",
        "        model.fc_reshape.output_shape = (-1, new_in_features)\n",
        "\n",
        "    # Optionally update a general output_shape attribute if used in forward.\n",
        "    if hasattr(model, 'output_shape'):\n",
        "        model.output_shape = (-1, new_out_channels, H, W)\n",
        "\n",
        "    return model\n",
        "\n",
        "\n",
        "\n",
        "def plot_structured_pruning_results(results_no_ft, results_ft):\n",
        "    prune_rates_no_ft = [x[0] for x in results_no_ft]\n",
        "    accs_no_ft = [x[1] for x in results_no_ft]\n",
        "    nparams_no_ft = [x[2] for x in results_no_ft]\n",
        "    flops_no_ft = [x[3] for x in results_no_ft]\n",
        "    cpu_no_ft = [x[4] for x in results_no_ft]\n",
        "\n",
        "    prune_rates_ft = [x[0] for x in results_ft]\n",
        "    accs_ft = [x[1] for x in results_ft]\n",
        "    nparams_ft = [x[2] for x in results_ft]\n",
        "    flops_ft = [x[3] for x in results_ft]\n",
        "    cpu_ft = [x[4] for x in results_ft]\n",
        "\n",
        "    # Accuracy vs. #Params\n",
        "    plt.figure()\n",
        "    plt.plot(nparams_no_ft, accs_no_ft, marker='o', label='No FT')\n",
        "    plt.plot(nparams_ft, accs_ft, marker='o', label='With FT')\n",
        "    plt.xlabel('Number of Non-zero Parameters')\n",
        "    plt.ylabel('Accuracy')\n",
        "    plt.title('Structured Pruning: Accuracy vs. #Params')\n",
        "    plt.legend()\n",
        "    plt.show()\n",
        "\n",
        "    # Accuracy vs. FLOPs\n",
        "    plt.figure()\n",
        "    plt.plot(flops_no_ft, accs_no_ft, marker='o', label='No FT')\n",
        "    plt.plot(flops_ft, accs_ft, marker='o', label='With FT')\n",
        "    plt.xlabel('FLOPs')\n",
        "    plt.ylabel('Accuracy')\n",
        "    plt.title('Structured Pruning: Accuracy vs. FLOPs')\n",
        "    plt.legend()\n",
        "    plt.show()\n",
        "\n",
        "\n",
        "results_no_ft, results_ft = structured_pruning_experiment(\n",
        "    pruning_thresholds=[0.0, 0.2, 0.4, 0.6, 0.8],\n",
        "    train_loader=train_loader,\n",
        "    val_loader=valid_loader,\n",
        "    learning_rate=1e-3,\n",
        "    finetuning_epochs=3,\n",
        ")\n",
        "\n",
        "plot_structured_pruning_results(results_no_ft, results_ft)"
      ]
    },
    {
      "cell_type": "markdown",
      "metadata": {
        "id": "Tv18oNx5BE56"
      },
      "source": [
        "## 6.3 Unstructured Pruning\n",
        "\n",
        "In this section, you will perform unstructured pruning on the TinyConv model and explore its effect on performance.\n",
        "\n",
        "Following link will be helpful:\n",
        "1. [torch.nn.utils.prune.l1_unstructured](https://pytorch.org/docs/stable/generated/torch.nn.utils.prune.l1_unstructured.html?highlight=unstructured#torch.nn.utils.prune.l1_unstructured)\n",
        "\n",
        "2. [torch.nn.utils.prune.random_unstructured](https://pytorch.org/docs/stable/generated/torch.nn.utils.prune.random_unstructured.html?highlight=unstructured#torch.nn.utils.prune.random_unstructured)\n",
        "\n",
        "2. [Torch pruning tutorial](https://pytorch.org/tutorials/intermediate/pruning_tutorial.html?highlight=prune)"
      ]
    },
    {
      "cell_type": "code",
      "source": [
        "import torch\n",
        "import torch.nn as nn\n",
        "import torch.nn.functional as F\n",
        "import torch.nn.utils.prune as prune\n",
        "import copy\n",
        "import matplotlib.pyplot as plt\n",
        "from tqdm import tqdm\n",
        "from src.train_val_test_utils import train, test\n",
        "\n",
        "def pretrain_with_norm(model, train_loader, valid_loader,\n",
        "                       norm_type='L1', alpha=1e-4,\n",
        "                       epochs=10, lr=1e-3, device='cpu'):\n",
        "    \"\"\"\n",
        "    Pre-trains `model` using a combination of cross-entropy loss and a\n",
        "    norm-based regularization penalty. The norm is specified by `norm_type`:\n",
        "      - 'L1': sum of absolute values of weights\n",
        "      - 'L2': sum of squares of weights\n",
        "      - 'Linf': sum of max-abs for each parameter (a simplistic approach)\n",
        "\n",
        "    Parameters:\n",
        "      model: nn.Module to train\n",
        "      train_loader, valid_loader: DataLoader instances for training & validation\n",
        "      norm_type: 'L1', 'L2', or 'Linf'\n",
        "      alpha: regularization coefficient\n",
        "      epochs: number of training epochs\n",
        "      lr: learning rate\n",
        "      device: 'cpu' or 'cuda'\n",
        "\n",
        "    Returns:\n",
        "      A new, trained copy of the model with the chosen regularization applied.\n",
        "    \"\"\"\n",
        "    # Make a copy so we don't alter the original\n",
        "    model = copy.deepcopy(model)\n",
        "    model.to(device)\n",
        "    model.train()\n",
        "\n",
        "    optimizer = optim.Adam(model.parameters(), lr=lr)\n",
        "\n",
        "    for epoch in range(1, epochs + 1):\n",
        "        losses = []\n",
        "        for data, target in train_loader:\n",
        "            data = data.to(device)\n",
        "            # Convert target to long (int64)\n",
        "            target = target.to(device).long()\n",
        "\n",
        "            optimizer.zero_grad()\n",
        "            output = model(data)\n",
        "\n",
        "            # Compute standard negative log-likelihood loss\n",
        "            loss_ce = F.nll_loss(output, target)\n",
        "\n",
        "            # Compute norm penalty\n",
        "            penalty = 0.0\n",
        "            for param in model.parameters():\n",
        "                if norm_type == 'L1':\n",
        "                    penalty += param.abs().sum()\n",
        "                elif norm_type == 'L2':\n",
        "                    penalty += (param ** 2).sum()\n",
        "                elif norm_type == 'Linf':\n",
        "                    penalty += param.abs().max()\n",
        "                else:\n",
        "                    raise ValueError(f\"Unknown norm_type '{norm_type}'\")\n",
        "\n",
        "            # Combine losses\n",
        "            loss = loss_ce + alpha * penalty\n",
        "\n",
        "            loss.backward()\n",
        "            optimizer.step()\n",
        "            losses.append(loss.item())\n",
        "\n",
        "        # Evaluate on validation set\n",
        "        model.eval()\n",
        "        val_acc = test(valid_loader, model, device=device)\n",
        "        model.train()\n",
        "        avg_loss = sum(losses) / len(losses)\n",
        "        print(f\"Epoch {epoch} | {norm_type} norm: train_loss={avg_loss:.3f}, val_acc={val_acc:.2f}%\")\n",
        "\n",
        "    return model\n",
        "\n",
        "def run_training(model, data_loaders, n_epoch, log_interval, optimizer, scheduler=None,\n",
        "                 save_interval=1, resume=True, checkpoint_path=None, verbose=False):\n",
        "    with tqdm(total=n_epoch) as pbar:\n",
        "        completed_epoch = 1\n",
        "        if resume:\n",
        "            try:\n",
        "                if checkpoint_path is None:\n",
        "                    raise ValueError\n",
        "                checkpoint = torch.load(checkpoint_path)\n",
        "                model.load_state_dict(checkpoint['model_state_dict'])\n",
        "                optimizer.load_state_dict(checkpoint['optimizer_state_dict'])\n",
        "                if scheduler is not None:\n",
        "                    scheduler.load_state_dict(checkpoint['scheduler_state_dict'])\n",
        "                completed_epoch = checkpoint[\"epoch\"] + 1\n",
        "                model.eval()\n",
        "                pbar.update(completed_epoch)\n",
        "            except:\n",
        "                pass\n",
        "\n",
        "        for epoch in range(completed_epoch, n_epoch + 1):\n",
        "            train(model, data_loaders, optimizer, epoch, device, verbose)\n",
        "            test(test_loader, model, device, epoch=None, loader_type='Test')\n",
        "\n",
        "            if scheduler is not None:\n",
        "                scheduler.step()\n",
        "            if epoch % save_interval == 0 and checkpoint_path is not None:\n",
        "                torch.save({\n",
        "                    'epoch': epoch,\n",
        "                    'model_state_dict': model.state_dict(),\n",
        "                    'optimizer_state_dict': optimizer.state_dict(),\n",
        "                    'scheduler_state_dict': scheduler.state_dict() if scheduler is not None else None\n",
        "                }, checkpoint_path)\n",
        "\n",
        "            pbar.update(1)\n"
      ],
      "metadata": {
        "id": "FJgErhNA4TyB"
      },
      "execution_count": 43,
      "outputs": []
    },
    {
      "cell_type": "code",
      "execution_count": 41,
      "metadata": {
        "id": "W62TBfecBE56"
      },
      "outputs": [],
      "source": [
        "\n",
        "device = torch.device(\"cuda\" if torch.cuda.is_available() else \"cpu\")\n",
        "\n",
        "\n",
        "def count_masked_nonzero_weights(model):\n",
        "    \"\"\"\n",
        "    Counts nonzero weights based on pruning masks if present.\n",
        "    For modules with a 'weight_mask', sum the mask values.\n",
        "    For others, count nonzeros in the parameter.\n",
        "    \"\"\"\n",
        "    count = 0\n",
        "    for module in model.modules():\n",
        "        if isinstance(module, (nn.Conv2d, nn.Linear)) and hasattr(module, 'weight_mask'):\n",
        "            count += torch.sum(module.weight_mask).item()\n",
        "        else:\n",
        "            for param in module.parameters(recurse=False):\n",
        "                count += torch.count_nonzero(param).item()\n",
        "    return count\n",
        "\n",
        "def clone_model(model):\n",
        "    new_model = type(model)(model.model_settings)\n",
        "    new_model.load_state_dict(model.state_dict())\n",
        "    return new_model\n",
        "\n",
        "def l2_unstructured(module, name, amount):\n",
        "    param = getattr(module, name)\n",
        "    metric = param.abs() ** 2\n",
        "    kth = int(amount * param.numel())\n",
        "    if kth == 0:\n",
        "        mask = torch.ones_like(param)\n",
        "    else:\n",
        "        threshold = torch.kthvalue(metric.view(-1), kth).values\n",
        "        mask = torch.where(metric <= threshold, torch.zeros_like(param), torch.ones_like(param))\n",
        "    prune.CustomFromMask.apply(module, name, mask)\n",
        "\n",
        "def linf_unstructured(module, name, amount):\n",
        "    param = getattr(module, name)\n",
        "    metric = param.abs()\n",
        "    kth = int(amount * param.numel())\n",
        "    if kth == 0:\n",
        "        mask = torch.ones_like(param)\n",
        "    else:\n",
        "        threshold = torch.kthvalue(metric.view(-1), kth).values\n",
        "        mask = torch.where(metric <= threshold, torch.zeros_like(param), torch.ones_like(param))\n",
        "    prune.CustomFromMask.apply(module, name, mask)\n",
        "\n",
        "\n",
        "def unstructured_pruning_experiment(model, pruning_thresholds, train_loader, val_loader, learning_rate=1e-3, finetuning_epochs=1):\n",
        "    \"\"\"\n",
        "    Performs unstructured pruning experiments on the current global model_fp32.\n",
        "    In the no fine-tuning branch, pruning wrappers are removed so that the parameters\n",
        "    are physically modified. In the fine-tuning branch, the pruning wrappers (masks)\n",
        "    are kept in place so that the zeroed weights remain zero during fine-tuning.\n",
        "    Returns tuples (prune_rate, accuracy, nparams) for both branches.\n",
        "    \"\"\"\n",
        "    base_model = model\n",
        "    base_model.to(device)\n",
        "    base_model.eval()\n",
        "    original_state = base_model.state_dict()\n",
        "\n",
        "    results_no_ft = []\n",
        "    results_ft = []\n",
        "\n",
        "    data_loaders = {'training': train_loader, 'validation': val_loader, 'testing': test_loader}\n",
        "\n",
        "    for prune_rate in pruning_thresholds:\n",
        "        #  No Fine-Tuning\n",
        "        model_no_ft = type(base_model)(base_model.model_settings)\n",
        "        model_no_ft.load_state_dict(original_state)\n",
        "        model_no_ft.to(device)\n",
        "\n",
        "        parameters_to_prune = []\n",
        "        for _, module in model_no_ft.named_modules():\n",
        "            if isinstance(module, nn.Conv2d) or isinstance(module, nn.Linear):\n",
        "                parameters_to_prune.append((module, 'weight'))\n",
        "\n",
        "        prune.global_unstructured(parameters_to_prune, pruning_method=prune.L1Unstructured, amount=prune_rate)\n",
        "\n",
        "        # Remove the pruning wrappers to see the reduced parameter counts.\n",
        "        for _, module in model_no_ft.named_modules():\n",
        "            if isinstance(module, nn.Conv2d) or isinstance(module, nn.Linear):\n",
        "                try:\n",
        "                    prune.remove(module, 'weight')\n",
        "                except Exception:\n",
        "                    pass\n",
        "\n",
        "        acc_no_ft, _ = accuracy(test_loader, model_no_ft, device=device)\n",
        "        nparams_no_ft = sum(torch.count_nonzero(param).item() for param in model_no_ft.parameters())\n",
        "        results_no_ft.append((prune_rate, acc_no_ft, nparams_no_ft))\n",
        "        print(f\"L1 pruning Unstructured - No FT - Prune {prune_rate}: nparams={nparams_no_ft}, acc={acc_no_ft:.3f}\")\n",
        "\n",
        "        #  Fine-Tuning Branch (keep masks in place)\n",
        "        model_ft = type(base_model)(base_model.model_settings)\n",
        "        model_ft.load_state_dict(original_state)\n",
        "        model_ft.to(device)\n",
        "\n",
        "        parameters_to_prune_ft = []\n",
        "        for _, module in model_ft.named_modules():\n",
        "            if isinstance(module, nn.Conv2d) or isinstance(module, nn.Linear):\n",
        "                parameters_to_prune_ft.append((module, 'weight'))\n",
        "\n",
        "        prune.global_unstructured(parameters_to_prune_ft, pruning_method=prune.L1Unstructured, amount=prune_rate)\n",
        "\n",
        "\n",
        "\n",
        "        optimizer = torch.optim.Adam(model_ft.parameters(), lr=learning_rate)\n",
        "        run_training(model_ft, data_loaders, n_epoch=finetuning_epochs, log_interval=100,\n",
        "                     optimizer=optimizer, checkpoint_path=None, resume=False)\n",
        "\n",
        "        acc_ft, _ = accuracy(test_loader, model_ft, device=device)\n",
        "        nparams_ft = count_masked_nonzero_weights(model_ft)\n",
        "        results_ft.append((prune_rate, acc_ft, nparams_ft))\n",
        "        print(f\"L1 pruning Unstructured - FT - Prune {prune_rate}: nparams={nparams_ft}, acc={acc_ft:.3f}\")\n",
        "\n",
        "    return results_no_ft, results_ft\n",
        "\n",
        "def plot_unstructured_pruning_results(norm_results):\n",
        "    for reg_type, (results_no_ft, results_ft) in norm_results.items():\n",
        "        prune_rates_no_ft = [x[0] for x in results_no_ft]\n",
        "        accs_no_ft = [x[1] for x in results_no_ft]\n",
        "        nparams_no_ft = [x[2] for x in results_no_ft]\n",
        "\n",
        "        prune_rates_ft = [x[0] for x in results_ft]\n",
        "        accs_ft = [x[1] for x in results_ft]\n",
        "        nparams_ft = [x[2] for x in results_ft]\n",
        "\n",
        "        plt.figure()\n",
        "        plt.plot(nparams_no_ft, accs_no_ft, marker='o', label='No Fine-tuning')\n",
        "        plt.plot(nparams_ft, accs_ft, marker='s', label='With Fine-tuning')\n",
        "        plt.xlabel('Number of Nonzero Parameters')\n",
        "        plt.ylabel('Accuracy')\n",
        "        plt.title(f'Unstructured Pruning ({reg_type})\\nAccuracy vs. #Nonzero Params')\n",
        "        plt.legend()\n",
        "        plt.show()\n"
      ]
    },
    {
      "cell_type": "code",
      "source": [
        "print(\"Pretraining with L1 regularization\")\n",
        "pretrained_l1 = pretrain_with_norm(model_fp32, train_loader, valid_loader, norm_type='L1', alpha=1e-4, epochs=3, lr=1e-3, device=device)\n",
        "print(\"Pretraining with L2 regularization\")\n",
        "pretrained_l2 = pretrain_with_norm(model_fp32, train_loader, valid_loader, norm_type='L2', alpha=1e-4, epochs=3, lr=1e-3, device=device)\n",
        "print(\"Pretraining with L-inf regularization\")\n",
        "pretrained_linf = pretrain_with_norm(model_fp32, train_loader, valid_loader, norm_type='Linf', alpha=1e-4, epochs=3, lr=1e-3, device=device)\n"
      ],
      "metadata": {
        "id": "AK9kKy4WLmg5",
        "outputId": "9eebd451-979b-48e2-8c03-bb7083d19a12",
        "colab": {
          "base_uri": "https://localhost:8080/"
        }
      },
      "execution_count": 45,
      "outputs": [
        {
          "output_type": "stream",
          "name": "stdout",
          "text": [
            "Pretraining with L1 regularization\n",
            "Epoch 1 | L1 norm: train_loss=1.132, val_acc=82.30%\n",
            "Epoch 2 | L1 norm: train_loss=0.601, val_acc=85.52%\n",
            "Epoch 3 | L1 norm: train_loss=0.528, val_acc=87.02%\n",
            "Pretraining with L2 regularization\n",
            "Epoch 1 | L2 norm: train_loss=1.167, val_acc=81.55%\n",
            "Epoch 2 | L2 norm: train_loss=0.573, val_acc=84.92%\n",
            "Epoch 3 | L2 norm: train_loss=0.495, val_acc=87.55%\n",
            "Pretraining with L-inf regularization\n",
            "Epoch 1 | Linf norm: train_loss=1.125, val_acc=82.45%\n",
            "Epoch 2 | Linf norm: train_loss=0.576, val_acc=85.82%\n",
            "Epoch 3 | Linf norm: train_loss=0.508, val_acc=86.72%\n"
          ]
        }
      ]
    },
    {
      "cell_type": "code",
      "source": [
        "all_results = {}\n",
        "for reg_type, pretrained_model in zip(['L1', 'L2', 'Linf'], [pretrained_l1, pretrained_l2, pretrained_linf]):\n",
        "    # Set global model_fp32 to the pretrained model for fair pruning comparison.\n",
        "\n",
        "    print(f\"Running unstructured pruning experiment for model pretrained with {reg_type} regularization:\")\n",
        "    res_no_ft, res_ft = unstructured_pruning_experiment(\n",
        "        model=pretrained_model,\n",
        "        pruning_thresholds=[0.8, 0.6, 0.4, 0.2, 0.0],\n",
        "        train_loader=train_loader,\n",
        "        val_loader=valid_loader,\n",
        "        learning_rate=1e-3,\n",
        "        finetuning_epochs=3\n",
        "    )\n",
        "    all_results[norm_type] = (res_no_ft, res_ft)\n",
        "\n",
        "plot_unstructured_pruning_results(all_results)"
      ],
      "metadata": {
        "id": "xxgCULApLvhA",
        "outputId": "29f8bc4a-5101-45fd-da56-1a6e47c7337e",
        "colab": {
          "base_uri": "https://localhost:8080/",
          "height": 478
        }
      },
      "execution_count": 49,
      "outputs": [
        {
          "output_type": "stream",
          "name": "stdout",
          "text": [
            "Running unstructured pruning experiment for model pretrained with L1 regularization:\n",
            "Model predicts 83.991% of the samples correctly.\n",
            "Average inference time per sample: 0.114 ms.\n",
            "\n",
            "L1 pruning Unstructured - No FT - Prune 0.8: nparams=3340, acc=0.840\n"
          ]
        },
        {
          "output_type": "stream",
          "name": "stderr",
          "text": [
            "\r  0%|          | 0/3 [00:00<?, ?it/s]"
          ]
        },
        {
          "output_type": "stream",
          "name": "stdout",
          "text": [
            "Val Acc Epoch 1 = 87.02%, Train loss = 0.485\n"
          ]
        },
        {
          "output_type": "stream",
          "name": "stderr",
          "text": [
            " 33%|███▎      | 1/3 [01:55<03:50, 115.29s/it]\n"
          ]
        },
        {
          "output_type": "error",
          "ename": "KeyboardInterrupt",
          "evalue": "",
          "traceback": [
            "\u001b[0;31m---------------------------------------------------------------------------\u001b[0m",
            "\u001b[0;31mKeyboardInterrupt\u001b[0m                         Traceback (most recent call last)",
            "\u001b[0;32m<ipython-input-49-abe96398cafa>\u001b[0m in \u001b[0;36m<cell line: 0>\u001b[0;34m()\u001b[0m\n\u001b[1;32m      4\u001b[0m \u001b[0;34m\u001b[0m\u001b[0m\n\u001b[1;32m      5\u001b[0m     \u001b[0mprint\u001b[0m\u001b[0;34m(\u001b[0m\u001b[0;34mf\"Running unstructured pruning experiment for model pretrained with {reg_type} regularization:\"\u001b[0m\u001b[0;34m)\u001b[0m\u001b[0;34m\u001b[0m\u001b[0;34m\u001b[0m\u001b[0m\n\u001b[0;32m----> 6\u001b[0;31m     res_no_ft, res_ft = unstructured_pruning_experiment(\n\u001b[0m\u001b[1;32m      7\u001b[0m         \u001b[0mmodel\u001b[0m\u001b[0;34m=\u001b[0m\u001b[0mpretrained_model\u001b[0m\u001b[0;34m,\u001b[0m\u001b[0;34m\u001b[0m\u001b[0;34m\u001b[0m\u001b[0m\n\u001b[1;32m      8\u001b[0m         \u001b[0mpruning_thresholds\u001b[0m\u001b[0;34m=\u001b[0m\u001b[0;34m[\u001b[0m\u001b[0;36m0.8\u001b[0m\u001b[0;34m,\u001b[0m \u001b[0;36m0.6\u001b[0m\u001b[0;34m,\u001b[0m \u001b[0;36m0.4\u001b[0m\u001b[0;34m,\u001b[0m \u001b[0;36m0.2\u001b[0m\u001b[0;34m,\u001b[0m \u001b[0;36m0.0\u001b[0m\u001b[0;34m]\u001b[0m\u001b[0;34m,\u001b[0m\u001b[0;34m\u001b[0m\u001b[0;34m\u001b[0m\u001b[0m\n",
            "\u001b[0;32m<ipython-input-41-37805c2e4123>\u001b[0m in \u001b[0;36munstructured_pruning_experiment\u001b[0;34m(model, pruning_thresholds, train_loader, val_loader, learning_rate, finetuning_epochs)\u001b[0m\n\u001b[1;32m    104\u001b[0m \u001b[0;34m\u001b[0m\u001b[0m\n\u001b[1;32m    105\u001b[0m         \u001b[0moptimizer\u001b[0m \u001b[0;34m=\u001b[0m \u001b[0mtorch\u001b[0m\u001b[0;34m.\u001b[0m\u001b[0moptim\u001b[0m\u001b[0;34m.\u001b[0m\u001b[0mAdam\u001b[0m\u001b[0;34m(\u001b[0m\u001b[0mmodel_ft\u001b[0m\u001b[0;34m.\u001b[0m\u001b[0mparameters\u001b[0m\u001b[0;34m(\u001b[0m\u001b[0;34m)\u001b[0m\u001b[0;34m,\u001b[0m \u001b[0mlr\u001b[0m\u001b[0;34m=\u001b[0m\u001b[0mlearning_rate\u001b[0m\u001b[0;34m)\u001b[0m\u001b[0;34m\u001b[0m\u001b[0;34m\u001b[0m\u001b[0m\n\u001b[0;32m--> 106\u001b[0;31m         run_training(model_ft, data_loaders, n_epoch=finetuning_epochs, log_interval=100,\n\u001b[0m\u001b[1;32m    107\u001b[0m                      optimizer=optimizer, checkpoint_path=None, resume=False)\n\u001b[1;32m    108\u001b[0m \u001b[0;34m\u001b[0m\u001b[0m\n",
            "\u001b[0;32m<ipython-input-43-84142f144d98>\u001b[0m in \u001b[0;36mrun_training\u001b[0;34m(model, data_loaders, n_epoch, log_interval, optimizer, scheduler, save_interval, resume, checkpoint_path, verbose)\u001b[0m\n\u001b[1;32m     98\u001b[0m \u001b[0;34m\u001b[0m\u001b[0m\n\u001b[1;32m     99\u001b[0m         \u001b[0;32mfor\u001b[0m \u001b[0mepoch\u001b[0m \u001b[0;32min\u001b[0m \u001b[0mrange\u001b[0m\u001b[0;34m(\u001b[0m\u001b[0mcompleted_epoch\u001b[0m\u001b[0;34m,\u001b[0m \u001b[0mn_epoch\u001b[0m \u001b[0;34m+\u001b[0m \u001b[0;36m1\u001b[0m\u001b[0;34m)\u001b[0m\u001b[0;34m:\u001b[0m\u001b[0;34m\u001b[0m\u001b[0;34m\u001b[0m\u001b[0m\n\u001b[0;32m--> 100\u001b[0;31m             \u001b[0mtrain\u001b[0m\u001b[0;34m(\u001b[0m\u001b[0mmodel\u001b[0m\u001b[0;34m,\u001b[0m \u001b[0mdata_loaders\u001b[0m\u001b[0;34m,\u001b[0m \u001b[0moptimizer\u001b[0m\u001b[0;34m,\u001b[0m \u001b[0mepoch\u001b[0m\u001b[0;34m,\u001b[0m \u001b[0mdevice\u001b[0m\u001b[0;34m,\u001b[0m \u001b[0mverbose\u001b[0m\u001b[0;34m)\u001b[0m\u001b[0;34m\u001b[0m\u001b[0;34m\u001b[0m\u001b[0m\n\u001b[0m\u001b[1;32m    101\u001b[0m             \u001b[0mtest\u001b[0m\u001b[0;34m(\u001b[0m\u001b[0mtest_loader\u001b[0m\u001b[0;34m,\u001b[0m \u001b[0mmodel\u001b[0m\u001b[0;34m,\u001b[0m \u001b[0mdevice\u001b[0m\u001b[0;34m,\u001b[0m \u001b[0mepoch\u001b[0m\u001b[0;34m=\u001b[0m\u001b[0;32mNone\u001b[0m\u001b[0;34m,\u001b[0m \u001b[0mloader_type\u001b[0m\u001b[0;34m=\u001b[0m\u001b[0;34m'Test'\u001b[0m\u001b[0;34m)\u001b[0m\u001b[0;34m\u001b[0m\u001b[0;34m\u001b[0m\u001b[0m\n\u001b[1;32m    102\u001b[0m \u001b[0;34m\u001b[0m\u001b[0m\n",
            "\u001b[0;32m/content/gdrive/MyDrive/ece5545/a2-jiayuangu762943/src/train_val_test_utils.py\u001b[0m in \u001b[0;36mtrain\u001b[0;34m(model, loaders, optimizer, epoch, device, verbose)\u001b[0m\n\u001b[1;32m    117\u001b[0m     \u001b[0mnum_batches\u001b[0m \u001b[0;34m=\u001b[0m \u001b[0mlen\u001b[0m\u001b[0;34m(\u001b[0m\u001b[0mtrain_loader\u001b[0m\u001b[0;34m)\u001b[0m\u001b[0;34m\u001b[0m\u001b[0;34m\u001b[0m\u001b[0m\n\u001b[1;32m    118\u001b[0m     \u001b[0mlosses\u001b[0m \u001b[0;34m=\u001b[0m \u001b[0;34m[\u001b[0m\u001b[0;34m]\u001b[0m\u001b[0;34m\u001b[0m\u001b[0;34m\u001b[0m\u001b[0m\n\u001b[0;32m--> 119\u001b[0;31m     \u001b[0;32mfor\u001b[0m \u001b[0mbatch_idx\u001b[0m\u001b[0;34m,\u001b[0m \u001b[0;34m(\u001b[0m\u001b[0mdata\u001b[0m\u001b[0;34m,\u001b[0m \u001b[0mtarget\u001b[0m\u001b[0;34m)\u001b[0m \u001b[0;32min\u001b[0m \u001b[0menumerate\u001b[0m\u001b[0;34m(\u001b[0m\u001b[0mtrain_loader\u001b[0m\u001b[0;34m)\u001b[0m\u001b[0;34m:\u001b[0m\u001b[0;34m\u001b[0m\u001b[0;34m\u001b[0m\u001b[0m\n\u001b[0m\u001b[1;32m    120\u001b[0m         \u001b[0;31m# Calculate iteration_index\u001b[0m\u001b[0;34m\u001b[0m\u001b[0;34m\u001b[0m\u001b[0m\n\u001b[1;32m    121\u001b[0m         \u001b[0miteration_index\u001b[0m \u001b[0;34m=\u001b[0m \u001b[0;34m(\u001b[0m\u001b[0mepoch\u001b[0m \u001b[0;34m-\u001b[0m \u001b[0;36m1\u001b[0m\u001b[0;34m)\u001b[0m \u001b[0;34m*\u001b[0m \u001b[0mnum_batches\u001b[0m \u001b[0;34m+\u001b[0m \u001b[0mbatch_idx\u001b[0m\u001b[0;34m\u001b[0m\u001b[0;34m\u001b[0m\u001b[0m\n",
            "\u001b[0;32m/usr/local/lib/python3.11/dist-packages/torch/utils/data/dataloader.py\u001b[0m in \u001b[0;36m__next__\u001b[0;34m(self)\u001b[0m\n\u001b[1;32m    706\u001b[0m                 \u001b[0;31m# TODO(https://github.com/pytorch/pytorch/issues/76750)\u001b[0m\u001b[0;34m\u001b[0m\u001b[0;34m\u001b[0m\u001b[0m\n\u001b[1;32m    707\u001b[0m                 \u001b[0mself\u001b[0m\u001b[0;34m.\u001b[0m\u001b[0m_reset\u001b[0m\u001b[0;34m(\u001b[0m\u001b[0;34m)\u001b[0m  \u001b[0;31m# type: ignore[call-arg]\u001b[0m\u001b[0;34m\u001b[0m\u001b[0;34m\u001b[0m\u001b[0m\n\u001b[0;32m--> 708\u001b[0;31m             \u001b[0mdata\u001b[0m \u001b[0;34m=\u001b[0m \u001b[0mself\u001b[0m\u001b[0;34m.\u001b[0m\u001b[0m_next_data\u001b[0m\u001b[0;34m(\u001b[0m\u001b[0;34m)\u001b[0m\u001b[0;34m\u001b[0m\u001b[0;34m\u001b[0m\u001b[0m\n\u001b[0m\u001b[1;32m    709\u001b[0m             \u001b[0mself\u001b[0m\u001b[0;34m.\u001b[0m\u001b[0m_num_yielded\u001b[0m \u001b[0;34m+=\u001b[0m \u001b[0;36m1\u001b[0m\u001b[0;34m\u001b[0m\u001b[0;34m\u001b[0m\u001b[0m\n\u001b[1;32m    710\u001b[0m             if (\n",
            "\u001b[0;32m/usr/local/lib/python3.11/dist-packages/torch/utils/data/dataloader.py\u001b[0m in \u001b[0;36m_next_data\u001b[0;34m(self)\u001b[0m\n\u001b[1;32m    762\u001b[0m     \u001b[0;32mdef\u001b[0m \u001b[0m_next_data\u001b[0m\u001b[0;34m(\u001b[0m\u001b[0mself\u001b[0m\u001b[0;34m)\u001b[0m\u001b[0;34m:\u001b[0m\u001b[0;34m\u001b[0m\u001b[0;34m\u001b[0m\u001b[0m\n\u001b[1;32m    763\u001b[0m         \u001b[0mindex\u001b[0m \u001b[0;34m=\u001b[0m \u001b[0mself\u001b[0m\u001b[0;34m.\u001b[0m\u001b[0m_next_index\u001b[0m\u001b[0;34m(\u001b[0m\u001b[0;34m)\u001b[0m  \u001b[0;31m# may raise StopIteration\u001b[0m\u001b[0;34m\u001b[0m\u001b[0;34m\u001b[0m\u001b[0m\n\u001b[0;32m--> 764\u001b[0;31m         \u001b[0mdata\u001b[0m \u001b[0;34m=\u001b[0m \u001b[0mself\u001b[0m\u001b[0;34m.\u001b[0m\u001b[0m_dataset_fetcher\u001b[0m\u001b[0;34m.\u001b[0m\u001b[0mfetch\u001b[0m\u001b[0;34m(\u001b[0m\u001b[0mindex\u001b[0m\u001b[0;34m)\u001b[0m  \u001b[0;31m# may raise StopIteration\u001b[0m\u001b[0;34m\u001b[0m\u001b[0;34m\u001b[0m\u001b[0m\n\u001b[0m\u001b[1;32m    765\u001b[0m         \u001b[0;32mif\u001b[0m \u001b[0mself\u001b[0m\u001b[0;34m.\u001b[0m\u001b[0m_pin_memory\u001b[0m\u001b[0;34m:\u001b[0m\u001b[0;34m\u001b[0m\u001b[0;34m\u001b[0m\u001b[0m\n\u001b[1;32m    766\u001b[0m             \u001b[0mdata\u001b[0m \u001b[0;34m=\u001b[0m \u001b[0m_utils\u001b[0m\u001b[0;34m.\u001b[0m\u001b[0mpin_memory\u001b[0m\u001b[0;34m.\u001b[0m\u001b[0mpin_memory\u001b[0m\u001b[0;34m(\u001b[0m\u001b[0mdata\u001b[0m\u001b[0;34m,\u001b[0m \u001b[0mself\u001b[0m\u001b[0;34m.\u001b[0m\u001b[0m_pin_memory_device\u001b[0m\u001b[0;34m)\u001b[0m\u001b[0;34m\u001b[0m\u001b[0;34m\u001b[0m\u001b[0m\n",
            "\u001b[0;32m/usr/local/lib/python3.11/dist-packages/torch/utils/data/_utils/fetch.py\u001b[0m in \u001b[0;36mfetch\u001b[0;34m(self, possibly_batched_index)\u001b[0m\n\u001b[1;32m     53\u001b[0m         \u001b[0;32melse\u001b[0m\u001b[0;34m:\u001b[0m\u001b[0;34m\u001b[0m\u001b[0;34m\u001b[0m\u001b[0m\n\u001b[1;32m     54\u001b[0m             \u001b[0mdata\u001b[0m \u001b[0;34m=\u001b[0m \u001b[0mself\u001b[0m\u001b[0;34m.\u001b[0m\u001b[0mdataset\u001b[0m\u001b[0;34m[\u001b[0m\u001b[0mpossibly_batched_index\u001b[0m\u001b[0;34m]\u001b[0m\u001b[0;34m\u001b[0m\u001b[0;34m\u001b[0m\u001b[0m\n\u001b[0;32m---> 55\u001b[0;31m         \u001b[0;32mreturn\u001b[0m \u001b[0mself\u001b[0m\u001b[0;34m.\u001b[0m\u001b[0mcollate_fn\u001b[0m\u001b[0;34m(\u001b[0m\u001b[0mdata\u001b[0m\u001b[0;34m)\u001b[0m\u001b[0;34m\u001b[0m\u001b[0;34m\u001b[0m\u001b[0m\n\u001b[0m",
            "\u001b[0;32m/content/gdrive/MyDrive/ece5545/a2-jiayuangu762943/src/loaders.py\u001b[0m in \u001b[0;36mcollate_fn_\u001b[0;34m(batch)\u001b[0m\n\u001b[1;32m     24\u001b[0m         \u001b[0;31m# added to the audio data except for silence.\u001b[0m\u001b[0;34m\u001b[0m\u001b[0;34m\u001b[0m\u001b[0m\n\u001b[1;32m     25\u001b[0m         \u001b[0;32mfor\u001b[0m \u001b[0mdict\u001b[0m \u001b[0;32min\u001b[0m \u001b[0mbatch\u001b[0m\u001b[0;34m:\u001b[0m\u001b[0;34m\u001b[0m\u001b[0;34m\u001b[0m\u001b[0m\n\u001b[0;32m---> 26\u001b[0;31m             data, label = audio_processor.get_data_from_file(\n\u001b[0m\u001b[1;32m     27\u001b[0m                 \u001b[0mdict\u001b[0m\u001b[0;34m,\u001b[0m \u001b[0mBACKGROUND_FREQUENCY\u001b[0m\u001b[0;34m,\u001b[0m \u001b[0mBACKGROUND_VOLUME_RANGE\u001b[0m\u001b[0;34m,\u001b[0m\u001b[0;31m \u001b[0m\u001b[0;31m\\\u001b[0m\u001b[0;34m\u001b[0m\u001b[0;34m\u001b[0m\u001b[0m\n\u001b[1;32m     28\u001b[0m                 TIME_SHIFT_SAMPLE, mode)\n",
            "\u001b[0;32m/content/gdrive/MyDrive/ece5545/a2-jiayuangu762943/src/data_proc.py\u001b[0m in \u001b[0;36mget_data_from_file\u001b[0;34m(self, sample, background_frequency, background_volume_range, time_shift, mode)\u001b[0m\n\u001b[1;32m    329\u001b[0m \u001b[0;34m\u001b[0m\u001b[0m\n\u001b[1;32m    330\u001b[0m     \u001b[0;31m# run the graph\u001b[0m\u001b[0;34m\u001b[0m\u001b[0;34m\u001b[0m\u001b[0m\n\u001b[0;32m--> 331\u001b[0;31m     self.prepare_processing_graph(wav_filename, foreground_volume, time_shift_offset, \\\n\u001b[0m\u001b[1;32m    332\u001b[0m         time_shift_padding, background_data, background_volume)\n\u001b[1;32m    333\u001b[0m     \u001b[0mdata_tensor\u001b[0m \u001b[0;34m=\u001b[0m \u001b[0mself\u001b[0m\u001b[0;34m.\u001b[0m\u001b[0moutput\u001b[0m\u001b[0;34m\u001b[0m\u001b[0;34m\u001b[0m\u001b[0m\n",
            "\u001b[0;32m/content/gdrive/MyDrive/ece5545/a2-jiayuangu762943/src/data_proc.py\u001b[0m in \u001b[0;36mprepare_processing_graph\u001b[0;34m(self, wav_filename, foreground_volume, time_shift_offset, time_shift_padding, background_data, background_volume)\u001b[0m\n\u001b[1;32m    535\u001b[0m     \u001b[0;31m# loads and decode a WAVE file\u001b[0m\u001b[0;34m\u001b[0m\u001b[0;34m\u001b[0m\u001b[0m\n\u001b[1;32m    536\u001b[0m     \u001b[0mdesired_samples\u001b[0m \u001b[0;34m=\u001b[0m \u001b[0mself\u001b[0m\u001b[0;34m.\u001b[0m\u001b[0mmodel_settings\u001b[0m\u001b[0;34m[\u001b[0m\u001b[0;34m'desired_samples'\u001b[0m\u001b[0;34m]\u001b[0m\u001b[0;34m\u001b[0m\u001b[0;34m\u001b[0m\u001b[0m\n\u001b[0;32m--> 537\u001b[0;31m     \u001b[0mwaveform\u001b[0m\u001b[0;34m,\u001b[0m \u001b[0msample_rate\u001b[0m \u001b[0;34m=\u001b[0m \u001b[0mtorchaudio\u001b[0m\u001b[0;34m.\u001b[0m\u001b[0mload\u001b[0m\u001b[0;34m(\u001b[0m\u001b[0mwav_filename\u001b[0m\u001b[0;34m,\u001b[0m \u001b[0mframe_offset\u001b[0m\u001b[0;34m=\u001b[0m\u001b[0;36m0\u001b[0m\u001b[0;34m,\u001b[0m \u001b[0mnum_frames\u001b[0m\u001b[0;34m=\u001b[0m\u001b[0mdesired_samples\u001b[0m\u001b[0;34m)\u001b[0m\u001b[0;34m\u001b[0m\u001b[0;34m\u001b[0m\u001b[0m\n\u001b[0m\u001b[1;32m    538\u001b[0m     \u001b[0mtotal_num_samples\u001b[0m\u001b[0;34m=\u001b[0m\u001b[0mwaveform\u001b[0m\u001b[0;34m.\u001b[0m\u001b[0mshape\u001b[0m\u001b[0;34m[\u001b[0m\u001b[0;36m1\u001b[0m\u001b[0;34m]\u001b[0m\u001b[0;34m\u001b[0m\u001b[0;34m\u001b[0m\u001b[0m\n\u001b[1;32m    539\u001b[0m     \u001b[0;32mif\u001b[0m \u001b[0mtotal_num_samples\u001b[0m \u001b[0;34m<\u001b[0m \u001b[0mdesired_samples\u001b[0m\u001b[0;34m:\u001b[0m\u001b[0;34m\u001b[0m\u001b[0;34m\u001b[0m\u001b[0m\n",
            "\u001b[0;32m/usr/local/lib/python3.11/dist-packages/torchaudio/_backend/utils.py\u001b[0m in \u001b[0;36mload\u001b[0;34m(uri, frame_offset, num_frames, normalize, channels_first, format, buffer_size, backend)\u001b[0m\n\u001b[1;32m    203\u001b[0m         \"\"\"\n\u001b[1;32m    204\u001b[0m         \u001b[0mbackend\u001b[0m \u001b[0;34m=\u001b[0m \u001b[0mdispatcher\u001b[0m\u001b[0;34m(\u001b[0m\u001b[0muri\u001b[0m\u001b[0;34m,\u001b[0m \u001b[0mformat\u001b[0m\u001b[0;34m,\u001b[0m \u001b[0mbackend\u001b[0m\u001b[0;34m)\u001b[0m\u001b[0;34m\u001b[0m\u001b[0;34m\u001b[0m\u001b[0m\n\u001b[0;32m--> 205\u001b[0;31m         \u001b[0;32mreturn\u001b[0m \u001b[0mbackend\u001b[0m\u001b[0;34m.\u001b[0m\u001b[0mload\u001b[0m\u001b[0;34m(\u001b[0m\u001b[0muri\u001b[0m\u001b[0;34m,\u001b[0m \u001b[0mframe_offset\u001b[0m\u001b[0;34m,\u001b[0m \u001b[0mnum_frames\u001b[0m\u001b[0;34m,\u001b[0m \u001b[0mnormalize\u001b[0m\u001b[0;34m,\u001b[0m \u001b[0mchannels_first\u001b[0m\u001b[0;34m,\u001b[0m \u001b[0mformat\u001b[0m\u001b[0;34m,\u001b[0m \u001b[0mbuffer_size\u001b[0m\u001b[0;34m)\u001b[0m\u001b[0;34m\u001b[0m\u001b[0;34m\u001b[0m\u001b[0m\n\u001b[0m\u001b[1;32m    206\u001b[0m \u001b[0;34m\u001b[0m\u001b[0m\n\u001b[1;32m    207\u001b[0m     \u001b[0;32mreturn\u001b[0m \u001b[0mload\u001b[0m\u001b[0;34m\u001b[0m\u001b[0;34m\u001b[0m\u001b[0m\n",
            "\u001b[0;32m/usr/local/lib/python3.11/dist-packages/torchaudio/_backend/ffmpeg.py\u001b[0m in \u001b[0;36mload\u001b[0;34m(uri, frame_offset, num_frames, normalize, channels_first, format, buffer_size)\u001b[0m\n\u001b[1;32m    295\u001b[0m         \u001b[0mbuffer_size\u001b[0m\u001b[0;34m:\u001b[0m \u001b[0mint\u001b[0m \u001b[0;34m=\u001b[0m \u001b[0;36m4096\u001b[0m\u001b[0;34m,\u001b[0m\u001b[0;34m\u001b[0m\u001b[0;34m\u001b[0m\u001b[0m\n\u001b[1;32m    296\u001b[0m     ) -> Tuple[torch.Tensor, int]:\n\u001b[0;32m--> 297\u001b[0;31m         \u001b[0;32mreturn\u001b[0m \u001b[0mload_audio\u001b[0m\u001b[0;34m(\u001b[0m\u001b[0muri\u001b[0m\u001b[0;34m,\u001b[0m \u001b[0mframe_offset\u001b[0m\u001b[0;34m,\u001b[0m \u001b[0mnum_frames\u001b[0m\u001b[0;34m,\u001b[0m \u001b[0mnormalize\u001b[0m\u001b[0;34m,\u001b[0m \u001b[0mchannels_first\u001b[0m\u001b[0;34m,\u001b[0m \u001b[0mformat\u001b[0m\u001b[0;34m)\u001b[0m\u001b[0;34m\u001b[0m\u001b[0;34m\u001b[0m\u001b[0m\n\u001b[0m\u001b[1;32m    298\u001b[0m \u001b[0;34m\u001b[0m\u001b[0m\n\u001b[1;32m    299\u001b[0m     \u001b[0;34m@\u001b[0m\u001b[0mstaticmethod\u001b[0m\u001b[0;34m\u001b[0m\u001b[0;34m\u001b[0m\u001b[0m\n",
            "\u001b[0;32m/usr/local/lib/python3.11/dist-packages/torchaudio/_backend/ffmpeg.py\u001b[0m in \u001b[0;36mload_audio\u001b[0;34m(src, frame_offset, num_frames, convert, channels_first, format, buffer_size)\u001b[0m\n\u001b[1;32m     86\u001b[0m     \u001b[0;32mif\u001b[0m \u001b[0mhasattr\u001b[0m\u001b[0;34m(\u001b[0m\u001b[0msrc\u001b[0m\u001b[0;34m,\u001b[0m \u001b[0;34m\"read\"\u001b[0m\u001b[0;34m)\u001b[0m \u001b[0;32mand\u001b[0m \u001b[0mformat\u001b[0m \u001b[0;34m==\u001b[0m \u001b[0;34m\"vorbis\"\u001b[0m\u001b[0;34m:\u001b[0m\u001b[0;34m\u001b[0m\u001b[0;34m\u001b[0m\u001b[0m\n\u001b[1;32m     87\u001b[0m         \u001b[0mformat\u001b[0m \u001b[0;34m=\u001b[0m \u001b[0;34m\"ogg\"\u001b[0m\u001b[0;34m\u001b[0m\u001b[0;34m\u001b[0m\u001b[0m\n\u001b[0;32m---> 88\u001b[0;31m     \u001b[0ms\u001b[0m \u001b[0;34m=\u001b[0m \u001b[0mtorchaudio\u001b[0m\u001b[0;34m.\u001b[0m\u001b[0mio\u001b[0m\u001b[0;34m.\u001b[0m\u001b[0mStreamReader\u001b[0m\u001b[0;34m(\u001b[0m\u001b[0msrc\u001b[0m\u001b[0;34m,\u001b[0m \u001b[0mformat\u001b[0m\u001b[0;34m,\u001b[0m \u001b[0;32mNone\u001b[0m\u001b[0;34m,\u001b[0m \u001b[0mbuffer_size\u001b[0m\u001b[0;34m)\u001b[0m\u001b[0;34m\u001b[0m\u001b[0;34m\u001b[0m\u001b[0m\n\u001b[0m\u001b[1;32m     89\u001b[0m     \u001b[0msample_rate\u001b[0m \u001b[0;34m=\u001b[0m \u001b[0mint\u001b[0m\u001b[0;34m(\u001b[0m\u001b[0ms\u001b[0m\u001b[0;34m.\u001b[0m\u001b[0mget_src_stream_info\u001b[0m\u001b[0;34m(\u001b[0m\u001b[0ms\u001b[0m\u001b[0;34m.\u001b[0m\u001b[0mdefault_audio_stream\u001b[0m\u001b[0;34m)\u001b[0m\u001b[0;34m.\u001b[0m\u001b[0msample_rate\u001b[0m\u001b[0;34m)\u001b[0m\u001b[0;34m\u001b[0m\u001b[0;34m\u001b[0m\u001b[0m\n\u001b[1;32m     90\u001b[0m     \u001b[0mfilter\u001b[0m \u001b[0;34m=\u001b[0m \u001b[0m_get_load_filter\u001b[0m\u001b[0;34m(\u001b[0m\u001b[0mframe_offset\u001b[0m\u001b[0;34m,\u001b[0m \u001b[0mnum_frames\u001b[0m\u001b[0;34m,\u001b[0m \u001b[0mconvert\u001b[0m\u001b[0;34m)\u001b[0m\u001b[0;34m\u001b[0m\u001b[0;34m\u001b[0m\u001b[0m\n",
            "\u001b[0;32m/usr/local/lib/python3.11/dist-packages/torio/io/_streaming_media_decoder.py\u001b[0m in \u001b[0;36m__init__\u001b[0;34m(self, src, format, option, buffer_size)\u001b[0m\n\u001b[1;32m    524\u001b[0m             \u001b[0mself\u001b[0m\u001b[0;34m.\u001b[0m\u001b[0m_be\u001b[0m \u001b[0;34m=\u001b[0m \u001b[0mffmpeg_ext\u001b[0m\u001b[0;34m.\u001b[0m\u001b[0mStreamingMediaDecoderFileObj\u001b[0m\u001b[0;34m(\u001b[0m\u001b[0msrc\u001b[0m\u001b[0;34m,\u001b[0m \u001b[0mformat\u001b[0m\u001b[0;34m,\u001b[0m \u001b[0moption\u001b[0m\u001b[0;34m,\u001b[0m \u001b[0mbuffer_size\u001b[0m\u001b[0;34m)\u001b[0m\u001b[0;34m\u001b[0m\u001b[0;34m\u001b[0m\u001b[0m\n\u001b[1;32m    525\u001b[0m         \u001b[0;32melse\u001b[0m\u001b[0;34m:\u001b[0m\u001b[0;34m\u001b[0m\u001b[0;34m\u001b[0m\u001b[0m\n\u001b[0;32m--> 526\u001b[0;31m             \u001b[0mself\u001b[0m\u001b[0;34m.\u001b[0m\u001b[0m_be\u001b[0m \u001b[0;34m=\u001b[0m \u001b[0mffmpeg_ext\u001b[0m\u001b[0;34m.\u001b[0m\u001b[0mStreamingMediaDecoder\u001b[0m\u001b[0;34m(\u001b[0m\u001b[0mos\u001b[0m\u001b[0;34m.\u001b[0m\u001b[0mpath\u001b[0m\u001b[0;34m.\u001b[0m\u001b[0mnormpath\u001b[0m\u001b[0;34m(\u001b[0m\u001b[0msrc\u001b[0m\u001b[0;34m)\u001b[0m\u001b[0;34m,\u001b[0m \u001b[0mformat\u001b[0m\u001b[0;34m,\u001b[0m \u001b[0moption\u001b[0m\u001b[0;34m)\u001b[0m\u001b[0;34m\u001b[0m\u001b[0;34m\u001b[0m\u001b[0m\n\u001b[0m\u001b[1;32m    527\u001b[0m \u001b[0;34m\u001b[0m\u001b[0m\n\u001b[1;32m    528\u001b[0m         \u001b[0mi\u001b[0m \u001b[0;34m=\u001b[0m \u001b[0mself\u001b[0m\u001b[0;34m.\u001b[0m\u001b[0m_be\u001b[0m\u001b[0;34m.\u001b[0m\u001b[0mfind_best_audio_stream\u001b[0m\u001b[0;34m(\u001b[0m\u001b[0;34m)\u001b[0m\u001b[0;34m\u001b[0m\u001b[0;34m\u001b[0m\u001b[0m\n",
            "\u001b[0;31mKeyboardInterrupt\u001b[0m: "
          ]
        }
      ]
    },
    {
      "cell_type": "code",
      "source": [
        ""
      ],
      "metadata": {
        "id": "SDyfgKpPL4HH"
      },
      "execution_count": null,
      "outputs": []
    }
  ],
  "metadata": {
    "colab": {
      "name": "6_pruning.ipynb",
      "provenance": [],
      "include_colab_link": true
    },
    "interpreter": {
      "hash": "eed6bdaff5cc743acd241b8f3fe4c5dc3266475018a66ac615ca19ad2f28387d"
    },
    "kernelspec": {
      "display_name": "Python 3",
      "name": "python3"
    },
    "language_info": {
      "name": "python"
    }
  },
  "nbformat": 4,
  "nbformat_minor": 0
}